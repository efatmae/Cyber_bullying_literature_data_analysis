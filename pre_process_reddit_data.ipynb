{
  "nbformat": 4,
  "nbformat_minor": 0,
  "metadata": {
    "colab": {
      "name": "pre-process_reddit_data.ipynb",
      "provenance": [],
      "collapsed_sections": [],
      "toc_visible": true,
      "authorship_tag": "ABX9TyM1qTvw2RXa4xZtSA/EcP1c",
      "include_colab_link": true
    },
    "kernelspec": {
      "name": "python3",
      "display_name": "Python 3"
    }
  },
  "cells": [
    {
      "cell_type": "markdown",
      "metadata": {
        "id": "view-in-github",
        "colab_type": "text"
      },
      "source": [
        "<a href=\"https://colab.research.google.com/github/efatmae/Cyber_bullying_literature_data_analysis/blob/master/pre_process_reddit_data.ipynb\" target=\"_parent\"><img src=\"https://colab.research.google.com/assets/colab-badge.svg\" alt=\"Open In Colab\"/></a>"
      ]
    },
    {
      "cell_type": "code",
      "metadata": {
        "id": "NxYuXOnJclGy",
        "colab_type": "code",
        "colab": {}
      },
      "source": [
        "import pandas as pd\n",
        "import numpy as np\n",
        "import glob"
      ],
      "execution_count": 2,
      "outputs": []
    },
    {
      "cell_type": "code",
      "metadata": {
        "id": "TtP4QpnEcsuA",
        "colab_type": "code",
        "colab": {
          "base_uri": "https://localhost:8080/",
          "height": 54
        },
        "outputId": "c8c8ea08-25a4-4686-a2e6-dc1fff957610"
      },
      "source": [
        "from google.colab import drive\n",
        "drive.mount('/content/drive')\n",
        "import os"
      ],
      "execution_count": 3,
      "outputs": [
        {
          "output_type": "stream",
          "text": [
            "Drive already mounted at /content/drive; to attempt to forcibly remount, call drive.mount(\"/content/drive\", force_remount=True).\n"
          ],
          "name": "stdout"
        }
      ]
    },
    {
      "cell_type": "markdown",
      "metadata": {
        "id": "mbXtyIIAFyPR",
        "colab_type": "text"
      },
      "source": [
        "# Process the body text \n",
        "1.   Removing special characters, new lines, https, deleted commnts..etc **(Function: clean_text)**\n",
        "2.   retunr the number of words for each post to e used for statistical analysis later **(Function: return_number_words_in_text_field)**\n",
        "\n"
      ]
    },
    {
      "cell_type": "code",
      "metadata": {
        "id": "T65Pdr0HcuaL",
        "colab_type": "code",
        "colab": {}
      },
      "source": [
        "def clean_text (dataFrame, text_field):\n",
        "  dataFrame[text_field] = dataFrame[text_field].str.replace(r'http(\\S)+', r'')\n",
        "  dataFrame[text_field] = dataFrame[text_field].str.replace(r'http ...', r'')\n",
        "\n",
        "  dataFrame[text_field] = [''.join([i if ord(i) < 128 else '' for i in str(text)]) for text in dataFrame[text_field]]\n",
        "  dataFrame[text_field] = dataFrame[text_field].str.replace(r'_[\\S]?',r'')\n",
        "\n",
        "  dataFrame[text_field] = dataFrame[text_field].str.replace(r'[ ]{2, }',r' ')\n",
        "  dataFrame[text_field] = dataFrame[text_field].str.replace(r'&amp;?',r'and')\n",
        "  dataFrame[text_field] = dataFrame[text_field].str.replace(r'&lt;',r'')\n",
        "  dataFrame[text_field] = dataFrame[text_field].str.replace(r'&gt;',r'')\n",
        "  dataFrame[text_field] = dataFrame[text_field].str.replace(r'\"',r'')\n",
        "  dataFrame[text_field] = dataFrame[text_field].str.replace(r'>',r'')\n",
        "  dataFrame[text_field] = dataFrame[text_field].str.replace(r'<',r'')\n",
        "  dataFrame[text_field] = dataFrame[text_field].str.replace(r'[',r'')\n",
        "  dataFrame[text_field] = dataFrame[text_field].str.replace(r']',r'')\n",
        "  dataFrame[text_field] = dataFrame[text_field].str.replace(r'?',r'')\n",
        "  dataFrame[text_field] = dataFrame[text_field].str.replace(r'\\n',r'')\n",
        "  dataFrame[text_field] = dataFrame[text_field].str.replace(r'\\t',r'')\n",
        "  dataFrame[text_field] = dataFrame[text_field].str.replace(r'\\r',r'')\n",
        "  dataFrame[text_field] = dataFrame[text_field].str.replace(r\":\",r'')\n",
        "  dataFrame[text_field] = dataFrame[text_field].str.replace(r'|',r'')\n",
        "  dataFrame[text_field] = dataFrame[text_field].str.replace(r'',r'')\n",
        "  dataFrame[text_field] = dataFrame[text_field].str.replace(r'/',r'')\n",
        "  dataFrame[text_field] = dataFrame[text_field].str.replace(r'(',r'')\n",
        "  dataFrame[text_field] = dataFrame[text_field].str.replace(r')',r'')\n",
        "  dataFrame[text_field] = dataFrame[text_field].str.replace(r'#',r'')\n",
        "  dataFrame[text_field] = dataFrame[text_field].str.replace(r';',r'')\n",
        "  dataFrame[text_field] = dataFrame[text_field].str.replace(r'!',r'')\n",
        "\n",
        "  dataFrame[text_field] = dataFrame[text_field].str.replace(r'([\\w\\d]+)([^\\w\\d ]+)', r'\\1 \\2')\n",
        "  dataFrame[text_field] = dataFrame[text_field].str.replace(r'([^\\w\\d ]+)([\\w\\d]+)', r'\\1 \\2')\n",
        "  \n",
        "  dataFrame[text_field] = dataFrame[text_field].str.lower()\n",
        "  dataFrame[text_field] = dataFrame[text_field].str.strip()\n",
        "\n",
        "  return dataFrame[text_field]"
      ],
      "execution_count": null,
      "outputs": []
    },
    {
      "cell_type": "code",
      "metadata": {
        "id": "i6DNrosVj1fm",
        "colab_type": "code",
        "colab": {}
      },
      "source": [
        "def return_number_words_in_text_field (dataFrame_text_field):\n",
        "  dataFrame_text_field_length = [len(str(text).split(' ')) for text in dataFrame_text_field]\n",
        "  return dataFrame_text_field_length"
      ],
      "execution_count": null,
      "outputs": []
    },
    {
      "cell_type": "code",
      "metadata": {
        "id": "YX9pZsK1lkpS",
        "colab_type": "code",
        "colab": {}
      },
      "source": [
        "def preprocess_text (csv_file,text_field):\n",
        "  data_df = pd.read_csv(csv_file, dtype='unicode', index_col=0)\n",
        "  print(\"length before cleaning\", len(data_df))\n",
        "  data_df = data_df[data_df[text_field]!= \"[deleted]\"]\n",
        "  data_df = data_df[data_df[text_field]!= \"\"]\n",
        "  data_df = data_df[data_df[text_field]!= \" \"]\n",
        "  data_df[\"clean_text\"] = clean_text (data_df, text_field)\n",
        "  data_df = data_df.dropna()\n",
        "  data_df = data_df.drop_duplicates(subset=[\"clean_text\"])\n",
        "  print(\"length after cleaning\", len(data_df))\n",
        "  data_df[\"clean_text_length\"] = return_number_words_in_text_field(data_df[\"clean_text\"])\n",
        "  data_df = data_df[data_df[\"clean_text_length\"] >= 3]\n",
        "  return data_df"
      ],
      "execution_count": null,
      "outputs": []
    },
    {
      "cell_type": "code",
      "metadata": {
        "id": "cwwOZ2qljeO8",
        "colab_type": "code",
        "colab": {}
      },
      "source": [
        "Reddit_csv_data_folder = \"/content//drive/My Drive/Colab_Notebooks/Reddit_data/Reddit_Data_CSV_2005-2012/\"\n",
        "Reddit_clean_csv_data_folder = \"/content//drive/My Drive/Colab_Notebooks/Reddit_data/Reddit_Clean_Data_CSV_2005_2012/\""
      ],
      "execution_count": null,
      "outputs": []
    },
    {
      "cell_type": "markdown",
      "metadata": {
        "id": "ixzhL_IMQk-K",
        "colab_type": "text"
      },
      "source": [
        "# Trial"
      ]
    },
    {
      "cell_type": "code",
      "metadata": {
        "id": "L5hoibNUnMi1",
        "colab_type": "code",
        "colab": {
          "base_uri": "https://localhost:8080/",
          "height": 53
        },
        "outputId": "d3d78131-ee42-4805-ce6d-a9405cb0bce1"
      },
      "source": [
        "clean_reddit_df_2005_12 = preprocess_text(Reddit_csv_data_folder+\"RC_2005-12_csv_parsed.csv\", \"body\")"
      ],
      "execution_count": null,
      "outputs": [
        {
          "output_type": "stream",
          "text": [
            "length before cleaning 1075\n",
            "length after cleaning 970\n"
          ],
          "name": "stdout"
        }
      ]
    },
    {
      "cell_type": "code",
      "metadata": {
        "id": "XohdJLFgoZGa",
        "colab_type": "code",
        "colab": {
          "base_uri": "https://localhost:8080/",
          "height": 204
        },
        "outputId": "de06a0b9-e1ab-4caf-f96f-ff257330b725"
      },
      "source": [
        "clean_reddit_df_2005_12.head(5)"
      ],
      "execution_count": null,
      "outputs": [
        {
          "output_type": "execute_result",
          "data": {
            "text/html": [
              "<div>\n",
              "<style scoped>\n",
              "    .dataframe tbody tr th:only-of-type {\n",
              "        vertical-align: middle;\n",
              "    }\n",
              "\n",
              "    .dataframe tbody tr th {\n",
              "        vertical-align: top;\n",
              "    }\n",
              "\n",
              "    .dataframe thead th {\n",
              "        text-align: right;\n",
              "    }\n",
              "</style>\n",
              "<table border=\"1\" class=\"dataframe\">\n",
              "  <thead>\n",
              "    <tr style=\"text-align: right;\">\n",
              "      <th></th>\n",
              "      <th>controversiality</th>\n",
              "      <th>body</th>\n",
              "      <th>score</th>\n",
              "      <th>ups</th>\n",
              "      <th>subreddit</th>\n",
              "      <th>clean_text</th>\n",
              "      <th>clean_text_length</th>\n",
              "    </tr>\n",
              "  </thead>\n",
              "  <tbody>\n",
              "    <tr>\n",
              "      <th>0</th>\n",
              "      <td>0</td>\n",
              "      <td>a look at vietnam and mexico exposes the myth ...</td>\n",
              "      <td>2</td>\n",
              "      <td>2</td>\n",
              "      <td>reddit.com</td>\n",
              "      <td>a look at vietnam and mexico exposes the myth ...</td>\n",
              "      <td>13</td>\n",
              "    </tr>\n",
              "    <tr>\n",
              "      <th>1</th>\n",
              "      <td>0</td>\n",
              "      <td>the site states what can i use it for meeting ...</td>\n",
              "      <td>1</td>\n",
              "      <td>1</td>\n",
              "      <td>reddit.com</td>\n",
              "      <td>the site states what can i use it for meeting ...</td>\n",
              "      <td>130</td>\n",
              "    </tr>\n",
              "    <tr>\n",
              "      <th>2</th>\n",
              "      <td>0</td>\n",
              "      <td>jython related topics by frank wierzbicki</td>\n",
              "      <td>0</td>\n",
              "      <td>0</td>\n",
              "      <td>reddit.com</td>\n",
              "      <td>jython related topics by frank wierzbicki</td>\n",
              "      <td>6</td>\n",
              "    </tr>\n",
              "    <tr>\n",
              "      <th>4</th>\n",
              "      <td>0</td>\n",
              "      <td>saft is by far the best extension you could ta...</td>\n",
              "      <td>1</td>\n",
              "      <td>1</td>\n",
              "      <td>reddit.com</td>\n",
              "      <td>saft is by far the best extension you could ta...</td>\n",
              "      <td>13</td>\n",
              "    </tr>\n",
              "    <tr>\n",
              "      <th>6</th>\n",
              "      <td>0</td>\n",
              "      <td>how to take panoramic shots simply</td>\n",
              "      <td>1</td>\n",
              "      <td>1</td>\n",
              "      <td>reddit.com</td>\n",
              "      <td>how to take panoramic shots simply</td>\n",
              "      <td>6</td>\n",
              "    </tr>\n",
              "  </tbody>\n",
              "</table>\n",
              "</div>"
            ],
            "text/plain": [
              "  controversiality  ... clean_text_length\n",
              "0                0  ...                13\n",
              "1                0  ...               130\n",
              "2                0  ...                 6\n",
              "4                0  ...                13\n",
              "6                0  ...                 6\n",
              "\n",
              "[5 rows x 7 columns]"
            ]
          },
          "metadata": {
            "tags": []
          },
          "execution_count": 118
        }
      ]
    },
    {
      "cell_type": "code",
      "metadata": {
        "id": "tbEsBFNfur9G",
        "colab_type": "code",
        "colab": {}
      },
      "source": [
        "sum_words_reddit_posts_2005_12 = sum(clean_reddit_df_2005_12[\"clean_text_length\"])\n",
        "no_reddit_posts_2005_12 = len(clean_reddit_df_2005_12)\n",
        "clean_reddit_df_2005_12.to_csv(\"RC_2005-12_csv_parsed.csv\",index=False)"
      ],
      "execution_count": null,
      "outputs": []
    },
    {
      "cell_type": "markdown",
      "metadata": {
        "id": "LZlGsO11H54l",
        "colab_type": "text"
      },
      "source": [
        "# End of trial\n",
        "\n",
        "\n"
      ]
    },
    {
      "cell_type": "code",
      "metadata": {
        "id": "STwvM7y0v77p",
        "colab_type": "code",
        "colab": {
          "base_uri": "https://localhost:8080/",
          "height": 341
        },
        "outputId": "909af257-edad-4d5e-ea0b-80a0548fa66d"
      },
      "source": [
        "all_files = glob.glob(\"/content//drive/My Drive/Colab_Notebooks/Reddit_data/Reddit_Data_CSV_2005-2012\" + \"/*\")\n",
        "data_stats_list = []\n",
        "for filepath in all_files:\n",
        "  filename = filepath.split('/')[-1]\n",
        "  print(filename)\n",
        "  clean_data_df = preprocess_text(filepath, \"body\")\n",
        "  sum_words_reddit_posts= sum(clean_data_df[\"clean_text_length\"])\n",
        "  no_reddit_posts= len(clean_data_df)\n",
        "  clean_data_df.to_csv(Reddit_clean_csv_data_folder+filename,index=False)\n",
        "  data_stat = {}\n",
        "  data_stat[\"file_name\"] = filename\n",
        "  data_stat[\"words_length_per_post\"] = sum_words_reddit_posts\n",
        "  data_stat[\"no_posts\"] = len(clean_data_df)\n",
        "  data_stats_list.append(data_stat)\n"
      ],
      "execution_count": null,
      "outputs": [
        {
          "output_type": "stream",
          "text": [
            "RC_2012-12_csv_parsed_4.csv\n",
            "length before cleaning 4259721\n",
            "length after cleaning 2577719\n",
            "RC_2012-12_csv_parsed_5.csv\n",
            "length before cleaning 3239226\n",
            "length after cleaning 2602428\n",
            "RC_2012-12_csv_parsed_6.csv\n",
            "length before cleaning 4230242\n",
            "length after cleaning 2596545\n",
            "RC_2012-12_csv_parsed_7.csv\n",
            "length before cleaning 3693071\n",
            "length after cleaning 2610901\n",
            "RC_2012-12_csv_parsed_8.csv\n",
            "length before cleaning 3892734\n",
            "length after cleaning 2598769\n",
            "RC_2012-12_csv_parsed_9.csv\n",
            "length before cleaning 3395296\n",
            "length after cleaning 2612796\n"
          ],
          "name": "stdout"
        }
      ]
    },
    {
      "cell_type": "markdown",
      "metadata": {
        "id": "mxjYbRP52qE1",
        "colab_type": "text"
      },
      "source": [
        "# Data Statistics"
      ]
    },
    {
      "cell_type": "code",
      "metadata": {
        "id": "dZA8w0RT3ET8",
        "colab_type": "code",
        "colab": {}
      },
      "source": [
        "Reddit_clean_csv_data_folder = \"/content//drive/My Drive/Colab_Notebooks/Reddit_data/Reddit_Clean_Data_CSV_2005_2012/\""
      ],
      "execution_count": 3,
      "outputs": []
    },
    {
      "cell_type": "code",
      "metadata": {
        "id": "_Jcb6R9f3w-B",
        "colab_type": "code",
        "colab": {}
      },
      "source": [
        "df = pd.read_csv(Reddit_clean_csv_data_folder+\"RC_2005-12_csv_parsed.csv\")"
      ],
      "execution_count": 4,
      "outputs": []
    },
    {
      "cell_type": "code",
      "metadata": {
        "id": "RDbhLFB64KKi",
        "colab_type": "code",
        "colab": {
          "base_uri": "https://localhost:8080/",
          "height": 68
        },
        "outputId": "457414f0-f059-4cd7-9574-1c8f2a7fea34"
      },
      "source": [
        "df.columns"
      ],
      "execution_count": 5,
      "outputs": [
        {
          "output_type": "execute_result",
          "data": {
            "text/plain": [
              "Index(['controversiality', 'body', 'score', 'ups', 'subreddit', 'clean_text',\n",
              "       'clean_text_length'],\n",
              "      dtype='object')"
            ]
          },
          "metadata": {
            "tags": []
          },
          "execution_count": 5
        }
      ]
    },
    {
      "cell_type": "code",
      "metadata": {
        "id": "7ZHz57ABztcU",
        "colab_type": "code",
        "colab": {}
      },
      "source": [
        "all_files = glob.glob(\"/content//drive/My Drive/Colab_Notebooks/Reddit_data/Reddit_Clean_Data_CSV_2005_2012\" + \"/*\")\n",
        "data_stats_list = []\n",
        "for filepath in all_files:\n",
        "  filename = filepath.split('/')[-1]\n",
        "  print(filename)\n",
        "  clean_data_df = pd.read_csv(Reddit_clean_csv_data_folder+filename)\n",
        "  sum_words_reddit_posts= sum(clean_data_df[\"clean_text_length\"])\n",
        "  no_reddit_posts= len(clean_data_df)\n",
        "  data_stat = {}\n",
        "  data_stat[\"file_name\"] = filename\n",
        "  data_stat[\"words_length_per_post\"] = sum_words_reddit_posts\n",
        "  data_stat[\"no_posts\"] = no_reddit_posts\n",
        "  data_stats_list.append(data_stat)\n",
        "data_stats_df = pd.DataFrame(data_stats_list)\n",
        "data_stats_df.to_csv(Reddit_clean_csv_data_folder+\"Reddit_clean_2005_2012_stats.csv\")"
      ],
      "execution_count": null,
      "outputs": []
    },
    {
      "cell_type": "code",
      "metadata": {
        "id": "ivzVByvg2Zic",
        "colab_type": "code",
        "colab": {}
      },
      "source": [
        "data_stat = pd.read_csv(Reddit_clean_csv_data_folder+\"Reddit_clean_2005_2012_stats.csv\", index_col=False)"
      ],
      "execution_count": 17,
      "outputs": []
    },
    {
      "cell_type": "code",
      "metadata": {
        "id": "xWmRKe2sGtGP",
        "colab_type": "code",
        "colab": {}
      },
      "source": [
        "data_stat [\"average_no_words\"] = data_stat[\"words_length_per_post\"] / data_stat[\"no_posts\"]"
      ],
      "execution_count": 27,
      "outputs": []
    },
    {
      "cell_type": "code",
      "metadata": {
        "id": "2GlhrGv3IbiT",
        "colab_type": "code",
        "colab": {
          "base_uri": "https://localhost:8080/",
          "height": 419
        },
        "outputId": "e904faaa-01fe-4100-ea96-c4616329759e"
      },
      "source": [
        "data_stat"
      ],
      "execution_count": 28,
      "outputs": [
        {
          "output_type": "execute_result",
          "data": {
            "text/html": [
              "<div>\n",
              "<style scoped>\n",
              "    .dataframe tbody tr th:only-of-type {\n",
              "        vertical-align: middle;\n",
              "    }\n",
              "\n",
              "    .dataframe tbody tr th {\n",
              "        vertical-align: top;\n",
              "    }\n",
              "\n",
              "    .dataframe thead th {\n",
              "        text-align: right;\n",
              "    }\n",
              "</style>\n",
              "<table border=\"1\" class=\"dataframe\">\n",
              "  <thead>\n",
              "    <tr style=\"text-align: right;\">\n",
              "      <th></th>\n",
              "      <th>Unnamed: 0</th>\n",
              "      <th>file_name</th>\n",
              "      <th>words_length_per_post</th>\n",
              "      <th>no_posts</th>\n",
              "      <th>average_no_words</th>\n",
              "    </tr>\n",
              "  </thead>\n",
              "  <tbody>\n",
              "    <tr>\n",
              "      <th>0</th>\n",
              "      <td>0</td>\n",
              "      <td>RC_2005-12_csv_parsed.csv</td>\n",
              "      <td>58683</td>\n",
              "      <td>915</td>\n",
              "      <td>64.134426</td>\n",
              "    </tr>\n",
              "    <tr>\n",
              "      <th>1</th>\n",
              "      <td>1</td>\n",
              "      <td>RC_2006-01_csv_parsed.csv</td>\n",
              "      <td>165590</td>\n",
              "      <td>3018</td>\n",
              "      <td>54.867462</td>\n",
              "    </tr>\n",
              "    <tr>\n",
              "      <th>2</th>\n",
              "      <td>2</td>\n",
              "      <td>RC_2006-02_csv_parsed.csv</td>\n",
              "      <td>433376</td>\n",
              "      <td>7285</td>\n",
              "      <td>59.488813</td>\n",
              "    </tr>\n",
              "    <tr>\n",
              "      <th>3</th>\n",
              "      <td>3</td>\n",
              "      <td>RC_2006-03_csv_parsed.csv</td>\n",
              "      <td>575272</td>\n",
              "      <td>11061</td>\n",
              "      <td>52.009041</td>\n",
              "    </tr>\n",
              "    <tr>\n",
              "      <th>4</th>\n",
              "      <td>4</td>\n",
              "      <td>RC_2006-04_csv_parsed.csv</td>\n",
              "      <td>969631</td>\n",
              "      <td>15805</td>\n",
              "      <td>61.349636</td>\n",
              "    </tr>\n",
              "    <tr>\n",
              "      <th>...</th>\n",
              "      <td>...</td>\n",
              "      <td>...</td>\n",
              "      <td>...</td>\n",
              "      <td>...</td>\n",
              "      <td>...</td>\n",
              "    </tr>\n",
              "    <tr>\n",
              "      <th>180</th>\n",
              "      <td>180</td>\n",
              "      <td>RC_2012-12_csv_parsed_5.csv</td>\n",
              "      <td>101594098</td>\n",
              "      <td>2542043</td>\n",
              "      <td>39.965531</td>\n",
              "    </tr>\n",
              "    <tr>\n",
              "      <th>181</th>\n",
              "      <td>181</td>\n",
              "      <td>RC_2012-12_csv_parsed_6.csv</td>\n",
              "      <td>101192582</td>\n",
              "      <td>2536493</td>\n",
              "      <td>39.894682</td>\n",
              "    </tr>\n",
              "    <tr>\n",
              "      <th>182</th>\n",
              "      <td>182</td>\n",
              "      <td>RC_2012-12_csv_parsed_7.csv</td>\n",
              "      <td>103582223</td>\n",
              "      <td>2549989</td>\n",
              "      <td>40.620655</td>\n",
              "    </tr>\n",
              "    <tr>\n",
              "      <th>183</th>\n",
              "      <td>183</td>\n",
              "      <td>RC_2012-12_csv_parsed_8.csv</td>\n",
              "      <td>97977331</td>\n",
              "      <td>2536691</td>\n",
              "      <td>38.624070</td>\n",
              "    </tr>\n",
              "    <tr>\n",
              "      <th>184</th>\n",
              "      <td>184</td>\n",
              "      <td>RC_2012-12_csv_parsed_9.csv</td>\n",
              "      <td>101955380</td>\n",
              "      <td>2554490</td>\n",
              "      <td>39.912225</td>\n",
              "    </tr>\n",
              "  </tbody>\n",
              "</table>\n",
              "<p>185 rows × 5 columns</p>\n",
              "</div>"
            ],
            "text/plain": [
              "     Unnamed: 0                    file_name  ...  no_posts  average_no_words\n",
              "0             0    RC_2005-12_csv_parsed.csv  ...       915         64.134426\n",
              "1             1    RC_2006-01_csv_parsed.csv  ...      3018         54.867462\n",
              "2             2    RC_2006-02_csv_parsed.csv  ...      7285         59.488813\n",
              "3             3    RC_2006-03_csv_parsed.csv  ...     11061         52.009041\n",
              "4             4    RC_2006-04_csv_parsed.csv  ...     15805         61.349636\n",
              "..          ...                          ...  ...       ...               ...\n",
              "180         180  RC_2012-12_csv_parsed_5.csv  ...   2542043         39.965531\n",
              "181         181  RC_2012-12_csv_parsed_6.csv  ...   2536493         39.894682\n",
              "182         182  RC_2012-12_csv_parsed_7.csv  ...   2549989         40.620655\n",
              "183         183  RC_2012-12_csv_parsed_8.csv  ...   2536691         38.624070\n",
              "184         184  RC_2012-12_csv_parsed_9.csv  ...   2554490         39.912225\n",
              "\n",
              "[185 rows x 5 columns]"
            ]
          },
          "metadata": {
            "tags": []
          },
          "execution_count": 28
        }
      ]
    },
    {
      "cell_type": "code",
      "metadata": {
        "id": "quqKxCrgGuSl",
        "colab_type": "code",
        "colab": {
          "base_uri": "https://localhost:8080/",
          "height": 34
        },
        "outputId": "a0ace922-e26f-415c-82ee-d83ebdfd12fe"
      },
      "source": [
        "Sum_all_words_in_all_posts = sum(data_stat[\"words_length_per_post\"])\n",
        "Sum_all_posts = sum(data_stat[\"no_posts\"])\n",
        "print(\"Average number of words csv file\", Sum_all_words_in_all_posts / Sum_all_posts)"
      ],
      "execution_count": 21,
      "outputs": [
        {
          "output_type": "stream",
          "text": [
            "Average number of words csv file 41.095684180357736\n"
          ],
          "name": "stdout"
        }
      ]
    },
    {
      "cell_type": "code",
      "metadata": {
        "id": "4PnOKPFTHMxF",
        "colab_type": "code",
        "colab": {
          "base_uri": "https://localhost:8080/",
          "height": 34
        },
        "outputId": "4675a34d-4e68-4c33-813d-dcb3bbdfdb4c"
      },
      "source": [
        "print(\"The total number of posts in Millions\", Sum_all_posts/1000000)"
      ],
      "execution_count": 30,
      "outputs": [
        {
          "output_type": "stream",
          "text": [
            "The total number of posts in Millions 369.401419\n"
          ],
          "name": "stdout"
        }
      ]
    },
    {
      "cell_type": "markdown",
      "metadata": {
        "id": "3LV902IAJDt9",
        "colab_type": "text"
      },
      "source": [
        "# Save posts into text files "
      ]
    },
    {
      "cell_type": "code",
      "metadata": {
        "id": "icu1gfC7JNoA",
        "colab_type": "code",
        "colab": {}
      },
      "source": [
        "def write_csv_files_to_text_file(data, file_name):\n",
        "    text_file = open(file_name,'w')\n",
        "    for i in data:\n",
        "        text_file.write(i+\"\\n\\n\")\n",
        "    text_file.close()    "
      ],
      "execution_count": 58,
      "outputs": []
    },
    {
      "cell_type": "code",
      "metadata": {
        "id": "x_UTH19dPxOL",
        "colab_type": "code",
        "colab": {}
      },
      "source": [
        "data_2005_2012 = pd.read_csv(Reddit_clean_csv_data_folder+\"RC_2005-12_csv_parsed.csv\", index_col=False)"
      ],
      "execution_count": 44,
      "outputs": []
    },
    {
      "cell_type": "code",
      "metadata": {
        "id": "oK0IhLkfQXMw",
        "colab_type": "code",
        "colab": {}
      },
      "source": [
        "write_csv_files_to_text_file(data_2005_2012[\"body\"],\"asdas\")"
      ],
      "execution_count": 59,
      "outputs": []
    },
    {
      "cell_type": "code",
      "metadata": {
        "id": "v0uLg6T9SZMI",
        "colab_type": "code",
        "colab": {
          "base_uri": "https://localhost:8080/",
          "height": 241
        },
        "outputId": "86d597a2-421a-45e1-868f-2389aadc4de4"
      },
      "source": [
        "! head 5 asdas"
      ],
      "execution_count": 60,
      "outputs": [
        {
          "output_type": "stream",
          "text": [
            "head: cannot open '5' for reading: No such file or directory\n",
            "==> asdas <==\n",
            "a look at vietnam and mexico exposes the myth of market liberalisation .\n",
            "\n",
            "the site states what can i use it for meeting notes , reports , technical specs sign - up sheets , proposals and much more ..., just like any other new breeed of sites that want us to store everything we have on the web . and they even guarantee multiple levels of security and encryption etc . but what prevents these web site operators fom accessing andor stealing meeting notes , reports , technical specs sign - up sheets , proposals and much more , for competitive or personal gains ... i am pretty sure that most of them are honest , but what ' s there to prevent me from setting up a good useful site and stealing all your data call me paranoid - i am .\n",
            "\n",
            "jython related topics by frank wierzbicki\n",
            "\n",
            "saft is by far the best extension you could tak onto your safari\n",
            "\n",
            "how to take panoramic shots simply\n",
            "\n"
          ],
          "name": "stdout"
        }
      ]
    },
    {
      "cell_type": "code",
      "metadata": {
        "id": "-rkZt3aEJvbb",
        "colab_type": "code",
        "colab": {}
      },
      "source": [
        "Text_files_folder = \"/content//drive/My Drive/Colab_Notebooks/Reddit_data/Reddit_Clean_Data_text_2005_2012/\"\n",
        "all_files = glob.glob(\"/content//drive/My Drive/Colab_Notebooks/Reddit_data/Reddit_Clean_Data_CSV_2005_2012\" + \"/*\")\n",
        "data_stats_list = []\n",
        "for filepath in all_files:\n",
        "  filename = filepath.split('/')[-1]\n",
        "  filename = filename.split('.')[0]\n",
        "  print(filename)\n",
        "  clean_data_df = pd.read_csv(filepath)\n",
        "  text_file_path = Text_files_folder+filename\n",
        "  print(\"Text file: \",text_file_path)\n",
        "  write_csv_files_to_text_file(clean_data_df[\"clean_text\"],text_file_path)\n",
        "  #!head -n 5 $text_file_path\n",
        "  #!tail -n 5 $text_file_path"
      ],
      "execution_count": null,
      "outputs": []
    },
    {
      "cell_type": "code",
      "metadata": {
        "id": "sEg-Q4ums-Q-",
        "colab_type": "code",
        "colab": {}
      },
      "source": [
        "#Compress the csv folder t osave disk space\n",
        "!tar -czvf \"/content//drive/My Drive/Colab_Notebooks/Reddit_data/Reddit_Clean_Data_CSV_2005_2012.tar.gz\"  \"/content//drive/My Drive/Colab_Notebooks/Reddit_data/Reddit_Clean_Data_text_2005_2012\""
      ],
      "execution_count": null,
      "outputs": []
    },
    {
      "cell_type": "code",
      "metadata": {
        "id": "7NifXsswLGP9",
        "colab_type": "code",
        "colab": {
          "base_uri": "https://localhost:8080/",
          "height": 1000
        },
        "outputId": "2a0714a7-9663-4f21-eb47-07e353f22bf9"
      },
      "source": [
        "all_files = glob.glob(\"/content//drive/My Drive/Colab_Notebooks/Reddit_data/Reddit_Clean_Data_text_2005_2012\" + \"/*\")\n",
        "for file in all_files:\n",
        "  print(\"File Nme:\" + file)\n",
        "  with open(file) as myfile:\n",
        "    head = [next(myfile) for x in range(5)]\n",
        "    print(head)\n",
        "  print(\"---------------------------------------------\")\n",
        "  #!tail -n 5 $file"
      ],
      "execution_count": 16,
      "outputs": [
        {
          "output_type": "stream",
          "text": [
            "File Nme:/content//drive/My Drive/Colab_Notebooks/Reddit_data/Reddit_Clean_Data_text_2005_2012/RC_2006-03_csv_parsed\n",
            "[\"it ' s not garbage , its fear mongering .\\n\", '\\n', \"actually , it ' s nice to have a new idea too , especially when you say stuff about how your thing is gonna do for the web what the mac did for the personal computer . if there was any evidence of that kind of thing to be smelled anywhere , i think you ' d find a little more willingness to wait and see on the execution .\\n\", '\\n', \"i ' ve read them , and they are not that funny . i would suggest you go to bash . org and read top 100 , those are much better .\\n\"]\n",
            "---------------------------------------------\n",
            "File Nme:/content//drive/My Drive/Colab_Notebooks/Reddit_data/Reddit_Clean_Data_text_2005_2012/RC_2006-04_csv_parsed\n",
            "['hmm . well , apparently 100 % of 23 year olds think any kind of sex is ok . 100 % of 24 year olds think casual sex is the gateway drug to satan . 100 % of 25 year olds think casual sex is ok . hmm . * inconclusive data * on 26 year olds . 27 year olds are completely split down the middle ...\\n', '\\n', \"here are my questions for you what do you think of his position on kosovo do you agree what do you think of his position on afghanistan do you agree what do you think of his defense of the khmer rouge do you agree have you read american power and the new mandarinsi have no idea , since i haven ' t read anything by him on these issues .  now that you ' ve given me pointers , i ' ll see what i can find .\\n\", '\\n', \"you had me at voluptuous ... '-}\\n\"]\n",
            "---------------------------------------------\n",
            "File Nme:/content//drive/My Drive/Colab_Notebooks/Reddit_data/Reddit_Clean_Data_text_2005_2012/RC_2006-05_csv_parsed\n",
            "[\"if dylan had stuck to its prefix syntax , we would ' ve had that .\\n\", '\\n', 'common lisp , c ++\\n', '\\n', 'considering all the generals commenting on rumsfeld were retired , what is seriously wrong\\n']\n",
            "---------------------------------------------\n",
            "File Nme:/content//drive/My Drive/Colab_Notebooks/Reddit_data/Reddit_Clean_Data_text_2005_2012/RC_2006-06_csv_parsed\n",
            "['do not go gently into that good night , blog , blog against the dying of the light .\\n', '\\n', 'pica edited his comment to be more accurate , so i will now remove my complaint .  thanks pica .\\n', '\\n', 'migrant mother sheds her wrinkles many of these photos can be saved with the help of photoshop .\\n']\n",
            "---------------------------------------------\n",
            "File Nme:/content//drive/My Drive/Colab_Notebooks/Reddit_data/Reddit_Clean_Data_text_2005_2012/RC_2006-07_csv_parsed\n",
            "[\"although i normally think all deeply religious people are insane and the moderates lemmings , i do ' like ' the amish people . they ' re like a mad scientist , dangerous in real life , but very cool to see on tv .\\n\", '\\n', \"some friends and i are working on a way of dealing with silicon valley urban sprawl by starting an intentional community   we ' re working toward buying an apartment complex as a group , from what the lawyer and lender we ' ve been working with have given us , it appears doable as a tic in mountain view .\\n\", '\\n', \"i ' m going to patent flying cars . that way , once a genius comes around and actually * invents * flying cars , i can sue him for stealing my idea\\n\"]\n",
            "---------------------------------------------\n",
            "File Nme:/content//drive/My Drive/Colab_Notebooks/Reddit_data/Reddit_Clean_Data_text_2005_2012/RC_2006-08_csv_parsed\n",
            "[\"the christian reply will be that the anonized bible is infaillable , and that your version isn ' t canon and therefore faillable\\n\", '\\n', \"just look at alins previous postsfreakin propaganda and he ' s flooding reddit with crap and lies .\\n\", '\\n', 'well , i guess that depends on whether you regard html as being related to programming or not . because in case you do , even jakob nielsen will chuckle at that joke ... -\\n']\n",
            "---------------------------------------------\n",
            "File Nme:/content//drive/My Drive/Colab_Notebooks/Reddit_data/Reddit_Clean_Data_text_2005_2012/RC_2005-12_csv_parsed\n",
            "['a look at vietnam and mexico exposes the myth of market liberalisation .\\n', '\\n', \"the site states what can i use it for meeting notes , reports , technical specs sign - up sheets , proposals and much more ..., just like any other new breeed of sites that want us to store everything we have on the web . and they even guarantee multiple levels of security and encryption etc . but what prevents these web site operators fom accessing andor stealing meeting notes , reports , technical specs sign - up sheets , proposals and much more , for competitive or personal gains ... i am pretty sure that most of them are honest , but what ' s there to prevent me from setting up a good useful site and stealing all your data call me paranoid - i am .\\n\", '\\n', 'jython related topics by frank wierzbicki\\n']\n",
            "---------------------------------------------\n",
            "File Nme:/content//drive/My Drive/Colab_Notebooks/Reddit_data/Reddit_Clean_Data_text_2005_2012/RC_2006-09_csv_parsed\n",
            "[\"this is untested territory legally - i can ' t wait to see what happens to the first entity who exploits someone ' s uploaded work in a way the creator doesn ' t like andor makes loads of money from it and doesn ' t pay the creator anything . to give them the benefit of the doubt , i think most sharing site included scary - sounding tos to protect themselves from some uploader being a jerk hey , there ' s an ad on the same page as my stuff , i never agreed to that , i ' m suing youarguably , these sites have paid their contributors by doing unpaid promotion work and providing hosting .  anyone have any idea how much it would cost an individual to host and promote a video such that it reaches millions of people  i think one of these sites will cross a line - e . g . put out a cddvd that makes millions and pay nothing to the contributors .  then we ' ll see what happens as lawyers see an opportunity to chase big bucks through the courts .\\n\", '\\n', \"not anymore .  not sure when they started , but now they routinely marry amish from other areas of the us to prevent this . i used to see much evidence of inbreeding , retardation , club feet , etc , when i would visit amish communities 30 years ago , but i haven ' t seen anything like that for years .\\n\", '\\n', \"if you ' re wishing for other good circa - 1980s technology , the development tools in squeak blow away eclipse , emacs sad to  say et al . that ' s probably why there ' s so much * awesome * software written in smalltalk .\\n\"]\n",
            "---------------------------------------------\n",
            "File Nme:/content//drive/My Drive/Colab_Notebooks/Reddit_data/Reddit_Clean_Data_text_2005_2012/RC_2006-01_csv_parsed\n",
            "['early 2006 a probable date\\n', '\\n', \"if you are going to post something that has a link to the original author , why not just post the original instead of someone ' s copy\\n\", '\\n', \"microsoft hates it ' s own productswho knew\\n\"]\n",
            "---------------------------------------------\n",
            "File Nme:/content//drive/My Drive/Colab_Notebooks/Reddit_data/Reddit_Clean_Data_text_2005_2012/RC_2006-02_csv_parsed\n",
            "['than the title suggests .  whoops .\\n', '\\n', \"thank you , willis3000 .  this seems to be bunk  self - discipline doesn ' t standard - deviation out well .  how do you measure it   it , unlike iq , is highly subjective , and non - controversial .  perhaps more importantly , a two year study of eighth graders is just crap .   if they check back in in twenty years or so , this would perhaps have a shred of validity , but not a heck of a lot happens with eighth graders .  they tend not to start companies , write code or even novels , for whatever reason .   i agree fundamentally that self - discipline is important , but even the most disciplined person cannot teach themselves eg , lisp , if they lack the cerebral capacity .\\n\", '\\n', 'this was the first paul graham article i read that brought me to the realisation that , like many bright people , paul does not realise the boundary where the intelligence of his insights cease . not terrible .  but it really did bring me to the opinion that paul is oblivious about at least some of his own limitations .\\n']\n",
            "---------------------------------------------\n",
            "File Nme:/content//drive/My Drive/Colab_Notebooks/Reddit_data/Reddit_Clean_Data_text_2005_2012/RC_2006-10_csv_parsed\n",
            "[\"it ' s called touch , use it some day . you ' d do a more convincing job if you ' d reminded me that whiskers are sensitive to air currents .\\n\", '\\n', \"pushing forward and getting out of the kill zone of the ambushthis indicates that it ' s not us troops who have the control of the territory . when they go outside , they are the prey . when convoy is attacked , fighting continues and attackers are in control and us forces defensive until reinforcements arrive . in the vietnam war us troops could go to the movies , sit in the bars and walk on the streets in the areas controlled by south . it seems that us friendly locals are not controlling any areas in iraq sans us bases .\\n\", '\\n', \"the author of q likes it for being with some mathematical assurance more general than normal evaluation methods .  i can ' t say that it ' s good , but i can say that it ' s different .\\n\"]\n",
            "---------------------------------------------\n",
            "File Nme:/content//drive/My Drive/Colab_Notebooks/Reddit_data/Reddit_Clean_Data_text_2005_2012/RC_2006-11_csv_parsed\n",
            "[\"the message is ' it ' s better to wait until you ' re married to bear or father children ,'  horn said . the only 100 % effective way of getting there is abstinence . abortion\\n\", '\\n', \"i ' ve seen a few of these stories over the last couple of days .  why is it in every case votes for democrats are incorrectly showing up as votes for republicans  why are none the other way around\\n\", '\\n', 'my halloween display is the spanish inquisition . confess confess confess\\n']\n",
            "---------------------------------------------\n",
            "File Nme:/content//drive/My Drive/Colab_Notebooks/Reddit_data/Reddit_Clean_Data_text_2005_2012/RC_2006-12_csv_parsed\n",
            "[\"thanks for the link , but i ' m not satisfied . the scientist in that article also just made the claim without citing any studies . i suspect this has reached the level of being an urban legend . the wikipedia article  states that while there is consensus about men ' s iq varying more , there is no consensus when it comes to average iq . edit fixed formating and a typo\\n\", '\\n', \"even today some of monty pythons sketches are pretty daring .  i imagine that there would be plenty of people today that would be put out by the first sketch ' hitler in england ' or by ' the dirty vicar '\\n\", '\\n', \"your link isn ' t talking about the same thing that bhauth mentioned . bhauth is referencing studies of identical twins raised separately -- this is a very good way of separating out nurture from nature . your link references a study debunking some sort of twin study i ' ve never heard about -- looking at the correlation between fraternal twins and identical twins , raised together . i can certainly see where that sort of twin study is going , but sounds much more suspect to me .\\n\"]\n",
            "---------------------------------------------\n",
            "File Nme:/content//drive/My Drive/Colab_Notebooks/Reddit_data/Reddit_Clean_Data_text_2005_2012/RC_2007-01_csv_parsed\n",
            "[\"in the city i live in , i probably am .  might even be the entire island .  ah well .  it ' s one thing to know that somewhere , out there over the internet , there are many like me .  it ' s another thing to know someone , in my everyday life off the internet , who is like me too . pixels on a screen just aren ' t enough . life is a sadness .  but what else can we do but live it  life is a happiness .  but what else can we do but endure it\\n\", '\\n', \"actually , you ' re incorrect . my post was first , within one minute of the story being posted live on yahoo . i did a search on it and also distinctly remember seeing your post with fewer minutes ago than mine in the new list . regardless , i ' m sorry if this was your best post that got buried . it didn ' t make my top 50 in terms of points for the year anyway .\\n\", '\\n', \"yeah , this was pretty weird . you can ' t bring a cameraphone into a courthouse here in the us i find it hard to believe the video was done without the knowledge and consent of the people in charge .\\n\"]\n",
            "---------------------------------------------\n",
            "File Nme:/content//drive/My Drive/Colab_Notebooks/Reddit_data/Reddit_Clean_Data_text_2005_2012/RC_2007-02_csv_parsed\n",
            "[\"hehe . looks like sbcl has the edge in numerics on the shootout but otherwise its a bit of a wash ' cept the memory overhead of sbcl programs .... hmm , we really should submit some bytestring - based entries .\\n\", '\\n', \"redneck philosophy1 .  if it moves , shoot it . 2 .  if it ' s sudsy , drink it . 3 .  if it ' s related , fuck it .\\n\", '\\n', \"i should add that the pringle list was made in 1984 , and was specifically limited to modern post - wwii science fiction , so if your favorite h . g . wells or iain banks novel is missing , that ' s why .\\n\"]\n",
            "---------------------------------------------\n",
            "File Nme:/content//drive/My Drive/Colab_Notebooks/Reddit_data/Reddit_Clean_Data_text_2005_2012/RC_2007-03_csv_parsed\n",
            "['flouride , good . holistic dentistry wackos and the weston a . price foundation , bad .\\n', '\\n', '* clerks * anyone\\n', '\\n', \"it ' s even surprising that you had to * explain * your comment . that ' s why i say that some atheists and such are far more emotional and intolerant than religious zealots .\\n\"]\n",
            "---------------------------------------------\n",
            "File Nme:/content//drive/My Drive/Colab_Notebooks/Reddit_data/Reddit_Clean_Data_text_2005_2012/RC_2007-04_csv_parsed\n",
            "['but you are morbidly obese , right\\n', '\\n', 'how to start your own adult toy store business online for free\\n', '\\n', \"peanut butter the atheist ' s worst nightmare\\n\"]\n",
            "---------------------------------------------\n",
            "File Nme:/content//drive/My Drive/Colab_Notebooks/Reddit_data/Reddit_Clean_Data_text_2005_2012/RC_2007-05_csv_parsed\n",
            "['too late - there is already a hexadecimal represetation of your instructions knocking around the web , causing quite a stir . remember , it is the creative content , and not how it is represented or stored that counts .\\n', '\\n', 'shit . even an 89 should be able to figure that one out .\\n', '\\n', 'did anyone else get homosexual vibes while reading this\\n']\n",
            "---------------------------------------------\n",
            "File Nme:/content//drive/My Drive/Colab_Notebooks/Reddit_data/Reddit_Clean_Data_text_2005_2012/RC_2007-06_csv_parsed\n",
            "['there is a story on the ap wire quoting gen . ray odierno instructing his commanders in iraq to contact insurgent groups in search of possible cease - fires in the sectarian war . this is profoundly important and represents the single best hope for a positive outcome in iraq .\\n', '\\n', 'this is currently on the front page\\n', '\\n', \"let ' s see it detect that my secondary monitor is left of my primary monitor ... then i ' ll be impressed -\\n\"]\n",
            "---------------------------------------------\n",
            "File Nme:/content//drive/My Drive/Colab_Notebooks/Reddit_data/Reddit_Clean_Data_text_2005_2012/RC_2007-07_csv_parsed\n",
            "[\"it ' s minimalist anime .\\n\", '\\n', \"i definatley got a call to power vibe from it , especially the church parts . i don ' t care what anyone else says , that game was awesome =\\n\", '\\n', \"if i do that repeatedly , it differs by word size * 2 ** 20 , as expected . it * does * do some unknown allocation and doesn ' t grow back though . i know python keeps numbers upto ~ 120 around so that identity is true , but i don ' t know what else it does that might produce the overhead . the overhead here is 3 times the word size per element in addition to the array which is 1 word size per element . edit these 3 words 32 bit on my box could be the integer value itself plus some class data for int types ... i think python does produce all numbers , then keeps them around . i ' m not sure though ... well , there ' s the array module\\n\"]\n",
            "---------------------------------------------\n",
            "File Nme:/content//drive/My Drive/Colab_Notebooks/Reddit_data/Reddit_Clean_Data_text_2005_2012/RC_2007-08_csv_parsed\n",
            "[\"why is something better than nothing atheism doesn ' t answer your question and the god did it does not answer the why\\n\", '\\n', \"finally , a virus that doesn ' t destroy your machine , just does enough to make you cry and move on .\\n\", '\\n', \"no epithets were used , but that ' s one of the most racist speeches i ' ve ever heard .\\n\"]\n",
            "---------------------------------------------\n",
            "File Nme:/content//drive/My Drive/Colab_Notebooks/Reddit_data/Reddit_Clean_Data_text_2005_2012/RC_2007-09_csv_parsed\n",
            "[\"that ' s the best defense he can come up with\\n\", '\\n', 'voices of descent\\n', '\\n', 'let him ride it outwho are you suggesting this towhen it comes down to it , unless he is impeached which is almost certainly not going to happen , the only person who has an actual say in whether to let him ride it out or not is the senator himself .\\n']\n",
            "---------------------------------------------\n",
            "File Nme:/content//drive/My Drive/Colab_Notebooks/Reddit_data/Reddit_Clean_Data_text_2005_2012/RC_2007-10_csv_parsed\n",
            "['to voicer samuel hemphill . i am sorry you are so hateful . the last i checked the issues you talked ablot are isolated .. ther are hate crimes all over the world . but your wish for an asin nation taking us over .. when is the last time asians accapted african american into their neighborhood\\n', '\\n', \"even mentally retarded people are sentient . most that you ' re familiar with are , to one degree or another . however , there are some arguably not so . they ' re still people though , and even though it might be inconvenient , you don ' t stop caring for them , you don ' t euthanize them . it may be pointless discussing a definition of life with a religiobot . a atheist . b it ' s not the definition of life , something that biology gets to decide . they ' re still uncertain if viruses should really count , but on the issue of a 1 celled zygote , they ' re unanimous . the definition in question is not of life , but personhood . so , you ' re so * very * wrong on all of it .\\n\", '\\n', \"i can only repeat that contrary to what you ' re assuming , you do need explicit permission to alter the author ' s license offerand i can only repeat that there is not some magical license offer document here , and that modifying the file as permitted by one of the licenses does not constitute re - licensing , does not constitute removing the license and does not constitute changing the license . the license under which you received the software was one of1 . the bsd license , or2 . the gnu gpl , version 2 . no other terms can apply . no other restrictions can apply . the only terms which apply are those of the license you accept . again read what i ' ve written about the consequences of this . the barest minimum consequence which can come out of your argument is that , despite the offer of gpl , it ' s not legal for anyone to distribute the software under gpl your magical immutable license offer which must be passed on would constitute a restriction not present in the terms of the gpl , and thus any gpl distributor who passes on a requirement to preserve it would breach the gpl in so doing . the further consequence of this would be that it is not possible for ny piece of software , originally offered under a choice of bsd or gpl by the author , to be legally distributed under the gpl by any licensee . are you truly arguing for , and prepared to accept , that consequence or are you willing to step back and realize that this contradiction with actual reality -- where it s possible to dual license and distribute under either offered license -- points to a problem in the concept of the magically immutable license offer\\n\"]\n",
            "---------------------------------------------\n",
            "File Nme:/content//drive/My Drive/Colab_Notebooks/Reddit_data/Reddit_Clean_Data_text_2005_2012/RC_2007-11_csv_parsed\n",
            "[\"some of the linux distros , as well as bsd , make this really easy . you don ' t need to tweak anything , it ' s ready to compile . i don ' t bother with it myself .\\n\", '\\n', \"don ' t you think there ' s a line sometimes blurry between free speech and harassment  would it be ok for me to express my opinions through a megaphone outside your window at 3 in the morning\\n\", '\\n', \"if you open a standard 600cca car battery , you ' ll find six lead - acid cells in series .\\n\"]\n",
            "---------------------------------------------\n",
            "File Nme:/content//drive/My Drive/Colab_Notebooks/Reddit_data/Reddit_Clean_Data_text_2005_2012/RC_2007-12_csv_parsed\n",
            "[\"the fact remains that chavez does not understand economics . he ' s imposed price controls and now even toilet paper is short . the government blames hoarding -- yeah , that ' s what happens when you impose price controls . the better way to help poor people is to ** give them money **. if you ' re afraid they ' ll waste their money on drugs , give them ** vouchers **. further , chavez heavily subsidizes oil which is actually costing enormous amounts of money . chavez will never make any progress while he continues to work against economics . the ruling elites don ' t rule the country anymore . i ' d be more worried about who is holding chavez and his guys accountableby the way , i ' m a hardcore liberal , but i understand that economics and progressive policies can be consistent gravel understand s this as well -- vouchers for healthcare , taxes on gasoline , ect .\\n\", '\\n', \"why we admired him most ` never be afraid risk it all believe in yourself '\\n\", '\\n', 'no , mom noooooooooooooooooooooooo\\n']\n",
            "---------------------------------------------\n",
            "File Nme:/content//drive/My Drive/Colab_Notebooks/Reddit_data/Reddit_Clean_Data_text_2005_2012/RC_2008-01_csv_parsed\n",
            "[\"wow , you ' re a buzz - kill .\\n\", '\\n', 'time to hang out with a different crowd there , 1smartass .\\n', '\\n', \"you can march for me . i ' m going to a party and having some fun .\\n\"]\n",
            "---------------------------------------------\n",
            "File Nme:/content//drive/My Drive/Colab_Notebooks/Reddit_data/Reddit_Clean_Data_text_2005_2012/RC_2008-02_csv_parsed\n",
            "[\"did they tell homeless o ' reilly is hoarding crack and booze\\n\", '\\n', 'actually digg is far less anti - semitic than reddit .\\n', '\\n', 'was i the only one who pretended their cursor was a little space ship traveling at warp 1 . 5\\n']\n",
            "---------------------------------------------\n",
            "File Nme:/content//drive/My Drive/Colab_Notebooks/Reddit_data/Reddit_Clean_Data_text_2005_2012/RC_2008-03_csv_parsed\n",
            "['what conditions would have to be met in order for the u . s . led invasion of iraq to be considered a genocide\\n', '\\n', \"you missed his theirthey ' re mixup .\\n\", '\\n', 'i think you think you are more clever than you actually are . you come off as obnoxious .\\n']\n",
            "---------------------------------------------\n",
            "File Nme:/content//drive/My Drive/Colab_Notebooks/Reddit_data/Reddit_Clean_Data_text_2005_2012/RC_2008-04_csv_parsed\n",
            "[\"i always thought why would be answered one day by some form of it had to be this way because of the essential consistency between all of the properties of existence .  some kind of meta - circular recursive kind of self - reinforcing structure that couldn ' t possibly be any other way .  and then everything would make sense .  but possibly that is my own pet religion masquerading as a possibly reasonable possibility .\\n\", '\\n', \"turn off your television . cancel your cable . you ' ve bought into the biggest crock of shit ever put before man . in case you haven ' t noticed programming suxx0rs and isn ' t improving . prices are escalating . and for whatflat earth in 3dreality programming9 million police procedurals . the entertainment industry is as bankrupt as the mortgage and credit banking industry . and yet , if you ' ll just take a taste they ' ll promise you ecstasy for only a limited upcharge a month .  bah\\n\", '\\n', 'we did , last year they were ok , this year they were horrendous\\n']\n",
            "---------------------------------------------\n",
            "File Nme:/content//drive/My Drive/Colab_Notebooks/Reddit_data/Reddit_Clean_Data_text_2005_2012/RC_2008-05_csv_parsed\n",
            "[\"i need to print up a pamphlet of facts that can disconnect people from their trust of government . as a very wise , successful union organizer named al evanoff taught me , when i had a similar impulse , paper doesn ' t organize people . people organize people . it turned out to be some of the best advice i ever heard . believe it nothing takes the place of face - to - face organizing . there are no shortcuts . but when long - term , serous organizing works right , each one you reach in turn reaches another , and so on and so on . is there any better time to start than now\\n\", '\\n', 'its the adrenalin , can you imagine the excitement there , well i cant but looks interesting\\n', '\\n', 'statistically , 51 % of you voted for him .\\n']\n",
            "---------------------------------------------\n",
            "File Nme:/content//drive/My Drive/Colab_Notebooks/Reddit_data/Reddit_Clean_Data_text_2005_2012/RC_2008-06_csv_parsed\n",
            "['sex education from the internet1 . fuck it . 2 . fuck it . 3 . fucking thing sucks4 . right behind you\\n', '\\n', \"interesting that you ' d want to tell the up to 34 % of the population who voted against him during the years he ' s run to fuck off as well .  also , i doubt you ' ve explored the pros and cons of his opponents over the years .  your pronouncement is useless and lacking a basis in clear judgement .\\n\", '\\n', \"yes , you mentioned current rainfall . although as i pointed out it was a meaningless point to make . it ' s called a joke .\\n\"]\n",
            "---------------------------------------------\n",
            "File Nme:/content//drive/My Drive/Colab_Notebooks/Reddit_data/Reddit_Clean_Data_text_2005_2012/RC_2008-07_csv_parsed\n",
            "[\"why just the conservatives  can ' t we stop the anti - science liberals as well\\n\", '\\n', 'career options tend to be limited for a 20 - year - old college student ...\\n', '\\n', \"i don ' t know how it works in the uk , but in the us a defense lawyer could most likely get ahold of any cctv footage .\\n\"]\n",
            "---------------------------------------------\n",
            "File Nme:/content//drive/My Drive/Colab_Notebooks/Reddit_data/Reddit_Clean_Data_text_2005_2012/RC_2008-08_csv_parsed\n",
            "['lol ... ingenious .\\n', '\\n', 'no , the brits eat cadbury\\n', '\\n', \"not to drag this on , but ... it is deceitful to argue that similar industries should have similar profit margins . never did that . do you really expect the same profit margin when selling 8 million coca colas or 10 ferraristhat was the whole point of comparing roas across industry , to illustrate this idea .  and for the record , ferrari had a profit margin of 15 . 9 % last year while coke operated with an 18 . 9 % profit margin .  economies of scale will drastically reduce the profit margin of the mass produced product . actually , your claim of fundamental flaws applies here .  this quote assumes that ferrari ' s and coke follow the same economies of scale which implies the same production methods .  you should be comparing different quantities across one product or different products across one quantity , both doesn ' t work .  see above profit marginsi believe you are thinking of diminishing marginal returns , which is not directly related to profit margins .  also , it depends on whether the economies of scale are increasing , decreasing , or constant all are possible . u . s . gasoline consumption of 320 , 500 , 000 gallons per day march 2005 works out to about 3700 gallons per second . and you ' re comparing that to blackberriesno , i never compared those figures to blackberries . profit margin is not the problem here . i never identified any problem .  i was commenting on the technicalities of using unlevered returns across industries compared to levered returns .  also , profit margin is not the same as roa .\\n\"]\n",
            "---------------------------------------------\n",
            "File Nme:/content//drive/My Drive/Colab_Notebooks/Reddit_data/Reddit_Clean_Data_text_2005_2012/RC_2008-09_csv_parsed\n",
            "[\"i wonder if bush would ever thank a foreign country ' s scientists  assistance in things unrelated to the conflictory situations with our country .    i like that putin can thank americans in this ,  although his view of our government ' s method are disproving ...\\n\", '\\n', 'it was her brother .\\n', '\\n', 'i agree that it is crap to fire department heads for the sin of not using the force of the government to keep you in power .\\n']\n",
            "---------------------------------------------\n",
            "File Nme:/content//drive/My Drive/Colab_Notebooks/Reddit_data/Reddit_Clean_Data_text_2005_2012/RC_2008-10_csv_parsed\n",
            "[\"he shouldn ' t have kept the fact that he loved her private .\\n\", '\\n', 'omg thats like 100 jobs\\n', '\\n', 'dun dun dunnnnnnn\\n']\n",
            "---------------------------------------------\n",
            "File Nme:/content//drive/My Drive/Colab_Notebooks/Reddit_data/Reddit_Clean_Data_text_2005_2012/RC_2008-11_csv_parsed\n",
            "['dude , your phone is ringing dude ...   dude , your phone is ringing ...\\n', '\\n', 'what with incest being illegal in most countries , yes , i doubt many people are going to come forwards . none of the places i found were really that great either . mostly they were just peoples opinions apparently referencing some study that is impossible to find anywhere else .\\n', '\\n', \"also , a blue - ring ' s bite is totally painless and deadly . seems rather pointless as a defense if it doesn ' t cause pain and kills almost 100 % of the time . it sounds more like spite to me .\\n\"]\n",
            "---------------------------------------------\n",
            "File Nme:/content//drive/My Drive/Colab_Notebooks/Reddit_data/Reddit_Clean_Data_text_2005_2012/RC_2008-12_csv_parsed\n",
            "[\"the business cannot survive paying out benefits like this plain and simple . sure it can . i ' m not bankrupting the peopleyou want them to take a pay cut so you can fulfill some weird ideology you have . low skill manual labor jobs don ' t normally pay this for a reason .... fucking snob . what makes you think those jobs are low skill i can get a kia rio for $ 11k brand new , it costs less than everythingyou can get a gm with a similar spec for less .\\n\", '\\n', \"i ' m curious , how do you see , beyond defining the legislative vs judicial role the constitution specifies , the socus wiping their ass with the constitution . read the decision man . the judges admit that they did and they say right in the decision that unlike every other supreme court decision before or since this particular one could never be used as precedent . it ' s a singular decision . in the entire history of our nation there has never been another decision like it .\\n\", '\\n', 'the greatest historic instigator of human divisiveness is religious groups imposing their religious beliefs on others . non - believers have been persecuted for thousands of years . what atheists say about christians is typically derided , but what christians say about atheists is considered sensible . individuals may point out the atrocities or ridiculousness of religions be they of a different religion or none , but as a group atheists have no power or influence . therefor your claim that non - believers bash christians is laughable .\\n']\n",
            "---------------------------------------------\n",
            "File Nme:/content//drive/My Drive/Colab_Notebooks/Reddit_data/Reddit_Clean_Data_text_2005_2012/RC_2009-05_csv_parsed\n",
            "['should patients twiiter their surgery should hospitals use this as a marketing strategy\\n', '\\n', '+ + + + + + + + + + + + +\\n', '\\n', \"yeah , i completely understand . you give a better explanation for why abandoning the alcoholism trait was good for family guy , they didn ' t know how to work with it , and having peter trying to overcome it would have been really out of character . i ' m with you on the lack of personalities , and it does make things seem lazy , probably because they are . you will never hear me say family guy is perfect , my main intention was to point out that the change in the character ' s traits from the beginning to now has , by and large , not been for the worse .\\n\"]\n",
            "---------------------------------------------\n",
            "File Nme:/content//drive/My Drive/Colab_Notebooks/Reddit_data/Reddit_Clean_Data_text_2005_2012/RC_2009-06_csv_parsed\n",
            "[\"i ' ll miss you .\\n\", '\\n', 'i really like neutral milk hotel .\\n', '\\n', \"i was going to post a version of the lyrics changed to pertain to the subject , but , hell , i don ' t even know what a single word of that song means .\\n\"]\n",
            "---------------------------------------------\n",
            "File Nme:/content//drive/My Drive/Colab_Notebooks/Reddit_data/Reddit_Clean_Data_text_2005_2012/RC_2009-07_csv_parsed\n",
            "[\"there ' s no way this guy is * really * korean .  he hasn ' t got the pathological self - deprecation right .\\n\", '\\n', 'lord of the rings online has an absolutely awesome sountrack .\\n', '\\n', 'the fuck it song in spanish\\n']\n",
            "---------------------------------------------\n",
            "File Nme:/content//drive/My Drive/Colab_Notebooks/Reddit_data/Reddit_Clean_Data_text_2005_2012/RC_2009-08_csv_parsed\n",
            "[\"you learn to program in very much the same way that you learn to be a musician you study excellent works and you practice a lot . find programs , written in your language of choice , that other people consider excellent , and obtain the source code . pore over it and try to understand it . many people , over the years , develop their own toy problem to solve in each new programming language they learn . the advantage of this is that you  know the domain very well , so you ' re motivated to seek certain solutions in the libraries and techniques of the new language . i like to write a babelizer that translates back and forth between languages using babelfish or google translate . plenty of real - world problems to solve there , but not brain surgery .\\n\", '\\n', 'nice nice dat hydro nahm sayin\\n', '\\n', 'yea , thats what we thought , fox .\\n']\n",
            "---------------------------------------------\n",
            "File Nme:/content//drive/My Drive/Colab_Notebooks/Reddit_data/Reddit_Clean_Data_text_2005_2012/RC_2009-09_csv_parsed\n",
            "['um . www . cmu . edu proves that we were the * original * cmu . take that\\n', '\\n', \"this was a conversation my buddy had at an apartment he just moved into . there was a party going on , hosted by one of his house mates . the other person in this conversation was a huge bitch , who thought she was gods gift to the earth even though she was overweight and butt ass ugly . my friend * reaches for a beer from the mini fridge in his room *. girl um excuse me . what are you doing here do i even know youmy friend i ' m getting a beer from my fridge , and no - i don ' t talk to fat girls .\\n\", '\\n', 'nebraskadiocese of grand island no priests listed in the databasethis is hilarious because i know of two priests , one in the 80s and one in the 90s that were moved elsewhere because of what they did . the diocese of grand island iirc also covers scottsbluff .  i have a friend here who was molested by a priest .  he molested several kids in the 80s and was moved to california .  he was moved back to scottsbluff two years ago .  everyone knows about him , yet no one speaks about it .\\n']\n",
            "---------------------------------------------\n",
            "File Nme:/content//drive/My Drive/Colab_Notebooks/Reddit_data/Reddit_Clean_Data_text_2005_2012/RC_2009-10_csv_parsed\n",
            "['thanks oracle salesmanoh , wait .\\n', '\\n', '** starship troopers **, robert a . heinlein\\n', '\\n', \"the idf is a terror - killer . and so is grayson , what a great man . stop posting to this thread if you don ' t want to laud him .\\n\"]\n",
            "---------------------------------------------\n",
            "File Nme:/content//drive/My Drive/Colab_Notebooks/Reddit_data/Reddit_Clean_Data_text_2005_2012/RC_2009-11_csv_parsed\n",
            "[\"404 error costume not foundwritten in sharpie marker on a white shirt in an attempt at times new roman at 24 pt . a cowboy hat just so people at parties don ' t give me a problem .\\n\", '\\n', \"i mentioned this earlier . to answer your questions though ... yes , i had it . i overdosed several times on it . i lost track how many times . an od doesn ' t necessarily require narcan ... i ' ve been resuscitated several times from od ' ing , though . the reason it was dropping people is due to its potency , microgram rangea grain of salt is a few 100 micrograms , and because whoever was distributing it wasn ' t cutting it right . you do need some skill when we ' re talking about cutting with microgram doses vs milligram doses . i know of at least 2 people that died . i wasn ' t close to them . how do you judge potency for something like fentanyl you can ' t . fucked up , ain ' t it for heroin , you snort some to test its potency . easiest way is to figure out your intranasal dose , and shoot half of that , as the ba for intranasal heroin is roughly 50 % and for intravenous heroin it ' s 100 %.\\n\", '\\n', 'ouch that hurt\\n']\n",
            "---------------------------------------------\n",
            "File Nme:/content//drive/My Drive/Colab_Notebooks/Reddit_data/Reddit_Clean_Data_text_2005_2012/RC_2009-12_csv_parsed\n",
            "['gimme that christian side hug\\n', '\\n', \"even if it ' s about golf , tiger owes us no explanation .  golf isn ' t in the bill of rights either , i ' m pretty sure .\\n\", '\\n', 'give me a minute , i have to go think on this one ...\\n']\n",
            "---------------------------------------------\n",
            "File Nme:/content//drive/My Drive/Colab_Notebooks/Reddit_data/Reddit_Clean_Data_text_2005_2012/RC_2010-01_csv_parsed\n",
            "['good rant , stop looking for a mass movement , if one appears fine , but first change yourself . while at 54 still a work in process , i am a vegetarian see corporate tainted food ect . i shop at farmers markets , small shops and co - ops member owned i live in a urban space for two of 900 sq ft . i ride a bike and take mta . i bank at a federal credit union small , local , member owned . most importantly , i choose to live simply . as example . . . go to a corporate drug store the checkout girl has no health or retirement  and has to stock shelves and sweep floors for minimum wage or less if the corporation could , and is concerned abouting chatting about the community becouse of the boss . or ride a mile to an owner run drug store she welcome me by name , asks about my family and work or the community . she provides health and retirement for her workers . every day and every doller i spend i make a chooise and incurage others to do the same . do you still bank at b of a or chase why eat at mc ds or bk  why what corporate policys are you supporting in washingtion by funding them if the policys are against your values the thousands of dollers votes out waigh your one electoral vote . who is funding the corporate lobbiest pushing the loophole in the tax bill be a citizen or s consumer . working with others that may not see the world the same is a sign of adulthood wether at work or the community could this be why it is getting harder to solve problems\\n', '\\n', 'sounds good to me .\\n', '\\n', 'ok so people can donate charity , but how does people playing a video game come into the equation\\n']\n",
            "---------------------------------------------\n",
            "File Nme:/content//drive/My Drive/Colab_Notebooks/Reddit_data/Reddit_Clean_Data_text_2005_2012/RC_2010-02_csv_parsed\n",
            "[\"he is . also , his music sucks major ass . there are lots of mindless worshippers on reddit . you wouldn ' t be able to stay sane here without denying their existence . the biggest and most relevant outburst against the now - apparent absurdity of grammys came from ricky gervais . reznor probably figured out it is getting popular in circle - jerk communities to bash grammys , and voilahe is like a musical version of carlos mencia . he creates unintelligible sounds , he loves to grab attention , and he pretends he is remotely relevant . nice to get that out of my chest . keep on .\\n\", '\\n', \"well , certainly the most similar thing i ' ve done a few weeks after i married my wife , i arrived back at our apartment to discover my wedding ring had slipped off my finger . i retraced my steps about a mile and a half and found it in the middle of a major street i had crossed on my way home .\\n\", '\\n', 'herei use my own pictures as backgrounds this is venice .\\n']\n",
            "---------------------------------------------\n",
            "File Nme:/content//drive/My Drive/Colab_Notebooks/Reddit_data/Reddit_Clean_Data_text_2005_2012/RC_2010-03_csv_parsed\n",
            "[\"i haven ' t run across saydrah ' s posts much in the last several months , although i used to run into them a lot more . what ' s all the fracas about\\n\", '\\n', \"neil young - prairie wind . neil young always takes care with production values , though his records are often stripped down and raw . this record , though , is very meticulous and rich , with sweeping strings , vocal harmonies , and horns . tom waits - real gone . a lot of creative and odd instrumentation , like all modern tom waits albums . there are a lot of awesome guitar tones and distortion in this and excellent use of space and natural room ambiance .  lou reed - ecstasy  this was an ignored little record . it is the best sounding modern rock album i can think of . sharp , pure drums . clean , deep bass . perfect mix and recording , aside from the other aspects that go into production . bob dylan - love and theft   this is the best sounding and best engineered album i ' ve ever heard . whenever someone gets new monitors , i always recommend this .  buena vista social club - buena vista social club  you can really hear yourself in the room with these guys . old style , classic recording with far away mics . this is a masterful feat of production , in all that producing really encompasses , in tracking these old guy down in cuba and bringing them together . pat metheny group - this way up  peter gabriel - up  neurosis - times of gracenick cave and the bad seeds - no more shall we part\\n\", '\\n', 'yeah , i was talking long run .\\n']\n",
            "---------------------------------------------\n",
            "File Nme:/content//drive/My Drive/Colab_Notebooks/Reddit_data/Reddit_Clean_Data_text_2005_2012/RC_2010-04_csv_parsed\n",
            "[\"the other thing i love is people who leave when the government says let ' s bring the budget back in the black by 2014 . that ' s considered bad . he should go to alberta .\\n\", '\\n', 'joy division - atmosphere\\n', '\\n', 'how would natal work with an fps  would i have to register an empty roll of wrapping paper so i have something to hold on to or do i just make a gun with my hand\\n']\n",
            "---------------------------------------------\n",
            "File Nme:/content//drive/My Drive/Colab_Notebooks/Reddit_data/Reddit_Clean_Data_text_2005_2012/RC_2010-05_csv_parsed\n",
            "['look again ...\\n', '\\n', \"don ' t take my question too personal , please . why didn ' t you know that i ' ve learned stuff like that in school ...\\n\", '\\n', 'thanks . turkish . actually i chalk it up mostly to my early exposure to x - com series\\n']\n",
            "---------------------------------------------\n",
            "File Nme:/content//drive/My Drive/Colab_Notebooks/Reddit_data/Reddit_Clean_Data_text_2005_2012/RC_2010-06_csv_parsed\n",
            "['amazon is a great starting point\\n', '\\n', \"oh come on . you ' re concluding after 4 years of the conservatives being in power that the liberals will never win a majority again you ' re crazy . the leaders will change and people ' s values will change . some governments will be more successful than others .\\n\", '\\n', \"because they didn ' t catch him drinking water or pissing in the shower\\n\"]\n",
            "---------------------------------------------\n",
            "File Nme:/content//drive/My Drive/Colab_Notebooks/Reddit_data/Reddit_Clean_Data_text_2005_2012/RC_2010-07_csv_parsed\n",
            "['tucson or phoenix area\\n', '\\n', 'that sounds fair .\\n', '\\n', 'dick cheney and his energy policy review board .\\n']\n",
            "---------------------------------------------\n",
            "File Nme:/content//drive/My Drive/Colab_Notebooks/Reddit_data/Reddit_Clean_Data_text_2005_2012/RC_2010-08_csv_parsed\n",
            "[\"i disagree .  said corporations aren ' t really worried about stopping the infringement of their content as much as they are fighting a new paradigm which doesn ' t involve them .  see the lawsuit against youtube which cost google 100 million to defend against even though viacom didn ' t have a leg to stand on .  were they worried about infringement  no , google does everything in their power to stop it and immediately responds to any allegation of infringement , no matter how unsupported or unproven - taking down waves of legitimate content in the process .  in effect , google is firebombing their own properties for viacom ' s benefit - and that ' s not good enough , because google isn ' t paying viacom the big bucks .  a quote i read recently stated that google was a whiner for mentioning the cost of the lawsuit - viacom deserved all that money in the first place , and it was google ' s fault for not paying . see also the war against creative commons and copyleft by ascap .\\n\", '\\n', 'your first step should be acquiring an attorney that will be willing to take on blizzard , because you * will * be sued . that said , good luck\\n', '\\n', 'not with a bang but a batvader\\n']\n",
            "---------------------------------------------\n",
            "File Nme:/content//drive/My Drive/Colab_Notebooks/Reddit_data/Reddit_Clean_Data_text_2005_2012/RC_2010-09_csv_parsed\n",
            "[\"in chicago , lou malnati ' s makes a real deep dish with a crisp butter crisp , a quarter - pound of cheese , sliced tomatoes , garlic and a sauce with a hint of sweetness .  if you ' re into sausage , a whole slab of it is one layer of the pizza . otherwise , american flatbread .  although one could say it ' s not actually pizza ...\\n\", '\\n', \"i made some healthy food ** for myself ** do you want somei ' m going for a walk ** by myself ** do you want to comeedit  bold == passive aggression kinda looks like that , just that the focus is on you doing it for yourself and if she wants to tag along , good on her .\\n\", '\\n', \"\\\\ blocks things from being parsed by reddit ' s comment formatting system i imagine you meant 100 \\\\* 10 \\\\* 500 .\\n\"]\n",
            "---------------------------------------------\n",
            "File Nme:/content//drive/My Drive/Colab_Notebooks/Reddit_data/Reddit_Clean_Data_text_2005_2012/RC_2010-10_csv_parsed\n",
            "[\"can you give a reference for this . i don ' t believe that is true , i . e ., constitution limits how congress can tax .\\n\", '\\n', 'i have this and it works well .\\n', '\\n', \"i like ron paul , but i wish the guy would wear some regular shoes . i guess they ' re probably more comfortable , and i ' m glad they ' re not velcro , but he looks like some sort of public transportation crackpot wearing those things .\\n\"]\n",
            "---------------------------------------------\n",
            "File Nme:/content//drive/My Drive/Colab_Notebooks/Reddit_data/Reddit_Clean_Data_text_2005_2012/RC_2010-11_csv_parsed\n",
            "['check it out in action .\\n', '\\n', 'screamer at the end . you motherfucker p\\n', '\\n', \"i bought * tea for the tillerman * a couple weeks ago for $ 1 . 50 . i don ' t dig it much .\\n\"]\n",
            "---------------------------------------------\n",
            "File Nme:/content//drive/My Drive/Colab_Notebooks/Reddit_data/Reddit_Clean_Data_text_2005_2012/RC_2011-02_csv_parsed_1\n",
            "['i have a tree nut allergy .\\n', '\\n', \"my girlfriend loves meat , but she ' s a vegetarian . her reasoning is that she couldn ' t bring herself to kill the animal herself so she won ' t eat it . she does fish though , so she has no problem eating fish . so i guess she ' s more specifically a pescetarian they make up words for themselves , i don ' t even knowtldr - i have a girlfriend\\n\", '\\n', '... thought that thing had horns\\n']\n",
            "---------------------------------------------\n",
            "File Nme:/content//drive/My Drive/Colab_Notebooks/Reddit_data/Reddit_Clean_Data_text_2005_2012/RC_2011-02_csv_parsed_2\n",
            "[\"you ' re right . commerce has taken away our rich loving habitat and commerce makes us all move away from friends and family and work too hard and be sad . and everyone is bewildered and sad .\\n\", '\\n', 'i agree that nals is great .\\n', '\\n', \"i ' d say there are only two ways adults get sucked into religion .  one is peer pressure , but i doubt it redefines their beliefs .  they just claim they follow to fit in . the other way is when people suffer complete mental collapse .  be it from drug abuse , a failed suicide attempt , or some other traumatic experiences that just completely destroys your psyche . you have to break them down before you can reprogram them .  the military is usually pretty good at this .\\n\"]\n",
            "---------------------------------------------\n",
            "File Nme:/content//drive/My Drive/Colab_Notebooks/Reddit_data/Reddit_Clean_Data_text_2005_2012/RC_2010-12_csv_parsed_1\n",
            "['this is a failure for google . shame on you , google .\\n', '\\n', 'you made an excellent choice not buying a home in arizona\\n', '\\n', 'i cannot believe how much this made me laugh .\\n']\n",
            "---------------------------------------------\n",
            "File Nme:/content//drive/My Drive/Colab_Notebooks/Reddit_data/Reddit_Clean_Data_text_2005_2012/RC_2010-12_csv_parsed_2\n",
            "[\"it ' s pretty tricky to get above that with an mflb , but it is possible . takes a lot of fandangling . i ' ve heard nothing but great reviews for the helix . i want one sooo badly still .\\n\", '\\n', 'i thought that my statement was pretty straightforward , especially with the atm machine example . the word is redditor . saying redditor editor is like saying atm machine because the m in atm stands for machine .\\n', '\\n', \"you post in the bap like emotivator ' s how much you want to reserve , say $ 25 .  then once the total reserve price is met , emotivator will send a pm to all investors to ship reserves .  so then you will do a player transfer to him to either ps or ft , usually he will specify which one in the bap ad .  so like in ft you would go to cashier then click on transfer and then enter the player id and amount you want to transfer .  then emotivator will update the ad with the amount you transferred to him . i have never had an issue with transferring money to someone and them taking off with it , or disputing the amount or anything like that .  and thats it .\\n\"]\n",
            "---------------------------------------------\n",
            "File Nme:/content//drive/My Drive/Colab_Notebooks/Reddit_data/Reddit_Clean_Data_text_2005_2012/RC_2011-03_csv_parsed_1\n",
            "['i find this a hell lot more satisfying     powerpill - syu\\n', '\\n', 'my impression from watching the academy awards was that they only considered like twelve movies for all the awards . so lame .  i regret watching almost as much as gwyneth paltrow regrets singing\\n', '\\n', 'the flying people get me every time .\\n']\n",
            "---------------------------------------------\n",
            "File Nme:/content//drive/My Drive/Colab_Notebooks/Reddit_data/Reddit_Clean_Data_text_2005_2012/RC_2011-03_csv_parsed_2\n",
            "[\"you know what , i am just going to eat you now . i ' m tired of talking to my food .\\n\", '\\n', \"the danger ' s of over - cuddling are often underestimated .\\n\", '\\n', 'lolly ice  ice lolly\\n']\n",
            "---------------------------------------------\n",
            "File Nme:/content//drive/My Drive/Colab_Notebooks/Reddit_data/Reddit_Clean_Data_text_2005_2012/RC_2011-04_csv_parsed_1\n",
            "[\"that ' s amazing thank you so much\\n\", '\\n', 'i would agree because it made for babies 3 and 4 , but i finally got my princess and she came with a buddy .  they are my heartbeat .\\n', '\\n', 'and i hope they cleared it with legal ...\\n']\n",
            "---------------------------------------------\n",
            "File Nme:/content//drive/My Drive/Colab_Notebooks/Reddit_data/Reddit_Clean_Data_text_2005_2012/RC_2011-04_csv_parsed_2\n",
            "[\"food calories are kilo - calories so it ' s 3 . 48 kilowatts or 16 cents .\\n\", '\\n', \"that ' s not possible , since the flvmp4 - containers that you stream from youtube contain both audio and video . i guess you could use one of those save video as an . mp3 - services to download the sound . won ' t be streaming though .\\n\", '\\n', 'i meant in general but i see the confusion i have created\\n']\n",
            "---------------------------------------------\n",
            "File Nme:/content//drive/My Drive/Colab_Notebooks/Reddit_data/Reddit_Clean_Data_text_2005_2012/RC_2011-01_csv_parsed_1\n",
            "['they should add that to the instructions on the box p\\n', '\\n', 'beta has nothing to do with lack of muscles .  it has everything to do with an inability to lead and assert yourself peacefully but firmly in the relationship .\\n', '\\n', 'actually perhaps he was talking about a completely different god altogether . perhaps the old testament god did create another god who promptly destroyed the old one for being a bit of a selfish and evil bastard . perhaps the new testament god who jesus says is his father is this new god . that would explain a lot . perhaps you are familiar with the original christianity , marcionismthe christian adversary celsus , who debated with origen , understood christians to mean primarily marcionite christianswhich permits a significant inference about the spread of marcionism at this time . tertullian , am 5 . 19 justin , apol ., 1 . 58\\n']\n",
            "---------------------------------------------\n",
            "File Nme:/content//drive/My Drive/Colab_Notebooks/Reddit_data/Reddit_Clean_Data_text_2005_2012/RC_2011-01_csv_parsed_2\n",
            "['watching crunchy black doing the gangsta walk in silence just isnt the same\\n', '\\n', 'my favoriteclient - please make it just like google - exactly like google . we love google it has to be identical to google ... me - riiiiiight ... waiting for the other shoeclient - and we want to cover it in adsclarification they wanted a public search page ... this would be the home screen\\n', '\\n', \"the next movie should have been about the penguin . it should have centered on corporate greed paralleling real life and a hostile takeover of wayne corp by oswald cobblepot penguin . the penguin squeezes bruce wayne in the corporate world thereby shrinking his available batman funds ... crime fighting ability , etc . making batman have to go slightly lower tech and ' old - fashioned ' to win out the day .\\n\"]\n",
            "---------------------------------------------\n",
            "File Nme:/content//drive/My Drive/Colab_Notebooks/Reddit_data/Reddit_Clean_Data_text_2005_2012/RC_2011-05_csv_parsed_1\n",
            "['okay , okay , i uploaded the world\\n', '\\n', \"oh , the irony . active climbing is my friend ' s gym . we should totally set up a time to hang out or go climbing or something , but only if you promise not to laugh at my first time climbing you can laugh the second time . fair game then . do tell , what sort of issues do you see with whether or not we should be creating artificial minion bacteria to do our bidding genuinely curious about a genetics major ' s opinion .\\n\", '\\n', \"my cheeks are hairy . they ' d probably be even more hairy if i didn ' t wear clothes that tended to rub the hair off .\\n\"]\n",
            "---------------------------------------------\n",
            "File Nme:/content//drive/My Drive/Colab_Notebooks/Reddit_data/Reddit_Clean_Data_text_2005_2012/RC_2011-05_csv_parsed_2\n",
            "[\"ha his employers don ' t realize that he can ' t write . that ' s just life today . people with money think they earned every penny and everyone else is suffering from entitlementitis . they never realize how incompetent they are , or how lucky they were . the truth is that the number of ways to get your foot in the door is dramatically reduced . you do not have the advantages that the previous generation had . you have to work even harder because there is less luck to be found . but hey , that ' s life . just muddle through .\\n\", '\\n', 'catch - 22\\n', '\\n', 'ohhh , you mean dogs ...\\n']\n",
            "---------------------------------------------\n",
            "File Nme:/content//drive/My Drive/Colab_Notebooks/Reddit_data/Reddit_Clean_Data_text_2005_2012/RC_2011-05_csv_parsed_3\n",
            "[\"i get hit with it hard once in a while . the thing is though , you can ' t do anything but sit there with a goofy look on your face and wait for the event to unfold again . i also find that i can only remember previous deja vu episodes while another is happening , its like i am accessing a vault of solid time that the door is slowly closing on and i can just peek at the contents for a moment . i really love it , it gives me hope that there is something more to life than the mundane bulshitery we are usually privy to .\\n\", '\\n', 'dont know why i am getting downvoted\\n', '\\n', \"use reddit enhancement suite and the ' parent ' button .\\n\"]\n",
            "---------------------------------------------\n",
            "File Nme:/content//drive/My Drive/Colab_Notebooks/Reddit_data/Reddit_Clean_Data_text_2005_2012/RC_2011-06_csv_parsed_1\n",
            "[\"it thought the same thing , searched hard when it seemed like it wasn ' t going anywhere and now i have four interviews in the next two weekskeep on keepin ' on broseph\\n\", '\\n', \"he has tons of counters in the laning phase - vindicator - demented shaman - pharaoh - silhouette but honestly , who does she not counter - jeraziah - tundra - torturer - succubusetc . later it ' s just hard disables and good initiation , hellflower is incredibly good at shutting him down , any true disabler too .\\n\", '\\n', \"i know exactly how you feel man .  it ' s amazing how entry - level positions now require 2 - 3 years experience and a couple of internships aren ' t enough .\\n\"]\n",
            "---------------------------------------------\n",
            "File Nme:/content//drive/My Drive/Colab_Notebooks/Reddit_data/Reddit_Clean_Data_text_2005_2012/RC_2011-06_csv_parsed_2\n",
            "['fact parisian taxi drivers hate french people from other parts of france more than they hate foreigners .\\n', '\\n', 'does your bbq have a rotisserie\\n', '\\n', \"thankfully i was outside ... i can ' t imagine the smell of that trash can being in a closed area . i probably would have passed out .\\n\"]\n",
            "---------------------------------------------\n",
            "File Nme:/content//drive/My Drive/Colab_Notebooks/Reddit_data/Reddit_Clean_Data_text_2005_2012/RC_2011-06_csv_parsed_3\n",
            "['unfortunately , lots of scenes have to get left out of movies because nobody would go see a 12 hour movie . sad but true .\\n', '\\n', 'grammar nazi strikes again\\n', '\\n', 'typically someone posts something shitty about police officers , and then everyone comments about how every police officer is just as shitty .\\n']\n",
            "---------------------------------------------\n",
            "File Nme:/content//drive/My Drive/Colab_Notebooks/Reddit_data/Reddit_Clean_Data_text_2005_2012/RC_2011-06_csv_parsed_5\n",
            "['the family that lays together stays together . ftfy\\n', '\\n', \"gene krupa no , wait . i mean the other drummer . what ' s his name\\n\", '\\n', \"explain this ' crazy spiritual experience ' a little , if you could .\\n\"]\n",
            "---------------------------------------------\n",
            "File Nme:/content//drive/My Drive/Colab_Notebooks/Reddit_data/Reddit_Clean_Data_text_2005_2012/RC_2011-06_csv_parsed_4\n",
            "[\"the idea was that if something was farther than 6000 light years away , then light from that object wouldn ' t have had time to reach us yet .  so in andy ' s mind there could be something farther away than 6000 light years , but we wouldn ' t be able to see it .  so anything we can see must be closer than that .  trollface\\n\", '\\n', \"no excuses . i ' ve been working 10 - 16 hour days seven days a week the past three weeks .  only took one day off because i had a physical fitness test the next day and wanted to be fresh . this video helps .\\n\", '\\n', 'i may be reading this wrong but it looks like you have it completely backwards . reddit hates on america and christians quite a lot .\\n']\n",
            "---------------------------------------------\n",
            "File Nme:/content//drive/My Drive/Colab_Notebooks/Reddit_data/Reddit_Clean_Data_text_2005_2012/RC_2011-07_csv_parsed_1\n",
            "[\"victor also had a couple of calls tracked on gale ' s mobile phone .\\n\", '\\n', \"504 , checked recent comments , didn ' t see it listed , apparently it still went through .\\n\", '\\n', \"truth . anything over a c is really a bit too much . though a nice d cup can do it for me sometimes , if they ' re particularly shapely .\\n\"]\n",
            "---------------------------------------------\n",
            "File Nme:/content//drive/My Drive/Colab_Notebooks/Reddit_data/Reddit_Clean_Data_text_2005_2012/RC_2011-07_csv_parsed_2\n",
            "['shut up krak . human nature to exploit power is not a valid arguement here . it is obviously just arizona and arizonans in general . they are the problem , not our nature .......................... and3232 \\\\ amp3232\\n', '\\n', 'also for humanities sake . do we really want his genes propagating\\n', '\\n', 'ah .. i wanna say it was a delta or southwest flight that took cash only\\n']\n",
            "---------------------------------------------\n",
            "File Nme:/content//drive/My Drive/Colab_Notebooks/Reddit_data/Reddit_Clean_Data_text_2005_2012/RC_2011-07_csv_parsed_3\n",
            "['good lord .  yes .\\n', '\\n', \"i don ' t know about that ...\\n\", '\\n', 'explain something about israel in simple terms no .\\n']\n",
            "---------------------------------------------\n",
            "File Nme:/content//drive/My Drive/Colab_Notebooks/Reddit_data/Reddit_Clean_Data_text_2005_2012/RC_2011-07_csv_parsed_4\n",
            "[\"i ' ve done the guy who mows my lawn , that ' s close enough .\\n\", '\\n', 'oh god this post is racist because it has the word nigger in it downvote downvotegrow a fucking spine .\\n', '\\n', 'reddit , why do you downvote for controversial opinions\\n']\n",
            "---------------------------------------------\n",
            "File Nme:/content//drive/My Drive/Colab_Notebooks/Reddit_data/Reddit_Clean_Data_text_2005_2012/RC_2011-08_csv_parsed_1\n",
            "[\"$ 2 , would you take that deal i ' d take that deal\\n\", '\\n', 'have you wrecked in them yet\\n', '\\n', 'i was thinking 170k max , but if we get another player off the books gibson there would be a small bit more room to maneuver\\n']\n",
            "---------------------------------------------\n",
            "File Nme:/content//drive/My Drive/Colab_Notebooks/Reddit_data/Reddit_Clean_Data_text_2005_2012/RC_2011-08_csv_parsed_2\n",
            "['scrollers gonna scroll\\n', '\\n', 'my bad , it comes across poorly over text . at the very least , it may help someone less informed .\\n', '\\n', 'ha , yes me too . also z for toggle prone .\\n']\n",
            "---------------------------------------------\n",
            "File Nme:/content//drive/My Drive/Colab_Notebooks/Reddit_data/Reddit_Clean_Data_text_2005_2012/RC_2011-08_csv_parsed_3\n",
            "['lol , i thought they trap a kid inside\\n', '\\n', 'well i want to flip tables as to not be outdone ......\\n', '\\n', 'you guys are great . upvotes for all . thanks for all the input\\n']\n",
            "---------------------------------------------\n",
            "File Nme:/content//drive/My Drive/Colab_Notebooks/Reddit_data/Reddit_Clean_Data_text_2005_2012/RC_2011-08_csv_parsed_4\n",
            "[\"if it was a remake , it would be based on the movie .  it ' s just a movie based on the same book , like the multitude of alice in wonderland movies .  you ' ve got the disney - ized disney version , you ' ve got the terrifying jan svankmeyer version , tons of black - and - white films , and tim burton ' s version , but none of them are remakes of the other .  if the peter jackson lotr was a remake of the bakshi one , it would take its inspiration not from the books but from the movie bakshi made .\\n\", '\\n', \"didn ' t biomass your reddit account either\\n\", '\\n', 'date a furry .\\n']\n",
            "---------------------------------------------\n",
            "File Nme:/content//drive/My Drive/Colab_Notebooks/Reddit_data/Reddit_Clean_Data_text_2005_2012/RC_2011-08_csv_parsed_5\n",
            "['cumming in strokes\\n', '\\n', \"i don ' t think the players had that going through there mind when they chasing him . i think it was just rather good sticky placement for that particular capture point .\\n\", '\\n', \"my husband and i were each others firsts and we ' ve been together for over 7 years now .\\n\"]\n",
            "---------------------------------------------\n",
            "File Nme:/content//drive/My Drive/Colab_Notebooks/Reddit_data/Reddit_Clean_Data_text_2005_2012/RC_2011-09_csv_parsed_1\n",
            "['at least wait a bit before reposting\\n', '\\n', 'downvotes for this\\n', '\\n', 'conservativerepublican types accuse wikipedia of not being source .  they do this because it consistently proves them wrong any time they try to promote a lie . does it have misinformation  yes , but only temporarily and without accurate citations .\\n']\n",
            "---------------------------------------------\n",
            "File Nme:/content//drive/My Drive/Colab_Notebooks/Reddit_data/Reddit_Clean_Data_text_2005_2012/RC_2011-09_csv_parsed_2\n",
            "['been around since 1962 and zonderkidz had to go and fuck it all up just 3 years ago .... so sad .\\n', '\\n', \"no , he ' s talkin ' bout metamars\\n\", '\\n', 'welcome to reddit . com how did you find this sitesubsite\\n']\n",
            "---------------------------------------------\n",
            "File Nme:/content//drive/My Drive/Colab_Notebooks/Reddit_data/Reddit_Clean_Data_text_2005_2012/RC_2011-09_csv_parsed_3\n",
            "['i do not understand this feeling . in what fashion are people using facebook that this is a common sentiment\\n', '\\n', \"it ' s whatever you want it to be . do you feel in control of your life if not , do you want to betake control then\\n\", '\\n', \"i think if you ' re going to talk to people like that then i really don ' t have to glorify your post with a response , but i will anyway . i ' m in college , have lots of course work , jobs are hard to come by these days , and mine only gives me 20 hours a week , plus it ' s physical and draining and i don ' t have time for a 2nd one . that ' s how . i have a roommate so rent + bills comes to about $ 650 a month . the rest goes to food and i live pretty comfortably . honestly i bet there are many americans who don ' t have it nearly as easy as i do , economically . just don ' t tell any rich people .\\n\"]\n",
            "---------------------------------------------\n",
            "File Nme:/content//drive/My Drive/Colab_Notebooks/Reddit_data/Reddit_Clean_Data_text_2005_2012/RC_2011-09_csv_parsed_4\n",
            "[\"* add 30 lbs to the best picture of a prospective date to get an approximation of actual weight .* unless you make over $ 80k or so , don ' t actually put your real salary on there * over 50 % of the hot girls under 23 willing to give an average dude a shot are looking for someone to support their illegitimate children .* most of the women who claim to be bisexual on there are not .* apparently men send a lot of cock pictures .\\n\", '\\n', \"it ' s funny to see those workers pull out all those nicely placed bricks they just put in a few months ago .\\n\", '\\n', \"i ' ve actually been unable to enter my email address several times due to this - i ' m sure it ' s fairly easy for them to strip , as well .\\n\"]\n",
            "---------------------------------------------\n",
            "File Nme:/content//drive/My Drive/Colab_Notebooks/Reddit_data/Reddit_Clean_Data_text_2005_2012/RC_2011-10_csv_parsed_1\n",
            "[\"a bigger and more important difference is the xeon ' s have much more l2 cache .\\n\", '\\n', 'fool me once , shame on you . fool me twice , shame on me . - zach braff on preteens\\n', '\\n', 'same here . wife and two kids\\n']\n",
            "---------------------------------------------\n",
            "File Nme:/content//drive/My Drive/Colab_Notebooks/Reddit_data/Reddit_Clean_Data_text_2005_2012/RC_2011-10_csv_parsed_2\n",
            "['i have twowent on a white water rafting trip with my boy scout troop when i was 14 .  we camped right next to the colorado river , and some of the guys thought it would be fun to swim across it .  in a crowning moment of stupidity , i joined them .  got tired about 34 of the way across the river and got swept about 50 yards downstream from the beach we were swimming to .  i was hanging on to a huge boulder that was half submerged for about 45 minutes until a tour boat picked me up .  i was shaking like no other when i got pulled out of the water .  i easily could have drowned from not having the energy to swim out if i had let go . 2 . a guy who i went to high school with just about ran me over when i was walking by the school .  he was probably doing 45 - ish and was within inches of me .\\n', '\\n', \"and you don ' t think was my plan all along why do people want upvotes in the first place isn ' t it just as satisfying to see how many people you can get to dislike your stuff\\n\", '\\n', 'thank you , but they say this live stream is not yet optimized for your deviceno luck ... grrrr iphone\\n']\n",
            "---------------------------------------------\n",
            "File Nme:/content//drive/My Drive/Colab_Notebooks/Reddit_data/Reddit_Clean_Data_text_2005_2012/RC_2011-10_csv_parsed_3\n",
            "['i thought that i could take photographs with my bellybutton .  i would lift up my shirt , demand that one of my parents smile for the camera and press my finger into my navel and mimic the sound of the shutter opening .  i would then present them with their imaginary photograph .  i was a strange child .\\n', '\\n', \"well that ' s enough internet for me for the day . see you all later\\n\", '\\n', \"look , see , the green light isn ' t onit was off .\\n\"]\n",
            "---------------------------------------------\n",
            "File Nme:/content//drive/My Drive/Colab_Notebooks/Reddit_data/Reddit_Clean_Data_text_2005_2012/RC_2011-10_csv_parsed_4\n",
            "['the spider chronicles jersey wife approved . go check it out\\n', '\\n', 'civil libertyfinancial literacycritical thinking\\n', '\\n', \"wouldn ' t the food fall out of the contraption when he takes a sip of the beer\\n\"]\n",
            "---------------------------------------------\n",
            "File Nme:/content//drive/My Drive/Colab_Notebooks/Reddit_data/Reddit_Clean_Data_text_2005_2012/RC_2011-10_csv_parsed_5\n",
            "[\"there had been many occasions when i was in or near an elevator where i looked at my watch in attempt to find out which floor i ' m on at the moment . another incident , i have an alarm on both my phone and ipod touch which rang at the same time , but with different music . one day , i spent some time pressing buttons on my phone trying to turn off the alarm . i only realized that the alarm was coming from the ipod after i removed the battery from the phone in attempt to silence it .\\n\", '\\n', 'went back to a girl who got me thrown in jail . infact i went back to her a couple times . stupid young me .\\n', '\\n', 'sometimes , understatement is awesome .\\n']\n",
            "---------------------------------------------\n",
            "File Nme:/content//drive/My Drive/Colab_Notebooks/Reddit_data/Reddit_Clean_Data_text_2005_2012/RC_2011-11_csv_parsed_1\n",
            "['plastic grocery bags .\\n', '\\n', \"yeah that ' s basically what i would look like if i felt like taking my shirt off\\n\", '\\n', \"the answer to the why are manhole covers round asinine interview question is that a round cover can ' t fall into the hole no matter the orientation . i have no idea why interviewers ask this .\\n\"]\n",
            "---------------------------------------------\n",
            "File Nme:/content//drive/My Drive/Colab_Notebooks/Reddit_data/Reddit_Clean_Data_text_2005_2012/RC_2011-11_csv_parsed_2\n",
            "['upvotes for all of those things mate . high 5s .\\n', '\\n', 'it took humans over 1000 years after they first started forming civilizations before we figured out the stirrup . shit moves slow\\n', '\\n', \"i guess you didn ' t read that bit about circlejerk did youwell ,  i tried .\\n\"]\n",
            "---------------------------------------------\n",
            "File Nme:/content//drive/My Drive/Colab_Notebooks/Reddit_data/Reddit_Clean_Data_text_2005_2012/RC_2011-11_csv_parsed_3\n",
            "[\"not alone , but the pervasive psychological effects of being orphaned before being adopted , and the cultural gap of being in another countryspeaking another language and its effects on attachment etc . i would never say adoption = murder , that ' s retarded . i just think perhaps  some prospective adoptive parents underestimate these issues .\\n\", '\\n', 'you are the hero of the day\\n', '\\n', \"nothing wrong with lol , dota ' s too serious , and you don ' t get huehuehue\\n\"]\n",
            "---------------------------------------------\n",
            "File Nme:/content//drive/My Drive/Colab_Notebooks/Reddit_data/Reddit_Clean_Data_text_2005_2012/RC_2011-11_csv_parsed_4\n",
            "[\"yeah i played for about 6 hours , too . my friend even came over just to watch . now i ' m at work wondering if i can make a run for it and convince my boss to let me come back monday . maybe if i hit my head just right , i can black out and come to just in time to get out of work .\\n\", '\\n', \"c16 i ' m never getting it ...\\n\", '\\n', \"we have quest on two of our domains so i use get - qaduser on those , unfortunately on the third domain we don ' t have quest or adms and due to my rather odd position i ' m technically a contractor on the service desk but they keep handing me any project that requires scripting . i can ' t even submit a change request . that doesn ' t bother me too much though , i ' m only working this job because i am on a working holiday and they let me take 2 weeks off every 3 months to travel europe . my experience level of kinda between 2nd and third line doesn ' t give me a lot of contracting options when i am on a visa that expires next august . edit oops that turned into a bit of a rant\\n\"]\n",
            "---------------------------------------------\n",
            "File Nme:/content//drive/My Drive/Colab_Notebooks/Reddit_data/Reddit_Clean_Data_text_2005_2012/RC_2011-11_csv_parsed_5\n",
            "[\"i can not even fucking explain to you how hard i am laughing . out of all the videos posted , i ' ve laughed my ass off , but * this *... oh , shit . i can ' t even breathe .\\n\", '\\n', \"the last time i heard about a guy named sawyer on a plane , it didn ' t go so well ... can you blame your dog for being terrified\\n\", '\\n', \"i think you guys are doing great .  your wife looks fantastic where she is , and i hope you guys meet your goals and surpass them  a lot of people are wont to say , you already look perfect , don ' t change how you look due to the societal backlash against ridiculously skinny models .  the truth is , most people are slightly overweight , even if they look beautiful anyway , and losing a few pounds , for both health and for aesthetic reasons , is something that ' s a win - win for everyone . i ' ll be fapping for her at the finish line .\\n\"]\n",
            "---------------------------------------------\n",
            "File Nme:/content//drive/My Drive/Colab_Notebooks/Reddit_data/Reddit_Clean_Data_text_2005_2012/RC_2011-12_csv_parsed_2\n",
            "['the best side is homeboy who runs the skyforge .  joined the stormcloaks more or less by accident ... was trying to buy a house in the last town where i didnt have one and when you ask him he says it doenst matter who wins ... they both want to tell you how to live your life .* wisdom *\\n', '\\n', 'yeah , guess so . looks like some sort of cross over between a fish and a pig p\\n', '\\n', \"i ' m writing a note here .\\n\"]\n",
            "---------------------------------------------\n",
            "File Nme:/content//drive/My Drive/Colab_Notebooks/Reddit_data/Reddit_Clean_Data_text_2005_2012/RC_2011-12_csv_parsed_3\n",
            "['backstab is a tech ability anyways , not melee at all . cunning affects it the most also power and crit chance .\\n', '\\n', \"we ' ve found something you love victory is ours on this great day\\n\", '\\n', \"it will be a permanent feature as far as i ' m concerned\\n\"]\n",
            "---------------------------------------------\n",
            "File Nme:/content//drive/My Drive/Colab_Notebooks/Reddit_data/Reddit_Clean_Data_text_2005_2012/RC_2011-12_csv_parsed_4\n",
            "[\"tell my in - laws to move . i ' m going back eventually it was just a visit to see them .\\n\", '\\n', 'oh my god .  larry craig was your uncle\\n', '\\n', \"i think i ' d start thomas over holmes . he has more upside than holmes . and honestly , i hate to say it , but i trust tebow more than sanchez at the moment .\\n\"]\n",
            "---------------------------------------------\n",
            "File Nme:/content//drive/My Drive/Colab_Notebooks/Reddit_data/Reddit_Clean_Data_text_2005_2012/RC_2011-12_csv_parsed_5\n",
            "[\"you might find this interesting . it ' s a very compact 3 destination station there ' s one for 4 destinations as well .\\n\", '\\n', 'your a man of a million faces .\\n', '\\n', 'man , that headdress always makes me think of jafar from aladdin that peacock pattern on the flank looks awesome\\n']\n",
            "---------------------------------------------\n",
            "File Nme:/content//drive/My Drive/Colab_Notebooks/Reddit_data/Reddit_Clean_Data_text_2005_2012/RC_2011-12_csv_parsed_1\n",
            "[\"yes , somewhere there is a video of her admitting she wasn ' t serious and it was all a joke or something .\\n\", '\\n', \"only if you don ' t own property with a sidewalk , or drive , or leave the house , or desire a steady supply of electricity .  snow requires cold , and cold is not fun .\\n\", '\\n', \"i ' m honoured .  i don ' t think anyone has ever used one of my pictures as their background before .  thanks\\n\"]\n",
            "---------------------------------------------\n",
            "File Nme:/content//drive/My Drive/Colab_Notebooks/Reddit_data/Reddit_Clean_Data_text_2005_2012/RC_2012-01_csv_parsed_1\n",
            "[\"isn ' t this against the first amendment doesn ' t the first amendment give us the right to assemble and protest\\n\", '\\n', 'yeah nice ... except for the fact that everyone who contracted aids back then did not even know that the disease even existed .  he is clearly alluding to gay sex as being the cause as this is what religious nuts like paul used to cry about .\\n', '\\n', 'bro , i figuratively just watched that episode .\\n']\n",
            "---------------------------------------------\n",
            "File Nme:/content//drive/My Drive/Colab_Notebooks/Reddit_data/Reddit_Clean_Data_text_2005_2012/RC_2012-01_csv_parsed_2\n",
            "[\"do it as you wish just don ' t tease her with it and try to be slick about it it can really have repercussions on her humor for the day i swear\\n\", '\\n', 'this seems likely . opposing team was running double ap .\\n', '\\n', \"i didn ' t learn this until college .  this girl i was seeing at the time called it cheating\\n\"]\n",
            "---------------------------------------------\n",
            "File Nme:/content//drive/My Drive/Colab_Notebooks/Reddit_data/Reddit_Clean_Data_text_2005_2012/RC_2012-01_csv_parsed_3\n",
            "[\"it most definitly is possible . i won ' t go into the saucy details , but it works for me .\\n\", '\\n', 'all of the sudden . get out of my earth .\\n', '\\n', 'i sneezed so hard that i farted once . inappropriately .\\n']\n",
            "---------------------------------------------\n",
            "File Nme:/content//drive/My Drive/Colab_Notebooks/Reddit_data/Reddit_Clean_Data_text_2005_2012/RC_2012-01_csv_parsed_4\n",
            "[\"got to give a thumb ' s up for the mulan reference . one of the best disney movies ever .\\n\", '\\n', \"and that ' s how i got this black eye .\\n\", '\\n', \"yep . this is how i figure out who watches the cowboys and who doesn ' t . if you still bitch about romo this year , you don ' t even deserve to call yourself a fan . he was great . if you want to hate and blame someone , i ' d start with rob ryan .\\n\"]\n",
            "---------------------------------------------\n",
            "File Nme:/content//drive/My Drive/Colab_Notebooks/Reddit_data/Reddit_Clean_Data_text_2005_2012/RC_2012-01_csv_parsed_5\n",
            "['the more recent girl also followed them to 3 different bars that evening . seems a little fishy to me .\\n', '\\n', \"i know it ' s not dc , but what about scarlet spider 1 probably would be a good jumping on point for new readers .\\n\", '\\n', \"this is what i ' m implying .\\n\"]\n",
            "---------------------------------------------\n",
            "File Nme:/content//drive/My Drive/Colab_Notebooks/Reddit_data/Reddit_Clean_Data_text_2005_2012/RC_2012-01_csv_parsed_6\n",
            "[\"there are cheaper generics . i don ' t have insurance , but my mother gets me a d - amphetamine salt combo it ' s a generic for adderall , hat ' s just what it said on the bottle . i get a 30 day supply each pill is 20 mg , i take one every morning for just 30 dollars . sorry i cant give more information , but hopefully this helps a little . you can ask a physician about them , perhapsedit it ' s mfg corepharma .\\n\", '\\n', 'his point is more galling when you consider that code elements that are treated as actual libraries in other langs tend to be linked directly to the php executable itself when it is built . nothing minimal about it . look at the . configure options ...\\n', '\\n', \"secretary probably helped this but she just seems to exude sexuality . that ' s what makes her more attractive than most .\\n\"]\n",
            "---------------------------------------------\n",
            "File Nme:/content//drive/My Drive/Colab_Notebooks/Reddit_data/Reddit_Clean_Data_text_2005_2012/RC_2012-02_csv_parsed_1\n",
            "['gary paytonbruce bowendoug christiekevin garnettd howard\\n', '\\n', \"you sound a lot like my best friend . he also has ptsd from his time served in iraq . he is currently trying emdr but to no avail . this , the psychiatrists think , is to do with apparent ' asperges syndrome '. my question is , do you believe that the emdr will cure you instantly , like they claim it will , as my friend sure as hell does not think so . also , i ' ve seen what ptsd has done to him so my heart really goes out to you and i hope that one day you will be cleared of this horrific affliction\\n\", '\\n', \"don ' t stop shooting film - you can always replace the camera with something like one of those olympus om cameras which are pretty compact with razor sharp lenses that are pretty affordable on used market . if size is a concern and you absolutely have to go digital , i would look into the upcoming fuji x - pro 1 camera . it ' s not a dslr , as it doesn ' t have a rotating mirror , but the sensor size and image quality are on par with a higher end dslr .\\n\"]\n",
            "---------------------------------------------\n",
            "File Nme:/content//drive/My Drive/Colab_Notebooks/Reddit_data/Reddit_Clean_Data_text_2005_2012/RC_2012-02_csv_parsed_2\n",
            "['... in canada\\n', '\\n', \"i believe this to be the number 1 cause of glock malfunctions that i ' ve personally witnessed .  especially among women , limp wristing is very common .\\n\", '\\n', \"your egg just egg ' d\\n\"]\n",
            "---------------------------------------------\n",
            "File Nme:/content//drive/My Drive/Colab_Notebooks/Reddit_data/Reddit_Clean_Data_text_2005_2012/RC_2012-02_csv_parsed_3\n",
            "['apple cobbler crunch psu berkey creamery\\n', '\\n', 'green tea . delicious , delicious green tea .\\n', '\\n', \"i ' ve only encountered three people in my sphere with cancer , the longest wait from first detection to surgery has been 18 days .  i ' d be interesting to see statistics for the queue and not just void comments about how bad the extremes are even though they shouldn ' t happen either .\\n\"]\n",
            "---------------------------------------------\n",
            "File Nme:/content//drive/My Drive/Colab_Notebooks/Reddit_data/Reddit_Clean_Data_text_2005_2012/RC_2012-02_csv_parsed_4\n",
            "['also , his punctuation , grammar , and spelling are horrible . i do not foresee good things for this thread .\\n', '\\n', 'comes highly recommended .\\n', '\\n', \"alright .  i ' ve decided to make it into an auction on spuf , since i ' ve gotten so many offers and i need time to think .  it ends friday , your offer is the current highest . here ' s the threadedit your competitor added men of war vietnam to dota 2 and elder scrolls complete\\n\"]\n",
            "---------------------------------------------\n",
            "File Nme:/content//drive/My Drive/Colab_Notebooks/Reddit_data/Reddit_Clean_Data_text_2005_2012/RC_2012-02_csv_parsed_5\n",
            "['no way is this real . right have i been living in the wrong area my whole life\\n', '\\n', \"seriously , his impression was spot on . i ' d love to see him back\\n\", '\\n', \"well , it could ' ve been a rooster .\\n\"]\n",
            "---------------------------------------------\n",
            "File Nme:/content//drive/My Drive/Colab_Notebooks/Reddit_data/Reddit_Clean_Data_text_2005_2012/RC_2012-02_csv_parsed_6\n",
            "['scumbag replier does not understand a joke d .\\n', '\\n', \"i sometimes have the same problem , sometimes i try to blame it on my oven , but i think overmixing is definitely a possibility , especially with an electric hand beater . if you don ' t have a stand mixer you should probably mix it manually and even you use a stand mixer , don ' t mix it too much . on many recipes they actually say mix until just combined , not more . good luck , i know how frustrating that is\\n\", '\\n', \"even though he died two years before i was born , freddie ' s voice was the sound of my childhood . he is a legend .\\n\"]\n",
            "---------------------------------------------\n",
            "File Nme:/content//drive/My Drive/Colab_Notebooks/Reddit_data/Reddit_Clean_Data_text_2005_2012/RC_2012-03_csv_parsed_1\n",
            "['dmesg output can also be very useful .\\n', '\\n', \"you can tell it ' s deep bc of the typewriter font .\\n\", '\\n', \"hmm . the stay would have to be accordingly cheap in order to balance the flight , but it ' s unlikely .... anything specific you can show me websitepics etc ...\\n\"]\n",
            "---------------------------------------------\n",
            "File Nme:/content//drive/My Drive/Colab_Notebooks/Reddit_data/Reddit_Clean_Data_text_2005_2012/RC_2012-03_csv_parsed_2\n",
            "['how much for that gold v . v . merryweather\\n', '\\n', 'my sister comes to my mind\\n', '\\n', \"it ' s definitely not for everyone , especially if you ' re not the outdoorsy type . there isn ' t too much of a club scene or party life outside of downtown slc , but it has everything i enjoy . a lake for wakeboarding , mountains for snowboarding , desert for dirtbiking , fields for paintballing . the strict rules enforced and influenced by the church are kind of a bummer sometimes , but it ' s nothing that ' s very hard to get around , especially being just two hours from slc to las vegas . i ' m just glad they let shoot off the really nice fireworks now .\\n\"]\n",
            "---------------------------------------------\n",
            "File Nme:/content//drive/My Drive/Colab_Notebooks/Reddit_data/Reddit_Clean_Data_text_2005_2012/RC_2012-03_csv_parsed_3\n",
            "[\"you ' re not funny . not . funny .\\n\", '\\n', \"as a type 1 diabetic , i can say safely that my condition is nothing like alcoholism . kinda getting sick of all diabetics getting lumped into the it ' s because your fat category . my pancreas is dead , it ' s not a weight issue .\\n\", '\\n', \"if you do , remember that toppings especially cheese will cook differently when they ' re * inside * something say , a cone - shaped piece of pizza dough than they would on the surface of a pizza . it might be best to , for example , cook the toppings onto the interior surface of the cone layer - by - layer . also , as other people have pointed out , you ' ll need to be careful to avoid it becoming soggy at the bottom . other than not being commercially viable for fast food because it ' d either be garbage or take an unprofitably - large amount of labour and time , i am with you in the belief that a pizza cone that * actually tastes like good pizza * is entirely possible . hell , you could just cook a pizza and scrape the toppings off into a separately - cooked cone of pizza dough .\\n\"]\n",
            "---------------------------------------------\n",
            "File Nme:/content//drive/My Drive/Colab_Notebooks/Reddit_data/Reddit_Clean_Data_text_2005_2012/RC_2012-03_csv_parsed_4\n",
            "[\"yay the show has some awesome potential . i ' m kind of hoping they get further away from the freak - of - the - week format .\\n\", '\\n', 'til that at one point , brady quinn led a successful drive .\\n', '\\n', \"it ' s been a while now since the last update to the very alpha ics build for the g2x that arcee was working on . this experience has really put a bad taste in my mouth for nvidia i already swore off their pc hardware long ago so i think it will be back to snapdragon for me . i have an upgrade stashed away for when something good hits .\\n\"]\n",
            "---------------------------------------------\n",
            "File Nme:/content//drive/My Drive/Colab_Notebooks/Reddit_data/Reddit_Clean_Data_text_2005_2012/RC_2012-03_csv_parsed_5\n",
            "['that is the most amazing thing i have witnessed all day . thank you .\\n', '\\n', \"because that ' s what the game is lana , survival\\n\", '\\n', \"i don ' t know why ... and i know this adds nothing to the discussion but i love small controversyconspiracy videos with this song for some reason .\\n\"]\n",
            "---------------------------------------------\n",
            "File Nme:/content//drive/My Drive/Colab_Notebooks/Reddit_data/Reddit_Clean_Data_text_2005_2012/RC_2012-03_csv_parsed_6\n",
            "[\"isn ' t this best tackled at sourceif he ' s the boss , depending on your aup and the laws where you are he may be entitled to access your mailbox . if he ' s the boss , and he finds out you ' re trying to stop him ... if he isn ' t the boss , speak to the guy that is ... fwiw i ' ve never come across anything that does what you want , not even sure how you ' d encrypt a mailbox on exchange tbh as that would require it to be done server side and i haven ' t seen anything that can do this\\n\", '\\n', 'they also selectively omit author attribution .\\n', '\\n', \"i ' m still cool with my roommate .  it was his friends . to make a long story short , i had to work in the morning , they were being loud at 5am , i asked them to leave and they basically said fuck you .  so i confronted them and said , leave or i call the cops or beat your ass .  they decided on the latter .  the one guy who pressed the issue , i put in the hospital .  i want you and everyone to understand i am not trying to sound like a badass , i was simply trying to get them to leave .  both of the guys neglected to press charges but in this case the state of ohio pressed charges on me .  me , being a poor sap couldn ' t afford to fend them off so my public defender said because of my good history i should just plead guilty and the judge would never send me to prison .  well ... money wins . i did 2 years .  i ' m not saying i should have have fought the kids , but damn . . . 2 years .  anyway , i ' m over it and am living my life . edit spelling\\n\"]\n",
            "---------------------------------------------\n",
            "File Nme:/content//drive/My Drive/Colab_Notebooks/Reddit_data/Reddit_Clean_Data_text_2005_2012/RC_2012-04_csv_parsed_1\n",
            "[\"i think an equally real problem is the media - they are how we learn about things in the world - and they ' ve proven we can ' t trust them .  i would have no problem with zimmerman getting 50 million from nbcfor doing this to himit ' s a fox link but still .....\\n\", '\\n', 'yeah , im going to keep at it till i get the shirt\\n', '\\n', 'here you go\\n']\n",
            "---------------------------------------------\n",
            "File Nme:/content//drive/My Drive/Colab_Notebooks/Reddit_data/Reddit_Clean_Data_text_2005_2012/RC_2012-04_csv_parsed_2\n",
            "['first place was 27 minutes for a 5k\\n', '\\n', 'he obviously parked like that to avoid his doors hitting the other cars .\\n', '\\n', 'haha i wonder how that will end up working out .  will have to wait til next year i guess .\\n']\n",
            "---------------------------------------------\n",
            "File Nme:/content//drive/My Drive/Colab_Notebooks/Reddit_data/Reddit_Clean_Data_text_2005_2012/RC_2012-04_csv_parsed_3\n",
            "[\"what a lucky guy and yes there is a double standard . it wouldve been considerate if she told you ... but she didn ' t so maybe she likes the attention that guy is giving her\\n\", '\\n', \"stinky pete is kelsey grammar ' s character in toy story .\\n\", '\\n', \"when i first came to terms with being gay my therapist was the first person i told , and i ' m glad i did . she helped to put things into perspective and help me realize that my life didn ' t have to be any different because i was gay . i was 19 at the time so i had spent enough time in the closet and would probably had come out whether i had her to talk to or not , but having that resource to keep me sane i feel really made an impact on my coming out process being as smooth as it was . like others have said , you most likely have a confidentiality agreement with your therapist that keeps her from divulging any of your personal information except in extreme circumstances . i would recommend you keep talking to her about it if you ' re comfortable in doing so . it can be very beneficial to have a neutral party to discuss these issues with rather than let them fester inside of you . i hope everything turns out well for you .\\n\"]\n",
            "---------------------------------------------\n",
            "File Nme:/content//drive/My Drive/Colab_Notebooks/Reddit_data/Reddit_Clean_Data_text_2005_2012/RC_2012-04_csv_parsed_4\n",
            "[\"well then , i gave an answer to your interesting discussion , care to counter  we ' re supposed to reproduce because most of our evolutionary adaptions were selected for purpose of ensuring the perpetuation of our genes .  our intelligence allows us to choose in your average case whether we do or not .\\n\", '\\n', \"i guess i just don ' t see why it appears to be socially acceptable .  same with appearance , if someone was disfigured , or had a medical issue of some sort , and you made fun of their appearance you ' d be given all sorts of shit , but if you make fun of someone who just got dealt a shit hand you ' d be less likely to get any crap , and more likely to get laughs . you ' re right in that it ' s going to happen , and i ' d just be curious what the psychology behind the disconnect is .\\n\", '\\n', \"as long as we ' re on lenape words , their name for the schuylkill is ganshohawanee which means rushing and roaring waters .\\n\"]\n",
            "---------------------------------------------\n",
            "File Nme:/content//drive/My Drive/Colab_Notebooks/Reddit_data/Reddit_Clean_Data_text_2005_2012/RC_2012-04_csv_parsed_5\n",
            "[\"banelings . the counter to shredders . i am glad that they ' re taking them out\\n\", '\\n', 'there actually was a pretty serious naval engagement there in ww1 ...\\n', '\\n', \"how do you like starbucks i haven ' t minded so far\\n\"]\n",
            "---------------------------------------------\n",
            "File Nme:/content//drive/My Drive/Colab_Notebooks/Reddit_data/Reddit_Clean_Data_text_2005_2012/RC_2012-04_csv_parsed_6\n",
            "['dragon cheated in brood war , not sc2 . he left slayers and a month after he joined millenium , how is that enough time for resetting as a pro gamerand destiny has not been pro - gamer since release lol . he was like a masters zerg streaming , being kind of funny and eventually becoming more popular . dragon is and has been a good bit better than destiny for as long as sc2 has been out . you should get your starcraft history together .\\n', '\\n', 'pedo dracula loves you .\\n', '\\n', \"that ' s not a boy , it ' s a man .\\n\"]\n",
            "---------------------------------------------\n",
            "File Nme:/content//drive/My Drive/Colab_Notebooks/Reddit_data/Reddit_Clean_Data_text_2005_2012/RC_2012-04_csv_parsed_7\n",
            "['ah , well i only took a high school course in law . my bad .\\n', '\\n', 'i would usually agree , but i have no problem with anyone making a personal attack against the greifers like scope who are burning down cities .\\n', '\\n', 'i think i will thank you very much . ps . you sn is slightly deceiving for how nice you are .\\n']\n",
            "---------------------------------------------\n",
            "File Nme:/content//drive/My Drive/Colab_Notebooks/Reddit_data/Reddit_Clean_Data_text_2005_2012/RC_2012-05_csv_parsed_1\n",
            "[\"drogba ' s not getting sold , he ' s out of contract . either he re - signs or he leaves on a free .\\n\", '\\n', \"i guess my memory isn ' t as bad as i thought .\\n\", '\\n', 'i just watched  this for like 5 minutes .\\n']\n",
            "---------------------------------------------\n",
            "File Nme:/content//drive/My Drive/Colab_Notebooks/Reddit_data/Reddit_Clean_Data_text_2005_2012/RC_2012-05_csv_parsed_2\n",
            "['for instance , many of the laws about stoning to death have been interpreted to require such a high degree of specificity , that they in practice are never enacted . so if i admit to being a witch or to picking up sticks on the sabbath leaving nothing left to interpretation or deliberation what arbitrary set of specificities will one make up to ensure that capital punishment is not enacted\\n', '\\n', 'maybe in appearance , but in lore , i would think darius ranks higher than garen . sion and garen would be opposite as field commanders , darius and xin as the lieutenants , j4 and swain as opposite leaders .\\n', '\\n', '* cringe *\\n']\n",
            "---------------------------------------------\n",
            "File Nme:/content//drive/My Drive/Colab_Notebooks/Reddit_data/Reddit_Clean_Data_text_2005_2012/RC_2012-05_csv_parsed_3\n",
            "['is all reddit playing only normals on 900 elo\\n', '\\n', 'it ends the game and gives the player who caught it a crazy amount of points . something like 40 . if a team was to win despite not getting the snitch the teams were horribly mismatched . like the yankees playing a kids baseball team . the game the other players playing is mostly pointless . no game that unbalanced could ever become so popular .\\n', '\\n', 'he died again\\n']\n",
            "---------------------------------------------\n",
            "File Nme:/content//drive/My Drive/Colab_Notebooks/Reddit_data/Reddit_Clean_Data_text_2005_2012/RC_2012-05_csv_parsed_4\n",
            "['300 pounds ... ooooh\\n', '\\n', \"nope , actually i ' m not trying to update the profile picturethat would have been tons easier .  i ' m using the facebook timeline layout , so they allow you to put a huge cover photo at the very top of your page , but i ' m guessing they didn ' t integrate the ability to change it in any of the mobile sites , or the mobile app .\\n\", '\\n', \"that first link is only for commercial purposes though , and the violations on the 2nd link seem to be in relation to breaking specific regulations , like keeping female lobsters w eggs , lobsters smaller than a specific size , window lobsters , fishing in a buffer zone , or fishing out of date . no one has shown me anything about whether or not personal fishing is allowed . seems to me , by virtue of those violations , that if you do lobster fish , for yourself , and do not violate those regulations , than you aren ' t breaking the law . i think i will wait to see what the dfo says , and i will report back with the answer .\\n\"]\n",
            "---------------------------------------------\n",
            "File Nme:/content//drive/My Drive/Colab_Notebooks/Reddit_data/Reddit_Clean_Data_text_2005_2012/RC_2012-05_csv_parsed_5\n",
            "['louis , as an aspiring comedian , i was wondering if you could give me tips also , right or left handed masturbation\\n', '\\n', \"mr . ck , i ' d like to begin by saying what a huge fan i am .  your hbo sitcom was one of the funniest things i ' ve ever seen on television .  i loved the fact that afaik  the only mics were on the floor and therefore the actors had to truly project to the back of the room making it seem much more like a live performance . is there any insight you can provide as to why it didn ' t run multiple seasons  when they replaced it with that shitty concords show i was all  thanks again for providing me some of the most quotable material i ' ve ever heard .  you fucking rockedit also please suck a bag of dicks duck vagina .\\n\", '\\n', 'although some can still count to it .\\n']\n",
            "---------------------------------------------\n",
            "File Nme:/content//drive/My Drive/Colab_Notebooks/Reddit_data/Reddit_Clean_Data_text_2005_2012/RC_2012-05_csv_parsed_6\n",
            "[\"but come on , if you look at every single advertisement on tv , verizon is always showing motorola devices . droid has practically become synonymous with motorola , with the only non - motorola droids being the incredible series and the droid charge . and the droid line is verizon ' s bread and butter . it ' s what you come across first when you walk into the store , with the iphone , non - droid androids , and flip phones further back in the store . ok , fine . but this guy wasn ' t trying to sell me a motorola device . he never even mentioned a motorola . so the theory that he was steering me away from the nexus in order to sell me a motorola doesn ' t stand . so what ' s the theory verizon is in bed with motorola , so the rep was steering me away from the nexus and towards ... an htc , or an lg all because of some conspiracy against samsungsure these things are possible , but it is just as possible that this store is fed up with people coming back and having problems with the nexus . if i had never heard anything about the nexus having connectivity problems then i ' d be a little more willing to buy into this conspiracy thing , but as it stands i ' ve readheard enough about nexus connectivity problems to believe there is a legitimate possibility that it could be an issue . sorry , but connectivity is a pretty big priority when it comes to cell phones . i can wait for something better .\\n\", '\\n', 'the mob would have a field day with this .  it would be like the king of the beggars .  some thug would certainly show up to collect your monthly cash and good luck doing anything about it .\\n', '\\n', 'remember that gasping for air feeling through the rest of the program . remember that a single minute did it to you . the progress is amazing .\\n']\n",
            "---------------------------------------------\n",
            "File Nme:/content//drive/My Drive/Colab_Notebooks/Reddit_data/Reddit_Clean_Data_text_2005_2012/RC_2012-05_csv_parsed_7\n",
            "[\"jon will keep longclaw , rickon will get widow ' s wail .\\n\", '\\n', 'here you go linkus - 50 near eureka , nv . straight , flat , and empty for miles .\\n', '\\n', \"great picture  it ' s actually my new background now 3\\n\"]\n",
            "---------------------------------------------\n",
            "File Nme:/content//drive/My Drive/Colab_Notebooks/Reddit_data/Reddit_Clean_Data_text_2005_2012/RC_2012-06_csv_parsed_1\n",
            "[\"my windows are tinted so dark , you can ' t see what is in my car . great anti - theft deterrent .\\n\", '\\n', 'i will now refer to all good sandwiches as off the chain .\\n', '\\n', \"never got that joke from the movie . he ' s a virgin - he has clearly gotten with women before though . just because he hasn ' t fucked doesn ' t mean that he has never squeezed a damn titty . is there a man above the age of 18 who has actually never squeezed the boob of a woman he finds attractive\\n\"]\n",
            "---------------------------------------------\n",
            "File Nme:/content//drive/My Drive/Colab_Notebooks/Reddit_data/Reddit_Clean_Data_text_2005_2012/RC_2012-06_csv_parsed_2\n",
            "['because nothing says sexy like sensodyne .\\n', '\\n', \"hahahaha . i ' m glad i didn ' t drink tonight cause i would be scared to come back . anyways dude , ill stop bothering you im sure ill see you around here sometime soon . take care ......* one ... giant .. conspiracy ..*\\n\", '\\n', \"okay .  i just left the cave .  making my way to the town .  i just hope to god i have a cyndaquil bred , lol  if i don ' t is an egg okay  i ' m pretty sure i do though .\\n\"]\n",
            "---------------------------------------------\n",
            "File Nme:/content//drive/My Drive/Colab_Notebooks/Reddit_data/Reddit_Clean_Data_text_2005_2012/RC_2012-06_csv_parsed_3\n",
            "['hold up .. snookie is pregnant and i somehow missed this finally my life is coming together\\n', '\\n', 'froggen is that you\\n', '\\n', 'yes i am still looking for those , could i see a picture of the games i can send you a picture of the games i have if you want them\\n']\n",
            "---------------------------------------------\n",
            "File Nme:/content//drive/My Drive/Colab_Notebooks/Reddit_data/Reddit_Clean_Data_text_2005_2012/RC_2012-06_csv_parsed_4\n",
            "[\"i currently have the time skim through it . it seems that he had some problems with how ayn rand explained herself . i myself always found myself sometimes confused by what she try to say . i think he may also be quite theistic . that would definitely cause conflict with objectivism . if you do not  believe in the metaphysics , everything will more than likely crumble . i would love to read someone ' s full analysis of the pdf .\\n\", '\\n', 'some of us play to be the very best ... like no one ever was .\\n', '\\n', \"that makes sense . i ' m pretty confident in overcoming fireball spam , but i still get caught off guard by how fast a light shoryuken is at times\\n\"]\n",
            "---------------------------------------------\n",
            "File Nme:/content//drive/My Drive/Colab_Notebooks/Reddit_data/Reddit_Clean_Data_text_2005_2012/RC_2012-07_csv_parsed_8\n",
            "[\"i don ' t see how being too stupid or lazy to find a form of personal identification counts as disenfranchisement . i probably have 3 forms that are acceptable on my person at any given time . you have to have id to get a drivers license , do any banking , and so on . why not when you go vote\\n\", '\\n', \"actually i was making a joke based on the word ' mate '.\\n\", '\\n', \"yeah i ' m actually in very good shape , athlete at a d1 school and all . but i have actually tried your first suggestion and i can do that . just in case it comes down to it , how does one get their hands on cialis without a prescription or mail order\\n\"]\n",
            "---------------------------------------------\n",
            "File Nme:/content//drive/My Drive/Colab_Notebooks/Reddit_data/Reddit_Clean_Data_text_2005_2012/RC_2012-08_csv_parsed_1\n",
            "['everything checks out here , move along .\\n', '\\n', 'a baby seal walks into a club\\n', '\\n', 'a white sheet over your head with eyeholes .  a classic ghost .  if you want a deeper cut into the memory rut , cut more holes than necessary and go as charlie brown\\n']\n",
            "---------------------------------------------\n",
            "File Nme:/content//drive/My Drive/Colab_Notebooks/Reddit_data/Reddit_Clean_Data_text_2005_2012/RC_2012-08_csv_parsed_2\n",
            "[\"if your doctor isn ' t helping , get a new one . don ' t deal with a doctor that won ' t prescribe you anything that works when you ' ve got a problem that bad .\\n\", '\\n', \"i ' m only listening on cheap headphones , so keep that in mind . i personally feel that the vocals are a bit too loud , but i generally mix my vocals further back than most . we generally can pick out human voices pretty well so they don ' t need to be really forward . during the quieter parts , i feel the drums lack a little oomph . kick doesn ' t really come through and the snare feels overly distant . however , when the drummer pumps up the dynamics it sounds pretty good . so , that could just be an artistic preference of theirs , but i would have compressed the drums a bit more to even out the dynamics . another preference , but i like a clickier kick and less of the woofy thing you ' ve got going on , but it ' s just a more vintage sound and doesn ' t sound out of place . guitars throughout sound really good , lots of clarity and just enough differentiation from the different parts that you can pick them all out . at the end with the crunchier distortion they sound pretty awesome , i ' m a little jealous of that tone , haha . the only issue here was that occasionally i felt like the vocals were overtaking the guitar ' s space sometimes . overall , with a good mastering job this sounds pretty damn professional . good work . i wish i had a more controlled listening set up at the moment for some more detailed critiques , but overall , on mediocre headphones , it sounds good .\\n\", '\\n', \"some older teenagers like to sext .  while one may say it can be harmful for those pictures to end up online especially if friendsfamily find out , that type of ' harmfulness ' is a world of difference from the harmfulness of sexual abuse .\\n\"]\n",
            "---------------------------------------------\n",
            "File Nme:/content//drive/My Drive/Colab_Notebooks/Reddit_data/Reddit_Clean_Data_text_2005_2012/RC_2012-08_csv_parsed_3\n",
            "[\"the agility staff is a lvl 85 heirloom now ... it was gathered from questing , as you would find a world item drop . the best was , it didn ' t scale down ... my monk was running around with 10k hp , 300 % critdodge at lvl 12 . i found it on my lvl 90 87 at the time warlock while questing . last week my monk was no longer able to equip it , it was instead sitting on my bags with the level requirement of 85 . back to 1 handed maces .\\n\", '\\n', \"try some guacamole with chips . hell , go for nachos and get some guac on the side and ease into it . maybe you could even work up to having some fresh tomatoes in the guacamole . then maybe some small diced red onions the next time . just keep adding things -- black olives , some mild jalapenos , sour cream , a little bit of shredded lettuce . you ' ll be a pro in no time nachos are frickin ' amazing .\\n\", '\\n', \"it is very sad , i agree . the logic with my high school is , apparently , keeping out people who don ' t belong there , but it just makes it a very ... strange environment .\\n\"]\n",
            "---------------------------------------------\n",
            "File Nme:/content//drive/My Drive/Colab_Notebooks/Reddit_data/Reddit_Clean_Data_text_2005_2012/RC_2012-08_csv_parsed_4\n",
            "[\"i didn ' t think utah would suite me either , i lived there when i was young but grew up in pa . ut is a great place , you really don ' t know though until you live there .\\n\", '\\n', 'seriously cut cheeks .\\n', '\\n', 'does it have to be powered\\n']\n",
            "---------------------------------------------\n",
            "File Nme:/content//drive/My Drive/Colab_Notebooks/Reddit_data/Reddit_Clean_Data_text_2005_2012/RC_2012-08_csv_parsed_5\n",
            "[\"not at all . i think it ' s kinda fucked up that op thinks of kids and dogs as equally responsible for things . a dog is owned . kids are not - one parents them , not owns them .\\n\", '\\n', \"one thing that i was taught growing up in a tbm household as a small child is that your conscience is ' angels ' around you whispering to you ' to do good ', or satan ' s followers cast out from heaven telling you to ' do bad '. as i ' ve grown up and moved away from the church , and now become mostly atheist with a dash of agnostic , i believe that this is part of our brain , and psyche .  it can come from how you were raised to be influenced , but i believe that if you have the capability over your actions , you have the ability to know ' right from wrong ' without having to believe it ' s being influenced from an outside ' spirit '.  i ' ve heard arguments for decades that ' you cannot have morals without religion ', and i ' ve shut down a few bible thumpers  by demonstrating what bs that is .  so , that ' still small voice ' we were raised withtaught about  it ' s inside your brain .  every brain is wired just a little different , and in some cases , quite different .  in some , that part is a large part of their brain think ghandi .  other people , that part is smallnonexistant think hitler .  in other people , they have some form of psychological or medical condition that will make them not know what the hell to go with see schizophreniabi - polar .  there are also those people who have taken years of verbal , physical and psychological abuse from bullies , adults , parents , relatives , religious figures , and they reach a point where they can ' t take it and mentally ' snap '.  my point here in this is  this perception is going to be absolutely different for each person , and no 2 people will have the same level or understanding of what another would .  try to live your life so that if you do your children will see you as a person they loverespect .  and for whatever diety ' s sake , do not use threats of disowningbeatingverbal threats if your child does not follow in your footsteps , especially religion .\\n\", '\\n', 'this was a ruse .\\n']\n",
            "---------------------------------------------\n",
            "File Nme:/content//drive/My Drive/Colab_Notebooks/Reddit_data/Reddit_Clean_Data_text_2005_2012/RC_2012-08_csv_parsed_6\n",
            "[\"i think that just because you ' re standing in front of a camera doesn ' t make you a model . i hate when girls say shit like this . ** i model ** more often than not translates to , ** i know an art student who lets me try and look meaningful in front of his dad ' s digital camera as he takes assignment photos and calls himself a ' photographer '** edit rogue apostrophe .\\n\", '\\n', 'isnt nsfl for violence and all that lark\\n', '\\n', 'i totally agree .\\n']\n",
            "---------------------------------------------\n",
            "File Nme:/content//drive/My Drive/Colab_Notebooks/Reddit_data/Reddit_Clean_Data_text_2005_2012/RC_2012-08_csv_parsed_7\n",
            "[\"helmet psas don ' t appear to be appreciated in this subreddit . upvotes every time from me .  i can suffer through a little repetitive content for the sake of public education .\\n\", '\\n', \"ahahaha ... no wait . this didn ' t actually make me laugh = why waste our time with this post , chicoedit no , * wait *, i take it back , this made me laugh i suck because i broke all the knuckles on my dominant hand punching myself in the face all the way home .\\n\", '\\n', 'all right , i should be able to get it to you later tonight\\n']\n",
            "---------------------------------------------\n",
            "File Nme:/content//drive/My Drive/Colab_Notebooks/Reddit_data/Reddit_Clean_Data_text_2005_2012/RC_2012-08_csv_parsed_8\n",
            "['left the heater on all the way . engine is up to temp , coolant boiling out top of funnel , air still blowing cold . radiator fans dont kick on until ac is run . even at temp , fans dont come on by themselves .\\n', '\\n', 'makes sense , glad to hear that color is on the way though\\n', '\\n', \"amazing i used to think i ' d never do a muscle up , but i have been doing them , albeit one at a time . feels good mang , and congrats .\\n\"]\n",
            "---------------------------------------------\n",
            "File Nme:/content//drive/My Drive/Colab_Notebooks/Reddit_data/Reddit_Clean_Data_text_2005_2012/RC_2012-08_csv_parsed_9\n",
            "[\"maybe you should spend some time with her and play with her thenleaving a dog to stare out a window is probably the saddest thing i ' ve ever seen .\\n\", '\\n', 'i was thinking of that . now , to find my 8 gb flash drive ... also , torrentingusing your mischievous ways lol would save me 17 $ for the optical drive . only use i had intended .\\n', '\\n', 'very , i got the beta but i cant read japanese so i deleted it . i will wait for the full game in 2013 . have you ever played psu or the first pso\\n']\n",
            "---------------------------------------------\n",
            "File Nme:/content//drive/My Drive/Colab_Notebooks/Reddit_data/Reddit_Clean_Data_text_2005_2012/RC_2012-06_csv_parsed_6\n",
            "['one more with aubrey and the other mf kids -\\n', '\\n', \"i live , work and spend my free time in a christian community . the other day my teaching partner at a christian preschool and i were talking during nap and she casually slipped in i assume you ' re pro - life as we were talking about babies and pregnancy . i nodded and let her continue . she was raised southern baptist and is actually dead - wrong about a lot , biblically . i ' ve tried gently correcting her in the past and pointing out the scripture that explicitly contradicts her , but she tends to get angry . i ' ve learned to just let it go . it scares me , though , that she represents my beliefs in public .\\n\", '\\n', 'i am all for accepting other cultures , but not other cultures bullshit .  if you wanna smoke peyote to get closer to god , be my guest .  if you wanna trash my town , get the hell out .\\n']\n",
            "---------------------------------------------\n",
            "File Nme:/content//drive/My Drive/Colab_Notebooks/Reddit_data/Reddit_Clean_Data_text_2005_2012/RC_2012-06_csv_parsed_7\n",
            "['so then you can snub them brilliant\\n', '\\n', \"you ' re not wrong . it was a lawyer ' s and a munchkin ' s wet dream .\\n\", '\\n', 'checkmate , vampires .\\n']\n",
            "---------------------------------------------\n",
            "File Nme:/content//drive/My Drive/Colab_Notebooks/Reddit_data/Reddit_Clean_Data_text_2005_2012/RC_2012-07_csv_parsed_1\n",
            "[\"it ' s okay , i still love you .\\n\", '\\n', 'we have to water our * house *.\\n', '\\n', \"just the right amount was altered , and omitted in my opinion . the black freighter book within a book wouldn ' t have worked at all , and the graphic novel ' s ending would have seemed really silly . i was kind of upset when hollis mason ' s death wasn ' t in the original cut , but i guess they had to keep the movie under four hours long . the truth is this that watchmen is an incredibly challenging movie to make . they had to compromise on a lot of stuff and it still turned out really damned good .\\n\"]\n",
            "---------------------------------------------\n",
            "File Nme:/content//drive/My Drive/Colab_Notebooks/Reddit_data/Reddit_Clean_Data_text_2005_2012/RC_2012-07_csv_parsed_2\n",
            "['it was late . i was tired and drunk .\\n', '\\n', \"guides are a good way to learn to play the game . eventually you ' ll learn that there isn ' t a set skill build or item build and it is very dependent on the line up of the enemy team . by the way in no way am i a pro .\\n\", '\\n', \"ya don ' t say\\n\"]\n",
            "---------------------------------------------\n",
            "File Nme:/content//drive/My Drive/Colab_Notebooks/Reddit_data/Reddit_Clean_Data_text_2005_2012/RC_2012-07_csv_parsed_3\n",
            "[\"i always thought it would be sort of like life after college , had you been in a fraternity . the frat in no way limits who you can hang out with , but you have the back of your frat brothers always . if in slytherin , you ' re more likely to hire a slytherin for a job , rather than a ravenclaw .\\n\", '\\n', 'yes  finally someone understands me\\n', '\\n', \"i got this a few months ago , i haven ' t received any additional emails or spam from them .  only catch is i got addicted to the bars that taste like snickers .\\n\"]\n",
            "---------------------------------------------\n",
            "File Nme:/content//drive/My Drive/Colab_Notebooks/Reddit_data/Reddit_Clean_Data_text_2005_2012/RC_2012-07_csv_parsed_4\n",
            "['hello redditrofiler --- 4 points 47 minutes ago 73i am a bot and so can you .\\n', '\\n', \"i mean season 4 i can understand to wait off on , it ' s been less than year .\\n\", '\\n', 'you underestimate my lack of attenti\\n']\n",
            "---------------------------------------------\n",
            "File Nme:/content//drive/My Drive/Colab_Notebooks/Reddit_data/Reddit_Clean_Data_text_2005_2012/RC_2012-07_csv_parsed_5\n",
            "[\"i ' d actually agree on the regulation thing . people oversimplify massively regarding that . pro and against regulation aren ' t stances . regarding all that other shit you have to say about gold i don ' t care about gold . i understand motives for small inflation . also i ' m at a function and haven ' t been capable of discussing this for hours so im out good bye .\\n\", '\\n', \"it ' s similar to a piece from lost ' s soundtrack actually , the melody is present in several songs , but not the same . nice find , though .\\n\", '\\n', \"spacechem does a better job of teaching about programming , i think . it ' s certainly not direct there ' s no programming language involved , but the theory is pretty much all there .  you have input and output , loops , variables , objects , and the goal is to write the most efficient program possible .\\n\"]\n",
            "---------------------------------------------\n",
            "File Nme:/content//drive/My Drive/Colab_Notebooks/Reddit_data/Reddit_Clean_Data_text_2005_2012/RC_2012-07_csv_parsed_6\n",
            "['this guy must hate directv\\n', '\\n', 'i see what you are , now . you are a mastermind . an evil , hilarious , mastermind .\\n', '\\n', \"oh .  i think that ' s just them trying to think of a similar animal to combine with an animal idiom . rhino - elephant in the roomthe monks taught all life is precious .  even that of the tiniest spider - flyslower than a snail - slothi doubt we ' ll see them .\\n\"]\n",
            "---------------------------------------------\n",
            "File Nme:/content//drive/My Drive/Colab_Notebooks/Reddit_data/Reddit_Clean_Data_text_2005_2012/RC_2012-07_csv_parsed_7\n",
            "[\"dammit , i was there . i keep meaning to go to an lsc thing and then i accidentally go to something where some of you are and i don ' t know it\\n\", '\\n', \"i ' ve lost to this guy .  a lot .  i ' m talking like fingers and toes a lot .  and i concur .  play with people who are above your level because you will learn the most . watch battle reports that involve the faction you ' re playing and see how they do things .  watch to the end because some of them have excellent feedback in regards to what they forgot to do or what they wish they ' d done differently in a game . as you get a few months of play under your belt , try to watch battle reports and see where you would take the army or what spellsabilities you would use in certain situations .  see how that compares to what the player actually does and how it turns out for them . the number one thing other than being a good sport to others is * don ' t beat yourself up for making bone - head moves or forgetting to do something and never let someone allow you to take back your choice and do it over .  you need to learn and will learn from your mistakes .  even high tier tournament players make many mistakes that cost them games .  there are a lot of rules , don ' t expect yourself to learn and memorize all of the immediately .  a great investment is a rule book for yourself so you can look up what you don ' t know and either get yourself your faction book or at least get the faction cards so that you can proxy up an army and see how it plays for you before you invest a bunch of money into something that doesn ' t work .\\n\", '\\n', 'do a lot of countries outside the us have open borders im not as familiar with world politics as i should be ... i normally hate politics and avoid it in general\\n']\n",
            "---------------------------------------------\n",
            "File Nme:/content//drive/My Drive/Colab_Notebooks/Reddit_data/Reddit_Clean_Data_text_2005_2012/RC_2012-09_csv_parsed_2\n",
            "['leo , larry , lionel , luther , landon , luke , lenny\\n', '\\n', \"why is it creepy to find girls sexually attractive shouldn ' t they both be bad for the same reasons , if anything\\n\", '\\n', 'love the old mans pose .\\n']\n",
            "---------------------------------------------\n",
            "File Nme:/content//drive/My Drive/Colab_Notebooks/Reddit_data/Reddit_Clean_Data_text_2005_2012/RC_2012-09_csv_parsed_3\n",
            "[\"yup , you know your from toronto when you ' ve been to every place shown in the photos .\\n\", '\\n', \"here is what the linked quickmeme image says in case the site goes down or you can ' t reach ittitle rafflesmeme socially awkward penguin * get name entered in raffle * hope your name isn ' t called ^ direct ^ background ^ translatethis comment was left by a bot to help people who can ' t access quickmeme images for any reason . some of those reasons are described on my faq page . more information about me can be found in my first ama\\n\", '\\n', 'sorry but cops might be your best choice now\\n']\n",
            "---------------------------------------------\n",
            "File Nme:/content//drive/My Drive/Colab_Notebooks/Reddit_data/Reddit_Clean_Data_text_2005_2012/RC_2012-09_csv_parsed_4\n",
            "['thats kool - aid , and kind of racist\\n', '\\n', 'i work under a rock\\n', '\\n', \"both those trades sounds like a steal for you . you got a reggie bush who ' s on a tear . bjge who ' s also doing extremely well teaming up with aj green as the rb for the team i know you don ' t have him but both are well . then antonio gates is returning who ' s coming back and should be a quality te and lance moore he ' s on and off since the no offense is hard to predict if you ' re not brees , graham , sproles possibly colston too . but you ' ll still have percy harvin and dt . you ' re just improving you ' re line up .... if not then at least pull the trigger on the forte trade . strengthen up your rb ' s .\\n\"]\n",
            "---------------------------------------------\n",
            "File Nme:/content//drive/My Drive/Colab_Notebooks/Reddit_data/Reddit_Clean_Data_text_2005_2012/RC_2012-09_csv_parsed_7\n",
            "[\"contrast this with cocaine , where people have died from ods due to mistakingly taking a larger dose than tey intended . i think this is in large part due to adulterants and things used to cut cocaine .  when i lived in central america the cocaine we had was basically as pure as it can be , as it was often the stuff that was needed to be packed as small as possible for transport .  basically a gram there might end up being ten here , and ironically , it was about 10x less expensive , so rich ex - pats were taking * huge * amounts of it every day ... yet deaths from cocaine overdose were unheard of .   most alcohol - related deaths are due either to indirect causes  traffic accidents  or chronic illness following long term use  liver failure and cancer in particular . don ' t forget also that alcohol withdrawal can be deadly\\n\", '\\n', 'it was . they have them up on public transport here .\\n', '\\n', \"and the height of the chevy reduced its torque . and also , it ' s a big pile of heavy metal .\\n\"]\n",
            "---------------------------------------------\n",
            "File Nme:/content//drive/My Drive/Colab_Notebooks/Reddit_data/Reddit_Clean_Data_text_2005_2012/RC_2012-09_csv_parsed_8\n",
            "['yep . texas\\n', '\\n', \"android 4 . x ' s stock browser ' s thumb controls are kinda relevant .  they appear in an arc centered on your thumb if you slide from the leftright edge toward center .\\n\", '\\n', 'now i do . thanks\\n']\n",
            "---------------------------------------------\n",
            "File Nme:/content//drive/My Drive/Colab_Notebooks/Reddit_data/Reddit_Clean_Data_text_2005_2012/RC_2012-10_csv_parsed_1\n",
            "['hondas are definitely a more simple bike than a triumph . easier to find parts as well .\\n', '\\n', 'at mine in canada we have one run by the undergrad student union more of a loud music type bar and one run by the grad student union much more low - key pub , guiness on tap and servers know how to pour it , good indian food .\\n', '\\n', \"democratic backed dodd - frank wanted to set up a fund that would have made it so banks had to set aside money in the case of a meltdown and so they wouldn ' t have to use taxpayer money , but still a funny meme .\\n\"]\n",
            "---------------------------------------------\n"
          ],
          "name": "stdout"
        }
      ]
    },
    {
      "cell_type": "code",
      "metadata": {
        "id": "fCS5m2Nbu8zi",
        "colab_type": "code",
        "colab": {}
      },
      "source": [
        "\n"
      ],
      "execution_count": null,
      "outputs": []
    }
  ]
}