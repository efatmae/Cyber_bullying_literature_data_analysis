{
 "cells": [
  {
   "cell_type": "code",
   "execution_count": 2,
   "metadata": {
    "collapsed": true
   },
   "outputs": [],
   "source": [
    "import pandas as pd\n",
    "import matplotlib.pyplot as plt\n",
    "import numpy as np\n",
    "%matplotlib inline"
   ]
  },
  {
   "cell_type": "code",
   "execution_count": 3,
   "metadata": {
    "collapsed": false
   },
   "outputs": [],
   "source": [
    "ref_df = pd.read_csv(\"Data/clean_cyber_bullying_references.csv\")"
   ]
  },
  {
   "cell_type": "code",
   "execution_count": 4,
   "metadata": {
    "collapsed": false
   },
   "outputs": [
    {
     "data": {
      "text/plain": [
       "Index([u'Unnamed: 0', u'Paper', u'year', u'category', u'read',\n",
       "       u'Definition of Cyber-Bullyning', u'Type of Cyber-bullying',\n",
       "       u'Preprocessing', u'Language', u'Dataset', u'Dataset positive sample',\n",
       "       u'Dataset negative sample', u'Data Downlaoded',\n",
       "       u'Data Collection process', u'Oversampleing pst instances',\n",
       "       u'Text Feature', u'Psycological features', u'User info features',\n",
       "       u'Sentiment features', u'WE', u'Other features', u'ML model',\n",
       "       u'Deel Learning model', u'Innovative model', u'baselines', u'Test set',\n",
       "       u'Test positive ex.', u'Test negative ex.', u'Accuracy', u'Precision',\n",
       "       u'Recall', u'F1', u'AUC', u'venue', u'Comments',\n",
       "       u'dataset on local disk', u'Unnamed: 35'],\n",
       "      dtype='object')"
      ]
     },
     "execution_count": 4,
     "metadata": {},
     "output_type": "execute_result"
    }
   ],
   "source": [
    "ref_df.columns"
   ]
  },
  {
   "cell_type": "code",
   "execution_count": 5,
   "metadata": {
    "collapsed": false
   },
   "outputs": [
    {
     "data": {
      "text/plain": [
       "92"
      ]
     },
     "execution_count": 5,
     "metadata": {},
     "output_type": "execute_result"
    }
   ],
   "source": [
    "len(ref_df)"
   ]
  },
  {
   "cell_type": "code",
   "execution_count": 6,
   "metadata": {
    "collapsed": false
   },
   "outputs": [
    {
     "data": {
      "text/plain": [
       "year    92\n",
       "dtype: int64"
      ]
     },
     "execution_count": 6,
     "metadata": {},
     "output_type": "execute_result"
    }
   ],
   "source": [
    "ref_df[[\"year\"]].count()"
   ]
  },
  {
   "cell_type": "code",
   "execution_count": 7,
   "metadata": {
    "collapsed": true
   },
   "outputs": [],
   "source": [
    "ref_df = ref_df.fillna(0)"
   ]
  },
  {
   "cell_type": "code",
   "execution_count": 8,
   "metadata": {
    "collapsed": true
   },
   "outputs": [],
   "source": [
    "ref_df.to_csv(\"Data/clean_cyber_bullying_references.csv\")"
   ]
  },
  {
   "cell_type": "code",
   "execution_count": 9,
   "metadata": {
    "collapsed": false
   },
   "outputs": [
    {
     "data": {
      "text/html": [
       "<div>\n",
       "<style>\n",
       "    .dataframe thead tr:only-child th {\n",
       "        text-align: right;\n",
       "    }\n",
       "\n",
       "    .dataframe thead th {\n",
       "        text-align: left;\n",
       "    }\n",
       "\n",
       "    .dataframe tbody tr th {\n",
       "        vertical-align: top;\n",
       "    }\n",
       "</style>\n",
       "<table border=\"1\" class=\"dataframe\">\n",
       "  <thead>\n",
       "    <tr style=\"text-align: right;\">\n",
       "      <th></th>\n",
       "      <th>Unnamed: 0</th>\n",
       "      <th>Paper</th>\n",
       "      <th>year</th>\n",
       "      <th>category</th>\n",
       "      <th>read</th>\n",
       "      <th>Definition of Cyber-Bullyning</th>\n",
       "      <th>Type of Cyber-bullying</th>\n",
       "      <th>Preprocessing</th>\n",
       "      <th>Language</th>\n",
       "      <th>Dataset</th>\n",
       "      <th>...</th>\n",
       "      <th>Test negative ex.</th>\n",
       "      <th>Accuracy</th>\n",
       "      <th>Precision</th>\n",
       "      <th>Recall</th>\n",
       "      <th>F1</th>\n",
       "      <th>AUC</th>\n",
       "      <th>venue</th>\n",
       "      <th>Comments</th>\n",
       "      <th>dataset on local disk</th>\n",
       "      <th>Unnamed: 35</th>\n",
       "    </tr>\n",
       "  </thead>\n",
       "  <tbody>\n",
       "    <tr>\n",
       "      <th>0</th>\n",
       "      <td>0</td>\n",
       "      <td>Detecting flames and insults in text</td>\n",
       "      <td>2008</td>\n",
       "      <td>Cyber-Bullyiing detetction</td>\n",
       "      <td>y</td>\n",
       "      <td>0</td>\n",
       "      <td>insults</td>\n",
       "      <td>1</td>\n",
       "      <td>English</td>\n",
       "      <td>0</td>\n",
       "      <td>...</td>\n",
       "      <td>0</td>\n",
       "      <td>0</td>\n",
       "      <td>0</td>\n",
       "      <td>0</td>\n",
       "      <td>0</td>\n",
       "      <td>0</td>\n",
       "      <td>0</td>\n",
       "      <td>0</td>\n",
       "      <td>0</td>\n",
       "      <td>0</td>\n",
       "    </tr>\n",
       "    <tr>\n",
       "      <th>1</th>\n",
       "      <td>1</td>\n",
       "      <td>Detection of harassment on web 2.0</td>\n",
       "      <td>2009</td>\n",
       "      <td>Cyber-Bullyiing detetction</td>\n",
       "      <td>y</td>\n",
       "      <td>communication in which a user intentionally an...</td>\n",
       "      <td>personal insult harassment in which a user sys...</td>\n",
       "      <td>1</td>\n",
       "      <td>English</td>\n",
       "      <td>kongregate (4,802)\\nslashdot (4,303)\\nmyspace ...</td>\n",
       "      <td>...</td>\n",
       "      <td>0</td>\n",
       "      <td>0</td>\n",
       "      <td>kongregate (0.35)\\nslashdot (0.32)\\nmyspace (0...</td>\n",
       "      <td>kongregate (0.59)\\nslashdot (0.27)\\nmyspace (0...</td>\n",
       "      <td>kongregate (0.44)\\nslashdot (0.29)\\nmyspace (0...</td>\n",
       "      <td>0</td>\n",
       "      <td>the Content Analysis in the WEB (CAW 2.0)</td>\n",
       "      <td>0</td>\n",
       "      <td>0</td>\n",
       "      <td>0</td>\n",
       "    </tr>\n",
       "    <tr>\n",
       "      <th>2</th>\n",
       "      <td>2</td>\n",
       "      <td>text mining and cyber crime</td>\n",
       "      <td>2010</td>\n",
       "      <td>sex predatory detetction</td>\n",
       "      <td>y</td>\n",
       "      <td>0</td>\n",
       "      <td>0</td>\n",
       "      <td>0</td>\n",
       "      <td>0</td>\n",
       "      <td>0</td>\n",
       "      <td>...</td>\n",
       "      <td>0</td>\n",
       "      <td>0</td>\n",
       "      <td>0</td>\n",
       "      <td>0</td>\n",
       "      <td>0</td>\n",
       "      <td>0</td>\n",
       "      <td>0</td>\n",
       "      <td>0</td>\n",
       "      <td>0</td>\n",
       "      <td>0</td>\n",
       "    </tr>\n",
       "    <tr>\n",
       "      <th>3</th>\n",
       "      <td>3</td>\n",
       "      <td>Detecting the Presence of Cyber-bullying Using...</td>\n",
       "      <td>2011</td>\n",
       "      <td>Cyber-Bullyiing detetction</td>\n",
       "      <td>y</td>\n",
       "      <td>willful and repeated harm inflicted through th...</td>\n",
       "      <td>flooding, masquerade, flaming,\\ntrolling, hara...</td>\n",
       "      <td>0</td>\n",
       "      <td>0</td>\n",
       "      <td>Myspace</td>\n",
       "      <td>...</td>\n",
       "      <td>0</td>\n",
       "      <td>0.58</td>\n",
       "      <td>0</td>\n",
       "      <td>0</td>\n",
       "      <td>0</td>\n",
       "      <td>0</td>\n",
       "      <td>undergradyate thesis</td>\n",
       "      <td>0</td>\n",
       "      <td>0</td>\n",
       "      <td>0</td>\n",
       "    </tr>\n",
       "    <tr>\n",
       "      <th>4</th>\n",
       "      <td>4</td>\n",
       "      <td>Modeling the detection of textual cyberbullying</td>\n",
       "      <td>2011</td>\n",
       "      <td>Cyber-Bullyiing detetction</td>\n",
       "      <td>y</td>\n",
       "      <td>when the internet, cell phones or other device...</td>\n",
       "      <td>sexualty\\nrace\\nintelligence\\nphysical attributes</td>\n",
       "      <td>1</td>\n",
       "      <td>English</td>\n",
       "      <td>YouTube(50000)</td>\n",
       "      <td>...</td>\n",
       "      <td>0</td>\n",
       "      <td>sexuality - rule based (0/80)\\nRace - SVM (0.7...</td>\n",
       "      <td>0</td>\n",
       "      <td>0</td>\n",
       "      <td>0</td>\n",
       "      <td>0</td>\n",
       "      <td>AAAI</td>\n",
       "      <td>0</td>\n",
       "      <td>0</td>\n",
       "      <td>0</td>\n",
       "    </tr>\n",
       "  </tbody>\n",
       "</table>\n",
       "<p>5 rows × 37 columns</p>\n",
       "</div>"
      ],
      "text/plain": [
       "   Unnamed: 0                                              Paper  year  \\\n",
       "0           0               Detecting flames and insults in text  2008   \n",
       "1           1                 Detection of harassment on web 2.0  2009   \n",
       "2           2                        text mining and cyber crime  2010   \n",
       "3           3  Detecting the Presence of Cyber-bullying Using...  2011   \n",
       "4           4    Modeling the detection of textual cyberbullying  2011   \n",
       "\n",
       "                     category read  \\\n",
       "0  Cyber-Bullyiing detetction    y   \n",
       "1  Cyber-Bullyiing detetction    y   \n",
       "2    sex predatory detetction    y   \n",
       "3  Cyber-Bullyiing detetction    y   \n",
       "4  Cyber-Bullyiing detetction    y   \n",
       "\n",
       "                       Definition of Cyber-Bullyning  \\\n",
       "0                                                  0   \n",
       "1  communication in which a user intentionally an...   \n",
       "2                                                  0   \n",
       "3  willful and repeated harm inflicted through th...   \n",
       "4  when the internet, cell phones or other device...   \n",
       "\n",
       "                              Type of Cyber-bullying Preprocessing Language  \\\n",
       "0                                            insults             1  English   \n",
       "1  personal insult harassment in which a user sys...             1  English   \n",
       "2                                                  0             0        0   \n",
       "3  flooding, masquerade, flaming,\\ntrolling, hara...             0        0   \n",
       "4  sexualty\\nrace\\nintelligence\\nphysical attributes             1  English   \n",
       "\n",
       "                                             Dataset     ...      \\\n",
       "0                                                  0     ...       \n",
       "1  kongregate (4,802)\\nslashdot (4,303)\\nmyspace ...     ...       \n",
       "2                                                  0     ...       \n",
       "3                                            Myspace     ...       \n",
       "4                                     YouTube(50000)     ...       \n",
       "\n",
       "  Test negative ex.                                           Accuracy  \\\n",
       "0                 0                                                  0   \n",
       "1                 0                                                  0   \n",
       "2                 0                                                  0   \n",
       "3                 0                                               0.58   \n",
       "4                 0  sexuality - rule based (0/80)\\nRace - SVM (0.7...   \n",
       "\n",
       "                                           Precision  \\\n",
       "0                                                  0   \n",
       "1  kongregate (0.35)\\nslashdot (0.32)\\nmyspace (0...   \n",
       "2                                                  0   \n",
       "3                                                  0   \n",
       "4                                                  0   \n",
       "\n",
       "                                              Recall  \\\n",
       "0                                                  0   \n",
       "1  kongregate (0.59)\\nslashdot (0.27)\\nmyspace (0...   \n",
       "2                                                  0   \n",
       "3                                                  0   \n",
       "4                                                  0   \n",
       "\n",
       "                                                  F1 AUC  \\\n",
       "0                                                  0   0   \n",
       "1  kongregate (0.44)\\nslashdot (0.29)\\nmyspace (0...   0   \n",
       "2                                                  0   0   \n",
       "3                                                  0   0   \n",
       "4                                                  0   0   \n",
       "\n",
       "                                       venue Comments dataset on local disk  \\\n",
       "0                                          0        0                     0   \n",
       "1  the Content Analysis in the WEB (CAW 2.0)        0                     0   \n",
       "2                                          0        0                     0   \n",
       "3                       undergradyate thesis        0                     0   \n",
       "4                                       AAAI        0                     0   \n",
       "\n",
       "  Unnamed: 35  \n",
       "0           0  \n",
       "1           0  \n",
       "2           0  \n",
       "3           0  \n",
       "4           0  \n",
       "\n",
       "[5 rows x 37 columns]"
      ]
     },
     "execution_count": 9,
     "metadata": {},
     "output_type": "execute_result"
    }
   ],
   "source": [
    "ref_df.head(5)"
   ]
  },
  {
   "cell_type": "code",
   "execution_count": 10,
   "metadata": {
    "collapsed": true
   },
   "outputs": [],
   "source": [
    "ref_grp = ref_df.groupby(\"year\")"
   ]
  },
  {
   "cell_type": "code",
   "execution_count": 11,
   "metadata": {
    "collapsed": false
   },
   "outputs": [
    {
     "data": {
      "text/plain": [
       "12"
      ]
     },
     "execution_count": 11,
     "metadata": {},
     "output_type": "execute_result"
    }
   ],
   "source": [
    "len(ref_grp[\"year\"])"
   ]
  },
  {
   "cell_type": "code",
   "execution_count": 12,
   "metadata": {
    "collapsed": true
   },
   "outputs": [],
   "source": [
    "years = []\n",
    "for i,g in ref_grp[\"year\"]:\n",
    "    years.append(i)"
   ]
  },
  {
   "cell_type": "code",
   "execution_count": 13,
   "metadata": {
    "collapsed": false
   },
   "outputs": [
    {
     "data": {
      "text/plain": [
       "[2008, 2009, 2010, 2011, 2012, 2013, 2014, 2015, 2016, 2017, 2018, 2019]"
      ]
     },
     "execution_count": 13,
     "metadata": {},
     "output_type": "execute_result"
    }
   ],
   "source": [
    "years"
   ]
  },
  {
   "cell_type": "code",
   "execution_count": 14,
   "metadata": {
    "collapsed": false
   },
   "outputs": [
    {
     "data": {
      "text/plain": [
       "<bound method DataFrameGroupBy.count of <pandas.core.groupby.DataFrameGroupBy object at 0x10dd71dd0>>"
      ]
     },
     "execution_count": 14,
     "metadata": {},
     "output_type": "execute_result"
    }
   ],
   "source": [
    "ref_grp.count"
   ]
  },
  {
   "cell_type": "code",
   "execution_count": null,
   "metadata": {
    "collapsed": false
   },
   "outputs": [],
   "source": [
    "fig, ax = plt.subplots(figsize=(15,7))\n",
    "ref_df.groupby('year').count().unstack().plot(ax=ax)"
   ]
  },
  {
   "cell_type": "code",
   "execution_count": 1,
   "metadata": {
    "collapsed": false
   },
   "outputs": [
    {
     "ename": "NameError",
     "evalue": "name 'plt' is not defined",
     "output_type": "error",
     "traceback": [
      "\u001b[0;31m---------------------------------------------------------------------------\u001b[0m",
      "\u001b[0;31mNameError\u001b[0m                                 Traceback (most recent call last)",
      "\u001b[0;32m<ipython-input-1-0294fc75b62c>\u001b[0m in \u001b[0;36m<module>\u001b[0;34m()\u001b[0m\n\u001b[0;32m----> 1\u001b[0;31m \u001b[0mplt\u001b[0m\u001b[0;34m.\u001b[0m\u001b[0mscatter\u001b[0m\u001b[0;34m(\u001b[0m\u001b[0myears\u001b[0m\u001b[0;34m,\u001b[0m\u001b[0mref_grp\u001b[0m\u001b[0;34m[\u001b[0m\u001b[0;34m\"year\"\u001b[0m\u001b[0;34m]\u001b[0m\u001b[0;34m.\u001b[0m\u001b[0mcount\u001b[0m\u001b[0;34m(\u001b[0m\u001b[0;34m)\u001b[0m\u001b[0;34m)\u001b[0m\u001b[0;34m\u001b[0m\u001b[0m\n\u001b[0m\u001b[1;32m      2\u001b[0m \u001b[0mplt\u001b[0m\u001b[0;34m.\u001b[0m\u001b[0mplot\u001b[0m\u001b[0;34m(\u001b[0m\u001b[0myears\u001b[0m\u001b[0;34m,\u001b[0m\u001b[0mref_grp\u001b[0m\u001b[0;34m[\u001b[0m\u001b[0;34m\"year\"\u001b[0m\u001b[0;34m]\u001b[0m\u001b[0;34m.\u001b[0m\u001b[0mcount\u001b[0m\u001b[0;34m(\u001b[0m\u001b[0;34m)\u001b[0m\u001b[0;34m)\u001b[0m\u001b[0;34m\u001b[0m\u001b[0m\n\u001b[1;32m      3\u001b[0m \u001b[0mplt\u001b[0m\u001b[0;34m.\u001b[0m\u001b[0mxlabel\u001b[0m\u001b[0;34m(\u001b[0m\u001b[0;34m'Year'\u001b[0m\u001b[0;34m)\u001b[0m\u001b[0;34m\u001b[0m\u001b[0m\n\u001b[1;32m      4\u001b[0m \u001b[0mplt\u001b[0m\u001b[0;34m.\u001b[0m\u001b[0mylabel\u001b[0m\u001b[0;34m(\u001b[0m\u001b[0;34m'Number of publications'\u001b[0m\u001b[0;34m)\u001b[0m\u001b[0;34m\u001b[0m\u001b[0m\n\u001b[1;32m      5\u001b[0m \u001b[0mplt\u001b[0m\u001b[0;34m.\u001b[0m\u001b[0mxticks\u001b[0m\u001b[0;34m(\u001b[0m\u001b[0myears\u001b[0m\u001b[0;34m)\u001b[0m\u001b[0;34m\u001b[0m\u001b[0m\n",
      "\u001b[0;31mNameError\u001b[0m: name 'plt' is not defined"
     ]
    }
   ],
   "source": [
    "plt.scatter(years,ref_grp[\"year\"].count())\n",
    "plt.plot(years,ref_grp[\"year\"].count())\n",
    "plt.xlabel('Year')\n",
    "plt.ylabel('Number of publications')\n",
    "plt.xticks(years)\n",
    "plt.savefig(\"papers_timeLine.png\")"
   ]
  },
  {
   "cell_type": "code",
   "execution_count": null,
   "metadata": {
    "collapsed": true
   },
   "outputs": [],
   "source": []
  }
 ],
 "metadata": {
  "kernelspec": {
   "display_name": "Python 2",
   "language": "python",
   "name": "python2"
  }
 },
 "nbformat": 4,
 "nbformat_minor": 2
}
