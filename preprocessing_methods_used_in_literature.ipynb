{
 "cells": [
  {
   "cell_type": "code",
   "execution_count": 1,
   "metadata": {
    "collapsed": true
   },
   "outputs": [],
   "source": [
    "import pandas as pd"
   ]
  },
  {
   "cell_type": "code",
   "execution_count": 2,
   "metadata": {
    "collapsed": true
   },
   "outputs": [],
   "source": [
    "ref_df = pd.read_csv(\"Data/clean_cyber_bullying_references.csv\")"
   ]
  },
  {
   "cell_type": "code",
   "execution_count": 3,
   "metadata": {
    "collapsed": true
   },
   "outputs": [],
   "source": [
    "ref_df = ref_df[['Paper', 'year', 'category', 'Definition of Cyber-Bullyning',\n",
    "       'Type of Cyber-bullying', 'Dataset', 'Dataset positive sample',\n",
    "       'Dataset negative sample', 'Data Downlaoded', 'Data Collection process',\n",
    "       'Oversampleing pst instances','Preprocessing', 'Text Feature', 'Psycological features',\n",
    "       'User info features', 'Sentiment features', 'WE', 'Other features',\n",
    "       'ML model', 'Deel Learning model', 'Innovative model', 'baselines',\n",
    "       'Test set', 'Test positive ex.', 'Test negative ex.', 'Accuracy',\n",
    "       'Precision', 'Recall', 'AUC', 'F1', 'venue', 'Comments']]"
   ]
  },
  {
   "cell_type": "code",
   "execution_count": 4,
   "metadata": {
    "collapsed": true
   },
   "outputs": [],
   "source": [
    "preprocessing_methods_used = ref_df[ref_df[\"Preprocessing\"] != \"0\"]"
   ]
  },
  {
   "cell_type": "code",
   "execution_count": 5,
   "metadata": {
    "collapsed": false
   },
   "outputs": [
    {
     "data": {
      "text/plain": [
       "36"
      ]
     },
     "execution_count": 5,
     "metadata": {},
     "output_type": "execute_result"
    }
   ],
   "source": [
    "len(preprocessing_methods_used)"
   ]
  },
  {
   "cell_type": "code",
   "execution_count": 6,
   "metadata": {
    "collapsed": true
   },
   "outputs": [],
   "source": [
    "preprocessing_methods_used.to_csv(\"Data/Preprocessing_methods_used.csv\")"
   ]
  },
  {
   "cell_type": "code",
   "execution_count": null,
   "metadata": {
    "collapsed": true
   },
   "outputs": [],
   "source": []
  }
 ],
 "metadata": {
  "kernelspec": {
   "display_name": "Python 2",
   "language": "python",
   "name": "python2"
  },
  "language_info": {
   "codemirror_mode": {
    "name": "ipython",
    "version": 2
   },
   "file_extension": ".py",
   "mimetype": "text/x-python",
   "name": "python",
   "nbconvert_exporter": "python",
   "pygments_lexer": "ipython2",
   "version": "2.7.16"
  }
 },
 "nbformat": 4,
 "nbformat_minor": 4
}
