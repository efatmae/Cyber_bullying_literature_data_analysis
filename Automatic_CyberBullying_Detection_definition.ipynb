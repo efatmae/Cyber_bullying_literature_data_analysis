{
 "cells": [
  {
   "cell_type": "code",
   "execution_count": 1,
   "metadata": {
    "collapsed": true
   },
   "outputs": [],
   "source": [
    "import pandas as pd"
   ]
  },
  {
   "cell_type": "code",
   "execution_count": 2,
   "metadata": {
    "collapsed": true
   },
   "outputs": [],
   "source": [
    "ref_df = pd.read_csv(\"Data/clean_cyber_bullying_references.csv\")"
   ]
  },
  {
   "cell_type": "code",
   "execution_count": 16,
   "metadata": {
    "collapsed": false
   },
   "outputs": [
    {
     "data": {
      "text/plain": [
       "Index([u'Paper', u'year', u'category', u'Definition of Cyber-Bullyning',\n",
       "       u'Type of Cyber-bullying', u'Dataset', u'Dataset positive sample',\n",
       "       u'Dataset negative sample', u'Data Downlaoded',\n",
       "       u'Data Collection process', u'Oversampleing pst instances',\n",
       "       u'Preprocessing', u'Text Feature', u'Psycological features',\n",
       "       u'User info features', u'Sentiment features', u'WE', u'Other features',\n",
       "       u'ML model', u'Deel Learning model', u'Innovative model', u'baselines',\n",
       "       u'Test set', u'Test positive ex.', u'Test negative ex.', u'Accuracy',\n",
       "       u'Precision', u'Recall', u'AUC', u'F1', u'venue', u'Comments'],\n",
       "      dtype='object')"
      ]
     },
     "execution_count": 16,
     "metadata": {},
     "output_type": "execute_result"
    }
   ],
   "source": [
    "ref_df.columns"
   ]
  },
  {
   "cell_type": "code",
   "execution_count": 3,
   "metadata": {
    "collapsed": true
   },
   "outputs": [],
   "source": [
    "ref_df = ref_df[['Paper', 'year', 'category', 'Definition of Cyber-Bullyning',\n",
    "       'Type of Cyber-bullying', 'Dataset', 'Dataset positive sample',\n",
    "       'Dataset negative sample', 'Data Downlaoded', 'Data Collection process',\n",
    "       'Oversampleing pst instances','Preprocessing', 'Text Feature', 'Psycological features',\n",
    "       'User info features', 'Sentiment features', 'WE', 'Other features',\n",
    "       'ML model', 'Deel Learning model', 'Innovative model', 'baselines',\n",
    "       'Test set', 'Test positive ex.', 'Test negative ex.', 'Accuracy',\n",
    "       'Precision', 'Recall', 'AUC', 'F1', 'venue', 'Comments']]"
   ]
  },
  {
   "cell_type": "markdown",
   "metadata": {},
   "source": [
    "# CB definition"
   ]
  },
  {
   "cell_type": "code",
   "execution_count": 4,
   "metadata": {
    "collapsed": true
   },
   "outputs": [],
   "source": [
    "Definition_of_CyberBullyning_used = ref_df[(ref_df[\"Definition of Cyber-Bullyning\"]!= '0')]"
   ]
  },
  {
   "cell_type": "code",
   "execution_count": 5,
   "metadata": {
    "collapsed": false
   },
   "outputs": [
    {
     "data": {
      "text/plain": [
       "65"
      ]
     },
     "execution_count": 5,
     "metadata": {},
     "output_type": "execute_result"
    }
   ],
   "source": [
    "len(Definition_of_CyberBullyning_used)"
   ]
  },
  {
   "cell_type": "code",
   "execution_count": 6,
   "metadata": {
    "collapsed": false
   },
   "outputs": [
    {
     "data": {
      "text/plain": [
       "1     communication in which a user intentionally an...\n",
       "3     willful and repeated harm inflicted through th...\n",
       "4     when the internet, cell phones or other device...\n",
       "5     any communication activity using cyber technol...\n",
       "6     when a bully assult their victim over the inte...\n",
       "7     cyberbullying can be defined as the following:...\n",
       "8     cyberbullying as willful and repeated harm inf...\n",
       "11    they define offenisive  sentence as a sentence...\n",
       "12    an aggressive intentional act carried out by a...\n",
       "13    an aggressive intentional act carried out by a...\n",
       "14    an aggressive intentional act carried out by a...\n",
       "15    when the internet, cell phones or other device...\n",
       "16    traditional bullying definition from the persp...\n",
       "19    the fact that a person is abused, threated ot ...\n",
       "25    Cyberbullying is defined as an aggressive, int...\n",
       "26    an aggressive intentional act carried out by a...\n",
       "27    wilful and repeated harm inflicted through the...\n",
       "28    unconsiderate action taken against individuals...\n",
       "29    Cyberbullying is defined as an aggressive, int...\n",
       "30    It is defined as a person tormenting, threaten...\n",
       "31    the continuous intentional aggression over an ...\n",
       "33    the process of sending messages over electroni...\n",
       "34    the use of information technology to harm or h...\n",
       "35    ASB is defined as any unconsiderable action ta...\n",
       "37    bullying is targeting an individual or group o...\n",
       "38    considering cyber bullying a sub category in c...\n",
       "39    considering cyber bullying a sub category in c...\n",
       "40    is a rude, insulting, offensive, teasing demor...\n",
       "41    use of information technoogy to harm or harass...\n",
       "42    is intentional and aggressive act accomplished...\n",
       "                            ...                        \n",
       "51    The National Crime Prevention Council in the U...\n",
       "52    Cyberbullying may be defined as the following:...\n",
       "53    any harassment that occurs via the internet, c...\n",
       "54    is an aggressive intentional actions performed...\n",
       "56    is an aggressive, intentional act conducted by...\n",
       "58    0Cyberbullying behaviors are defined as aggres...\n",
       "59    bullying that takes place using electronic tec...\n",
       "60    A recent Pew Research Center study defines on ...\n",
       "61    Cyberbullying and\\ncyberaggression can take ma...\n",
       "62    It is defined as the phenomena of using\\nthe i...\n",
       "64    a content taht is published online by an indiv...\n",
       "65    the use of information and communication techn...\n",
       "67    willful and repeated harm inflicted through th...\n",
       "68    Cyberbullying has been defined by the National...\n",
       "69    Cyberbullying, which can be defined as ‘when t...\n",
       "70    we identify that hate speech\\n(1) targets indi...\n",
       "71    Cyberbullying is define\\nas an aggressive onli...\n",
       "72    As a phenomenon, cyberbullying is defined as a...\n",
       "74    cyberbullying is defined as an individual’s in...\n",
       "75    a use of information and communication technol...\n",
       "77    any violent intentional action conducted by in...\n",
       "78    repetitive hostile behaviour using digital med...\n",
       "80    Cyberbullying is bullying that takes place via...\n",
       "84    Cyberbullying, commonly defined as the electro...\n",
       "85    They don't provide a proper definition. They u...\n",
       "86    as a repetitive act\\nof aggression that involv...\n",
       "87    describes the use of electronic forms of commu...\n",
       "89    Cyberbullying is characterized as any fierce, ...\n",
       "90    the use of Internet, cell phones,\\nvideo game ...\n",
       "91    willful and repeated harm inflicted through th...\n",
       "Name: Definition of Cyber-Bullyning, Length: 65, dtype: object"
      ]
     },
     "execution_count": 6,
     "metadata": {},
     "output_type": "execute_result"
    }
   ],
   "source": [
    "Definition_of_CyberBullyning_used[\"Definition of Cyber-Bullyning\"]"
   ]
  },
  {
   "cell_type": "code",
   "execution_count": 7,
   "metadata": {
    "collapsed": true
   },
   "outputs": [],
   "source": [
    "def_groups = Definition_of_CyberBullyning_used.groupby(\"Definition of Cyber-Bullyning\")"
   ]
  },
  {
   "cell_type": "code",
   "execution_count": 8,
   "metadata": {
    "collapsed": false
   },
   "outputs": [
    {
     "data": {
      "text/plain": [
       "60"
      ]
     },
     "execution_count": 8,
     "metadata": {},
     "output_type": "execute_result"
    }
   ],
   "source": [
    "len(def_groups)"
   ]
  },
  {
   "cell_type": "code",
   "execution_count": 9,
   "metadata": {
    "collapsed": true
   },
   "outputs": [],
   "source": [
    "Definition_of_CyberBullyning_used.to_csv(\"Data/Definition_of_CyberBullyning_used.csv\")"
   ]
  },
  {
   "cell_type": "markdown",
   "metadata": {},
   "source": [
    "# Type of bullying"
   ]
  },
  {
   "cell_type": "code",
   "execution_count": 10,
   "metadata": {
    "collapsed": true
   },
   "outputs": [],
   "source": [
    "types_of_CyberBullyning_used = ref_df[ref_df[\"Type of Cyber-bullying\"] != '0']"
   ]
  },
  {
   "cell_type": "code",
   "execution_count": 11,
   "metadata": {
    "collapsed": false
   },
   "outputs": [
    {
     "data": {
      "text/plain": [
       "56"
      ]
     },
     "execution_count": 11,
     "metadata": {},
     "output_type": "execute_result"
    }
   ],
   "source": [
    "len(types_of_CyberBullyning_used)"
   ]
  },
  {
   "cell_type": "code",
   "execution_count": 12,
   "metadata": {
    "collapsed": true
   },
   "outputs": [],
   "source": [
    "cb_type_group = types_of_CyberBullyning_used.groupby(\"Type of Cyber-bullying\")"
   ]
  },
  {
   "cell_type": "code",
   "execution_count": 13,
   "metadata": {
    "collapsed": false
   },
   "outputs": [
    {
     "data": {
      "text/plain": [
       "42"
      ]
     },
     "execution_count": 13,
     "metadata": {},
     "output_type": "execute_result"
    }
   ],
   "source": [
    "len(cb_type_group)"
   ]
  },
  {
   "cell_type": "code",
   "execution_count": 14,
   "metadata": {
    "collapsed": true
   },
   "outputs": [],
   "source": [
    "types_of_CyberBullyning_used.to_csv(\"Data/types_of_CyberBullyning_used.csv\")"
   ]
  },
  {
   "cell_type": "code",
   "execution_count": 15,
   "metadata": {
    "collapsed": false
   },
   "outputs": [
    {
     "data": {
      "text/plain": [
       "60"
      ]
     },
     "execution_count": 15,
     "metadata": {},
     "output_type": "execute_result"
    }
   ],
   "source": [
    "60   "
   ]
  },
  {
   "cell_type": "code",
   "execution_count": null,
   "metadata": {
    "collapsed": true
   },
   "outputs": [],
   "source": []
  }
 ],
 "metadata": {
  "kernelspec": {
   "display_name": "Python 2",
   "language": "python",
   "name": "python2"
  },
  "language_info": {
   "codemirror_mode": {
    "name": "ipython",
    "version": 2
   },
   "file_extension": ".py",
   "mimetype": "text/x-python",
   "name": "python",
   "nbconvert_exporter": "python",
   "pygments_lexer": "ipython2",
   "version": "2.7.16"
  }
 },
 "nbformat": 4,
 "nbformat_minor": 2
}
