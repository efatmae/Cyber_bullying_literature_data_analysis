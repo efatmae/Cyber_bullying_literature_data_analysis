{
  "nbformat": 4,
  "nbformat_minor": 0,
  "metadata": {
    "colab": {
      "name": "Download_parser_reddit_data.ipynb",
      "provenance": [],
      "collapsed_sections": [],
      "mount_file_id": "137QWaZnw3a-UBt_oDWCm9QVsOyCsR8L1",
      "authorship_tag": "ABX9TyPnlBVG/VjElYIIG8ofF8d7",
      "include_colab_link": true
    },
    "kernelspec": {
      "name": "python3",
      "display_name": "Python 3"
    }
  },
  "cells": [
    {
      "cell_type": "markdown",
      "metadata": {
        "id": "view-in-github",
        "colab_type": "text"
      },
      "source": [
        "<a href=\"https://colab.research.google.com/github/efatmae/Cyber_bullying_literature_data_analysis/blob/master/Download_parser_reddit_data.ipynb\" target=\"_parent\"><img src=\"https://colab.research.google.com/assets/colab-badge.svg\" alt=\"Open In Colab\"/></a>"
      ]
    },
    {
      "cell_type": "code",
      "metadata": {
        "id": "2cDrfAOzO8zZ",
        "colab_type": "code",
        "colab": {
          "base_uri": "https://localhost:8080/",
          "height": 35
        },
        "outputId": "04ae41fc-3c14-4d3a-9b69-84eb3b6a1cef"
      },
      "source": [
        "from google.colab import drive\n",
        "drive.mount('/content/drive')\n",
        " \n",
        "import os"
      ],
      "execution_count": null,
      "outputs": [
        {
          "output_type": "stream",
          "text": [
            "Drive already mounted at /content/drive; to attempt to forcibly remount, call drive.mount(\"/content/drive\", force_remount=True).\n"
          ],
          "name": "stdout"
        }
      ]
    },
    {
      "cell_type": "markdown",
      "metadata": {
        "id": "Jd1OuQVtn8-b",
        "colab_type": "text"
      },
      "source": [
        "# 2) For big files Split Json files into chuncks"
      ]
    },
    {
      "cell_type": "code",
      "metadata": {
        "id": "MCR6h68vviO2",
        "colab_type": "code",
        "colab": {
          "base_uri": "https://localhost:8080/",
          "height": 35
        },
        "outputId": "e63cd40d-7d0e-4e6c-87c1-806e0f3af255"
      },
      "source": [
        "os.chdir(\"/content/\")\n",
        "!pwd\n"
      ],
      "execution_count": null,
      "outputs": [
        {
          "output_type": "stream",
          "text": [
            "/content\n"
          ],
          "name": "stdout"
        }
      ]
    },
    {
      "cell_type": "code",
      "metadata": {
        "id": "8bYYzeM90NwF",
        "colab_type": "code",
        "colab": {}
      },
      "source": [
        "! lsof | grep deleted"
      ],
      "execution_count": null,
      "outputs": []
    },
    {
      "cell_type": "code",
      "metadata": {
        "id": "v03D65iiyA12",
        "colab_type": "code",
        "colab": {}
      },
      "source": [
        "!mv RC_2012-07 \"/content//drive/My Drive/Colab_Notebooks/Reddit_data/\""
      ],
      "execution_count": null,
      "outputs": []
    },
    {
      "cell_type": "code",
      "metadata": {
        "id": "zJqDGmHgjRYA",
        "colab_type": "code",
        "colab": {}
      },
      "source": [
        "os.chdir(\"/content//drive/My Drive/Colab_Notebooks/Reddit_data/Reddit_Data_CSV_2005-2010/\")\n",
        "!du -shc ./*"
      ],
      "execution_count": null,
      "outputs": []
    },
    {
      "cell_type": "code",
      "metadata": {
        "id": "ASex08G4GIr2",
        "colab_type": "code",
        "colab": {}
      },
      "source": [
        "! split -l 1000000 \"/content//drive/My Drive/Colab_Notebooks/Reddit_data/RC_2012-01_chuncks/RC_2012-01\" \"/content//drive/My Drive/Colab_Notebooks/Reddit_data/RC_2012-01_chuncks/\""
      ],
      "execution_count": null,
      "outputs": []
    },
    {
      "cell_type": "code",
      "metadata": {
        "id": "FQilJcSxr7JP",
        "colab_type": "code",
        "colab": {}
      },
      "source": [
        "! split -l 1000000 \"/content//drive/My Drive/Colab_Notebooks/Reddit_data/RC_2012-02_chuncks/RC_2012-02\" \"/content//drive/My Drive/Colab_Notebooks/Reddit_data/RC_2012-02_chuncks/\""
      ],
      "execution_count": null,
      "outputs": []
    },
    {
      "cell_type": "code",
      "metadata": {
        "id": "eQvGfyICr7LK",
        "colab_type": "code",
        "colab": {}
      },
      "source": [
        "! split -l 1000000 \"/content//drive/My Drive/Colab_Notebooks/Reddit_data/RC_2012-03_chuncks/RC_2012-03\" \"/content//drive/My Drive/Colab_Notebooks/Reddit_data/RC_2012-03_chuncks/\"\n",
        "\n",
        "#!jq -c . < \"/content//drive/My Drive/Colab_Notebooks/Reddit_data/RC_2012-03_chuncks/RC_2012-03\" | split -l 1000000 \"/content//drive/My Drive/Colab_Notebooks/Reddit_data/RC_2012-03_chuncks/RC_2012-03\"  \"/content//drive/My Drive/Colab_Notebooks/Reddit_data/RC_2012-03_chuncks/\""
      ],
      "execution_count": null,
      "outputs": []
    },
    {
      "cell_type": "code",
      "metadata": {
        "id": "pSXU75GVr7NS",
        "colab_type": "code",
        "colab": {}
      },
      "source": [
        "! split -l 1000000 \"/content//drive/My Drive/Colab_Notebooks/Reddit_data/RC_2012-04_chuncks/RC_2012-04\" \"/content//drive/My Drive/Colab_Notebooks/Reddit_data/RC_2012-04_chuncks/\""
      ],
      "execution_count": null,
      "outputs": []
    },
    {
      "cell_type": "code",
      "metadata": {
        "id": "QUp_9Qgdr7Pf",
        "colab_type": "code",
        "colab": {}
      },
      "source": [
        "! split -l 1000000 \"/content//drive/My Drive/Colab_Notebooks/Reddit_data/RC_2012-05_chuncks/RC_2012-05\" \"/content//drive/My Drive/Colab_Notebooks/Reddit_data/RC_2012-05_chuncks/\""
      ],
      "execution_count": null,
      "outputs": []
    },
    {
      "cell_type": "code",
      "metadata": {
        "id": "NZdQ2TA9knOI",
        "colab_type": "code",
        "colab": {
          "base_uri": "https://localhost:8080/",
          "height": 35
        },
        "outputId": "115d7a4a-84a8-4abc-cde9-aa005e1421f4"
      },
      "source": [
        "! split -l 1000000 \"/content//drive/My Drive/Colab_Notebooks/Reddit_data/RC_2012-06_chuncks/RC_2012-06\" \"/content//drive/My Drive/Colab_Notebooks/Reddit_data/RC_2012-06_chuncks/\""
      ],
      "execution_count": null,
      "outputs": [
        {
          "output_type": "stream",
          "text": [
            "split: '/content//drive/My Drive/Colab_Notebooks/Reddit_data/RC_2012-06_chuncks/RC_2012-06': Input/output error\n"
          ],
          "name": "stdout"
        }
      ]
    },
    {
      "cell_type": "code",
      "metadata": {
        "id": "DVhP36CoksFW",
        "colab_type": "code",
        "colab": {}
      },
      "source": [
        "! split -l 1000000 \"/content//drive/My Drive/Colab_Notebooks/Reddit_data/RC_2012-07_chuncks/RC_2012-07\" \"/content//drive/My Drive/Colab_Notebooks/Reddit_data/RC_2012-07_chuncks/\""
      ],
      "execution_count": null,
      "outputs": []
    },
    {
      "cell_type": "code",
      "metadata": {
        "id": "P_qz3iIJkxyQ",
        "colab_type": "code",
        "colab": {}
      },
      "source": [
        "! split -l 1000000 \"/content//drive/My Drive/Colab_Notebooks/Reddit_data/RC_2012-08_chuncks/RC_2012-08\" \"/content//drive/My Drive/Colab_Notebooks/Reddit_data/RC_2012-08_chuncks/\""
      ],
      "execution_count": null,
      "outputs": []
    },
    {
      "cell_type": "code",
      "metadata": {
        "id": "JOXk5jC_k0lw",
        "colab_type": "code",
        "colab": {}
      },
      "source": [
        "! split -l 1000000 \"/content//drive/My Drive/Colab_Notebooks/Reddit_data/RC_2012-09_chuncks/RC_2012-09\" \"/content//drive/My Drive/Colab_Notebooks/Reddit_data/RC_2012-09_chuncks/\""
      ],
      "execution_count": null,
      "outputs": []
    },
    {
      "cell_type": "code",
      "metadata": {
        "id": "GbK294dHk37R",
        "colab_type": "code",
        "colab": {}
      },
      "source": [
        "! split -l 1000000 \"/content//drive/My Drive/Colab_Notebooks/Reddit_data/RC_2012-10_chuncks/RC_2012-10\" \"/content//drive/My Drive/Colab_Notebooks/Reddit_data/RC_2012-10_chuncks/\""
      ],
      "execution_count": null,
      "outputs": []
    },
    {
      "cell_type": "code",
      "metadata": {
        "id": "EYbfOK11k-Io",
        "colab_type": "code",
        "colab": {}
      },
      "source": [
        "! split -l 1000000 \"/content//drive/My Drive/Colab_Notebooks/Reddit_data/RC_2012-11_chuncks/RC_2012-11\" \"/content//drive/My Drive/Colab_Notebooks/Reddit_data/RC_2012-11_chuncks/\""
      ],
      "execution_count": null,
      "outputs": []
    },
    {
      "cell_type": "code",
      "metadata": {
        "id": "7gMm7f3TlBg3",
        "colab_type": "code",
        "colab": {}
      },
      "source": [
        "! split -l 1000000 \"/content//drive/My Drive/Colab_Notebooks/Reddit_data/RC_2012-12_chuncks/RC_2012-12\" \"/content//drive/My Drive/Colab_Notebooks/Reddit_data/RC_2012-12_chuncks/\""
      ],
      "execution_count": null,
      "outputs": []
    },
    {
      "cell_type": "code",
      "metadata": {
        "id": "NH5DywAuznha",
        "colab_type": "code",
        "colab": {
          "base_uri": "https://localhost:8080/",
          "height": 35
        },
        "outputId": "0e2327e2-ca96-4a83-e9f9-6d2dbc592928"
      },
      "source": [
        "! head -n 5 \"/content/drive/My Drive/Colab_Notebooks/Reddit_data/RC_2012-04_chuncks/RC_2012-04\"\n"
      ],
      "execution_count": null,
      "outputs": [
        {
          "output_type": "stream",
          "text": [
            "head: error reading '/content//drive/My Drive/Colab_Notebooks/Reddit_data/RC_2012-04_chuncks/RC_2012-04': Input/output error\n"
          ],
          "name": "stdout"
        }
      ]
    },
    {
      "cell_type": "code",
      "metadata": {
        "id": "Y_6nZT6wzO5W",
        "colab_type": "code",
        "colab": {
          "base_uri": "https://localhost:8080/",
          "height": 127
        },
        "outputId": "35605dde-6e6b-4f79-c533-b1dca3624234"
      },
      "source": [
        "! head -n 5 \"/content//drive/My Drive/Colab_Notebooks/Reddit_data/RC_2011-01_chuncks/ab\""
      ],
      "execution_count": null,
      "outputs": [
        {
          "output_type": "stream",
          "text": [
            "{\"subreddit\":\"AskReddit\",\"body\":\"Please tell me you have a band...\",\"link_id\":\"t3_etf7l\",\"distinguished\":null,\"score_hidden\":false,\"retrieved_on\":1426674608,\"parent_id\":\"t1_c1at3zh\",\"edited\":false,\"controversiality\":0,\"gilded\":0,\"ups\":1,\"subreddit_id\":\"t5_2qh1i\",\"author\":\"[deleted]\",\"archived\":true,\"created_utc\":\"1294287032\",\"author_flair_text\":null,\"name\":\"t1_c1blols\",\"id\":\"c1blols\",\"score\":1,\"author_flair_css_class\":null,\"downs\":0}\n",
            "{\"author_flair_text\":null,\"created_utc\":\"1294287032\",\"name\":\"t1_c1blolt\",\"author_flair_css_class\":null,\"id\":\"c1blolt\",\"score\":0,\"downs\":0,\"subreddit_id\":\"t5_2r4eo\",\"ups\":0,\"author\":\"english_major\",\"archived\":true,\"score_hidden\":false,\"edited\":false,\"parent_id\":\"t3_ex106\",\"retrieved_on\":1426674608,\"gilded\":0,\"controversiality\":0,\"subreddit\":\"AMA\",\"body\":\"Pics?  We know that you have some.\",\"link_id\":\"t3_ex106\",\"distinguished\":null}\n",
            "{\"author\":\"[deleted]\",\"archived\":true,\"subreddit_id\":\"t5_2qqjc\",\"ups\":1,\"downs\":0,\"author_flair_css_class\":null,\"id\":\"c1blolu\",\"score\":1,\"name\":\"t1_c1blolu\",\"created_utc\":\"1294287032\",\"author_flair_text\":null,\"distinguished\":null,\"link_id\":\"t3_ewyi8\",\"body\":\"[deleted]\",\"subreddit\":\"todayilearned\",\"gilded\":0,\"controversiality\":0,\"edited\":false,\"parent_id\":\"t3_ewyi8\",\"retrieved_on\":1426674608,\"score_hidden\":false}\n",
            "{\"distinguished\":null,\"link_id\":\"t3_ewwrc\",\"body\":\"This is how Reddit faps.\",\"subreddit\":\"pics\",\"gilded\":0,\"controversiality\":0,\"edited\":false,\"parent_id\":\"t3_ewwrc\",\"retrieved_on\":1426674608,\"score_hidden\":false,\"archived\":true,\"author\":\"H8rade\",\"subreddit_id\":\"t5_2qh0u\",\"ups\":1,\"downs\":0,\"author_flair_css_class\":null,\"score\":1,\"id\":\"c1blolv\",\"name\":\"t1_c1blolv\",\"created_utc\":\"1294287033\",\"author_flair_text\":null}\n",
            "{\"author_flair_css_class\":null,\"id\":\"c1blolw\",\"score\":1,\"downs\":0,\"created_utc\":\"1294287034\",\"author_flair_text\":null,\"name\":\"t1_c1blolw\",\"subreddit_id\":\"t5_2r5vt\",\"ups\":1,\"archived\":true,\"author\":\"zach2093\",\"gilded\":0,\"controversiality\":0,\"score_hidden\":false,\"edited\":false,\"retrieved_on\":1426674608,\"parent_id\":\"t3_ewz2q\",\"link_id\":\"t3_ewz2q\",\"distinguished\":null,\"subreddit\":\"DoesAnybodyElse\",\"body\":\"Im pretty sure all grandmas can make cookies and brownies from scratch, without measuring, and blind folded. I guess it comes with age.\"}\n"
          ],
          "name": "stdout"
        }
      ]
    },
    {
      "cell_type": "markdown",
      "metadata": {
        "id": "rID4tT1zn4om",
        "colab_type": "text"
      },
      "source": [
        "# 3) Save Json Data Chunchs into csv files"
      ]
    },
    {
      "cell_type": "code",
      "metadata": {
        "id": "aPza_L-udi9a",
        "colab_type": "code",
        "colab": {
          "base_uri": "https://localhost:8080/",
          "height": 35
        },
        "outputId": "3f4ea8f5-4a15-4910-9f00-8e65177fcc70"
      },
      "source": [
        "from google.colab import drive\n",
        "drive.mount('/content/drive')\n",
        "\n",
        "import os\n",
        "\n",
        "import pandas as pd\n",
        "import json\n",
        "import glob\n",
        "\n",
        "def read_multi_json_files_into_dataframe(folder_path):\n",
        "    all_files = glob.glob(folder_path + \"/*\")\n",
        "    data_list = []\n",
        "    for filename in all_files:\n",
        "      #if filename != \"/content//drive/My Drive/Colab_Notebooks/Reddit_data/RC_2011-07_chuncks_2/RC_2011-07\":\n",
        "          with open(filename) as json_file:  \n",
        "            print(filename) \n",
        "            data = json_file.readlines()\n",
        "            # this line below may take at least 8-10 minutes of processing for 4-5 million rows. It converts all strings in list to actual json objects. \n",
        "            data = list(map(json.loads, data)) \n",
        "\n",
        "          data_df = pd.DataFrame(data)\n",
        "          #data_df = pd.read_csv(filename, index_col=None, names=['controversiality',\"body\",\"score\",\"ups\",'subreddit'])\n",
        "          #print(df.columns)\n",
        "          #print(df.head(6))\n",
        "          #count = count + len(df)\n",
        "          data_list.append(data_df)\n",
        "    print(len(data_list))\n",
        "    return data_list"
      ],
      "execution_count": null,
      "outputs": [
        {
          "output_type": "stream",
          "text": [
            "Drive already mounted at /content/drive; to attempt to forcibly remount, call drive.mount(\"/content/drive\", force_remount=True).\n"
          ],
          "name": "stdout"
        }
      ]
    },
    {
      "cell_type": "code",
      "metadata": {
        "id": "tD4KIZxXsqhS",
        "colab_type": "code",
        "colab": {
          "base_uri": "https://localhost:8080/",
          "height": 89
        },
        "outputId": "c4d397f4-d0a1-4a62-9cc1-64a63e6b78cd"
      },
      "source": [
        "data_df_list = read_multi_json_files_into_dataframe(\"/content//drive/My Drive/Colab_Notebooks/Reddit_data/RC_2012-12_chuncks_9\")"
      ],
      "execution_count": null,
      "outputs": [
        {
          "output_type": "stream",
          "text": [
            "/content//drive/My Drive/Colab_Notebooks/Reddit_data/RC_2012-12_chuncks_9/ad\n",
            "/content//drive/My Drive/Colab_Notebooks/Reddit_data/RC_2012-12_chuncks_9/ae\n",
            "/content//drive/My Drive/Colab_Notebooks/Reddit_data/RC_2012-12_chuncks_9/af\n",
            "3\n"
          ],
          "name": "stdout"
        }
      ]
    },
    {
      "cell_type": "code",
      "metadata": {
        "id": "IGldAcgabYci",
        "colab_type": "code",
        "colab": {}
      },
      "source": [
        "data_df=pd.concat(data_df_list[:])\n",
        "data_df = data_df[['controversiality',\"body\",\"score\",\"ups\",'subreddit']]"
      ],
      "execution_count": null,
      "outputs": []
    },
    {
      "cell_type": "code",
      "metadata": {
        "id": "3mT9nddbsyHD",
        "colab_type": "code",
        "colab": {
          "base_uri": "https://localhost:8080/",
          "height": 204
        },
        "outputId": "f1707ea1-59fb-470c-ef25-8b6f35084c24"
      },
      "source": [
        "data_df.head(5)"
      ],
      "execution_count": null,
      "outputs": [
        {
          "output_type": "execute_result",
          "data": {
            "text/html": [
              "<div>\n",
              "<style scoped>\n",
              "    .dataframe tbody tr th:only-of-type {\n",
              "        vertical-align: middle;\n",
              "    }\n",
              "\n",
              "    .dataframe tbody tr th {\n",
              "        vertical-align: top;\n",
              "    }\n",
              "\n",
              "    .dataframe thead th {\n",
              "        text-align: right;\n",
              "    }\n",
              "</style>\n",
              "<table border=\"1\" class=\"dataframe\">\n",
              "  <thead>\n",
              "    <tr style=\"text-align: right;\">\n",
              "      <th></th>\n",
              "      <th>controversiality</th>\n",
              "      <th>body</th>\n",
              "      <th>score</th>\n",
              "      <th>ups</th>\n",
              "      <th>subreddit</th>\n",
              "    </tr>\n",
              "  </thead>\n",
              "  <tbody>\n",
              "    <tr>\n",
              "      <th>0</th>\n",
              "      <td>0</td>\n",
              "      <td>To me it looks like a Toothless plushie with a...</td>\n",
              "      <td>1</td>\n",
              "      <td>1</td>\n",
              "      <td>lotr</td>\n",
              "    </tr>\n",
              "    <tr>\n",
              "      <th>1</th>\n",
              "      <td>0</td>\n",
              "      <td>What's sad is how often this will actually wor...</td>\n",
              "      <td>1</td>\n",
              "      <td>1</td>\n",
              "      <td>AdviceAnimals</td>\n",
              "    </tr>\n",
              "    <tr>\n",
              "      <th>2</th>\n",
              "      <td>0</td>\n",
              "      <td>I'm a guy and I pretty much agree. Probably fo...</td>\n",
              "      <td>1</td>\n",
              "      <td>1</td>\n",
              "      <td>scifi</td>\n",
              "    </tr>\n",
              "    <tr>\n",
              "      <th>3</th>\n",
              "      <td>0</td>\n",
              "      <td>Talk about professionalism!</td>\n",
              "      <td>1</td>\n",
              "      <td>1</td>\n",
              "      <td>funny</td>\n",
              "    </tr>\n",
              "    <tr>\n",
              "      <th>4</th>\n",
              "      <td>0</td>\n",
              "      <td>Also, assuming you are some kind of contributi...</td>\n",
              "      <td>2</td>\n",
              "      <td>2</td>\n",
              "      <td>Dexter</td>\n",
              "    </tr>\n",
              "  </tbody>\n",
              "</table>\n",
              "</div>"
            ],
            "text/plain": [
              "   controversiality  ...      subreddit\n",
              "0                 0  ...           lotr\n",
              "1                 0  ...  AdviceAnimals\n",
              "2                 0  ...          scifi\n",
              "3                 0  ...          funny\n",
              "4                 0  ...         Dexter\n",
              "\n",
              "[5 rows x 5 columns]"
            ]
          },
          "metadata": {
            "tags": []
          },
          "execution_count": 4
        }
      ]
    },
    {
      "cell_type": "code",
      "metadata": {
        "id": "QV-5BF4p4bqr",
        "colab_type": "code",
        "colab": {}
      },
      "source": [
        "data_df.to_csv(\"/content//drive/My Drive/Colab_Notebooks/Reddit_data/Reddit_Data_CSV_2005-2010/RC_2012-12\"+\"_csv_parsed_9.csv\")"
      ],
      "execution_count": null,
      "outputs": []
    },
    {
      "cell_type": "code",
      "metadata": {
        "id": "JjJjRiili0J1",
        "colab_type": "code",
        "colab": {}
      },
      "source": [
        "#x = pd.read_csv(\"/content//drive/My Drive/Colab_Notebooks/Reddit_data/Reddit_Data_CSV_2005-2010/RC_2012-01\"+\"_csv_parsed_1.csv\", dtype='unicode')\n",
        "#dtype='unicode'"
      ],
      "execution_count": null,
      "outputs": []
    },
    {
      "cell_type": "code",
      "metadata": {
        "id": "JYps0I-wknLR",
        "colab_type": "code",
        "colab": {}
      },
      "source": [
        "#x.head(5)"
      ],
      "execution_count": null,
      "outputs": []
    },
    {
      "cell_type": "code",
      "metadata": {
        "id": "EtN23lRL7sj1",
        "colab_type": "code",
        "colab": {}
      },
      "source": [
        "os.kill(os.getpid(), 9)"
      ],
      "execution_count": null,
      "outputs": []
    },
    {
      "cell_type": "code",
      "metadata": {
        "id": "yaXzSKt9gd3P",
        "colab_type": "code",
        "colab": {}
      },
      "source": [
        "data_2005[\"stickied\"].unique()"
      ],
      "execution_count": null,
      "outputs": []
    },
    {
      "cell_type": "markdown",
      "metadata": {
        "id": "GAYqUBdlCUPV",
        "colab_type": "text"
      },
      "source": [
        "# 1) Download Reddit data \n",
        "1.   Download file **(Function: download_reddit_file)**\n",
        "2.   Unzip downloaded file **(Function: unzip_reddit_file)**\n",
        "3.   Read Json file in pandas dataframe, extract columns [\"controversiality\",\"body\",\"score\",\"ups\",\"subreddit\"] and save to csv files **(Function: extract_reddit_data_to_csv)**.\n",
        "4. Remove the Json file to save disk space **(Function: remove_file)**\n",
        "\n",
        "Note: if the files are too big, it is better to download, unzip, then jump to Part 2 and 3 to split files into chuncks for easire processing\n",
        "\n",
        "\n",
        "\n"
      ]
    },
    {
      "cell_type": "code",
      "metadata": {
        "id": "qY5_AM7mWhzQ",
        "colab_type": "code",
        "colab": {}
      },
      "source": [
        "# List of files in the Pushshift website\n",
        "files_5 = [\"2005-12\"]\n",
        "files_6 = [\"2006-01\",\"2006-02\",\"2006-03\",\"2006-04\",\"2006-05\",\"2006-06\",\"2006-07\",\"2006-08\",\"2006-09\",\"2006-09\",\"2006-10\",\"2006-11\",\"2006-12\"]\n",
        "files_7 = [\"2007-01\",\"2007-02\",\"2007-03\",\"2007-04\",\"2007-05\",\"2007-06\",\"2007-07\",\"2007-08\",\"2007-09\",\"2007-09\",\"2007-10\",\"2007-11\",\"2007-12\"]\n",
        "files_8 = [\"2008-01\",\"2008-02\",\"2008-03\",\"2008-04\",\"2008-05\",\"2008-06\",\"2008-07\",\"2008-08\",\"2008-09\",\"2008-09\",\"2008-10\",\"2008-11\",\"2008-12\"]\n",
        "files_9 = [\"2009-05\",\"2009-06\",\"2009-07\",\"2009-08\",\"2009-09\",\"2009-09\",\"2009-10\",\"2009-11\",\"2009-12\"]\n",
        "files_10 = [\"2010-01\",\"2010-02\",\"2010-03\",\"2010-04\",\"2010-05\",\"2010-06\",\"2010-07\",\"2010-08\",\"2010-09\",\"2010-09\",\"2010-10\",\"2010-11\",\"2010-12\"]\n",
        "files_11 = [\"2011-10\",\"2011-11\",\"2011-12\"]\n",
        "files_12 = [\"2012-08\",\"2012-09\",\"2012-10\",\"2012-11\",\"2012-12\"]\n",
        "files_13 = [\"2013-01\",\"2013-02\",\"2013-03\",\"2013-04\",\"2013-05\",\"2013-06\",\"2013-07\",\"2013-08\",\"2013-09\",\"2013-10\",\"2013-11\",\"2013-12\"]\n",
        "files_14 = [\"2014-01\",\"2014-02\",\"2014-03\",\"2014-04\",\"2014-05\",\"2014-06\",\"2014-07\",\"2014-08\",\"2014-09\",\"2014-10\",\"2014-11\",\"2014-12\"]\n",
        "files_15 = [\"2015-02\",\"2015-03\",\"2015-04\",\"2015-05\",\"2015-06\",\"2015-07\",\"2015-08\",\"2015-09\",\"2015-10\",\"2015-11\",\"2015-12\"]\n",
        "files_16 = [\"2016-01\",\"2016-02\",\"2016-03\",\"2016-04\",\"2016-05\",\"2016-06\",\"2016-07\",\"2016-08\",\"2016-09\",\"2016-09\",\"2016-10\",\"2016-11\",\"2016-12\"]\n",
        "files_17 = [\"2017-01\",\"2017-02\",\"2017-03\",\"2017-04\",\"2017-05\",\"2017-06\",\"2017-07\",\"2017-08\",\"2017-09\",\"2017-09\",\"2017-10\",\"2017-11\",\"2017-12\"]\n",
        "files_18 = [\"2018-01\",\"2018-02\",\"2018-03\",\"2018-04\",\"2018-05\",\"2018-06\",\"2018-07\",\"2018-08\",\"2018-09\",\"2018-09\",\"2018-10\",\"2018-11\",\"2018-12\"]\n",
        "files_19 = [\"2019-01\",\"2019-02\",\"2019-03\",\"2019-04\",\"2019-05\",\"2019-06\",\"2019-07\",\"2019-08\",\"2019-09\",\"2019-09\",\"2019-10\",\"2019-11\"]\n"
      ],
      "execution_count": null,
      "outputs": []
    },
    {
      "cell_type": "code",
      "metadata": {
        "id": "5VKswtuWbsHi",
        "colab_type": "code",
        "colab": {}
      },
      "source": [
        "def download_reddit_file(filename, path_to_download):\n",
        "  download_file = \"files.pushshift.io/reddit/comments/RC_\" + filename + \".bz2\"\n",
        "  path_to_download = \"/\" + path_to_download\n",
        "  print(download_file)\n",
        "  print(path_to_download)\n",
        "  !(cd $path_to_download; curl -O $download_file)\n",
        "  print(filename + \" Downloaded\")"
      ],
      "execution_count": null,
      "outputs": []
    },
    {
      "cell_type": "code",
      "metadata": {
        "id": "B41h9a-IyDOg",
        "colab_type": "code",
        "colab": {}
      },
      "source": [
        "def unzip_reddit_file(filename, path_to_unzip):\n",
        "  filename = \"RC_\" + filename + \".bz2\"\n",
        "  path_to_unzip = \"/\" + path_to_unzip\n",
        "  !(cd $path_to_unzip; bzip2 -d $filename)\n",
        "  print(filename + \" file unziped\")"
      ],
      "execution_count": null,
      "outputs": []
    },
    {
      "cell_type": "code",
      "metadata": {
        "id": "2phuGZptaWi0",
        "colab_type": "code",
        "colab": {}
      },
      "source": [
        "def extract_reddit_data_to_csv(file_name, columns_list=['controversiality',\"body\",\"score\",\"ups\",'subreddit']):\n",
        "  import pandas as pd\n",
        "  import json\n",
        "  corpus = \"/content/drive/My\\ Drive/Colab_Notebooks/Reddit_data/\"\n",
        "  home = \"/content\"\n",
        "  file_name = \"RC_\" + file_name \n",
        "  !cp $file_name $corpus\n",
        "  print(\"file \"+file_name+ \" copied\")\n",
        "  csv_file_name =  file_name + \"_csv_parsed.csv\"\n",
        "  try:\n",
        "    with open(file_name,'r') as json_file:      \n",
        "      data = json_file.readlines()\n",
        "      # this line below may take at least 8-10 minutes of processing for 4-5 million rows. It converts all strings in list to actual json objects. \n",
        "      data = list(map(json.loads, data)) \n",
        "    df = pd.DataFrame(data)\n",
        "    #[\"controversiality\",\"body\",\"score\",\"ups\",\"subreddit\"]\n",
        "    df = df[columns_list]\n",
        "    df.to_csv(\"/content/drive/My Drive/Colab_Notebooks/Reddit_data/\"+csv_file_name)\n",
        "  except:\n",
        "    print(\"error in extracting data\")  \n",
        "  \n",
        "  print(file_name + \"Data extrcted\")"
      ],
      "execution_count": null,
      "outputs": []
    },
    {
      "cell_type": "code",
      "metadata": {
        "id": "cPF-UR9I0avk",
        "colab_type": "code",
        "colab": {}
      },
      "source": [
        "def remove_file(file_name, file_path):\n",
        "  file_name = \"RC_\" + file_name \n",
        "  file_path = \"/\" + file_path\n",
        "  !(cd $file_path; rm $file_name)\n",
        "  print(file_name + \" removed\")"
      ],
      "execution_count": null,
      "outputs": []
    },
    {
      "cell_type": "code",
      "metadata": {
        "id": "qImolyUaqTst",
        "colab_type": "code",
        "colab": {
          "base_uri": "https://localhost:8080/",
          "height": 35
        },
        "outputId": "2c9cbd11-3479-4cc7-c13d-f7f725ac0847"
      },
      "source": [
        "print(\"#######################################################33\")"
      ],
      "execution_count": null,
      "outputs": [
        {
          "output_type": "stream",
          "text": [
            "#######################################################33\n"
          ],
          "name": "stdout"
        }
      ]
    },
    {
      "cell_type": "markdown",
      "metadata": {
        "id": "xGZmDR_7D0Ns",
        "colab_type": "text"
      },
      "source": [
        "## Download every year seperately to save Ram and Disk space"
      ]
    },
    {
      "cell_type": "code",
      "metadata": {
        "id": "OxstdZBD1MCR",
        "colab_type": "code",
        "colab": {}
      },
      "source": [
        "drive.mount('/content/drive')\n",
        "for i in files_5:\n",
        "  download_reddit_file(i, \"content\")\n",
        "  unzip_reddit_file(i, \"content\")\n",
        "  extract_reddit_data_to_csv(i) \n",
        "  remove_file(i, \"content\")"
      ],
      "execution_count": null,
      "outputs": []
    },
    {
      "cell_type": "code",
      "metadata": {
        "id": "d2-KCW5zKTro",
        "colab_type": "code",
        "colab": {}
      },
      "source": [
        "drive.mount('/content/drive')\n",
        "for i in files_6:\n",
        "  download_reddit_file(i, \"content\")\n",
        "  unzip_reddit_file(i, \"/content//drive/My Drive/Colab_Notebooks/Reddit_data\")\n",
        "  extract_reddit_data_to_csv(i) \n",
        "  remove_file(i, \"content\")"
      ],
      "execution_count": null,
      "outputs": []
    },
    {
      "cell_type": "code",
      "metadata": {
        "id": "BozNr7PNKVIx",
        "colab_type": "code",
        "colab": {}
      },
      "source": [
        "drive.mount('/content/drive')\n",
        "for i in files_7:\n",
        "  download_reddit_file(i, \"content\")\n",
        "  unzip_reddit_file(i, \"content\")\n",
        "  extract_reddit_data_to_csv(i) \n",
        "  remove_file(i, \"content\")"
      ],
      "execution_count": null,
      "outputs": []
    },
    {
      "cell_type": "code",
      "metadata": {
        "id": "k9mdC8djor7O",
        "colab_type": "code",
        "colab": {}
      },
      "source": [
        "drive.mount('/content/drive')\n",
        "for i in files_8:\n",
        "  download_reddit_file(i, \"content\")\n",
        "  unzip_reddit_file(i, \"content\")\n",
        "  extract_reddit_data_to_csv(i) \n",
        "  remove_file(i, \"content\")"
      ],
      "execution_count": null,
      "outputs": []
    },
    {
      "cell_type": "code",
      "metadata": {
        "id": "ou5MyVXHKX2l",
        "colab_type": "code",
        "colab": {}
      },
      "source": [
        "drive.mount('/content/drive')\n",
        "for i in files_9:\n",
        "  download_reddit_file(i, \"content\")\n",
        "  unzip_reddit_file(i, \"content\")\n",
        "  extract_reddit_data_to_csv(i) \n",
        "  remove_file(i, \"content\")"
      ],
      "execution_count": null,
      "outputs": []
    },
    {
      "cell_type": "code",
      "metadata": {
        "id": "TtcJ28AyKZjR",
        "colab_type": "code",
        "colab": {}
      },
      "source": [
        "drive.mount('/content/drive')\n",
        "for i in files_10:\n",
        "  download_reddit_file(i, \"content\")\n",
        "  unzip_reddit_file(i, \"content\")\n",
        "  extract_reddit_data_to_csv(i) \n",
        "  remove_file(i, \"content\")"
      ],
      "execution_count": null,
      "outputs": []
    },
    {
      "cell_type": "code",
      "metadata": {
        "id": "e3eH_ypgKbrY",
        "colab_type": "code",
        "colab": {}
      },
      "source": [
        "drive.mount('/content/drive')\n",
        "for i in files_11:\n",
        "  download_reddit_file(i, \"content\")\n",
        "  unzip_reddit_file(i, \"content\")\n",
        "  fileNme = \"RC_\"+i\n",
        "  !mv $fileNme \"/content//drive/My Drive/Colab_Notebooks/Reddit_data/\"\n",
        " # extract_reddit_data_to_csv(i) \n",
        "  #remove_file(i, \"content\")"
      ],
      "execution_count": null,
      "outputs": []
    },
    {
      "cell_type": "code",
      "metadata": {
        "id": "iqoxEQc3KePa",
        "colab_type": "code",
        "colab": {}
      },
      "source": [
        "drive.mount('/content/drive')\n",
        "for i in files_12:\n",
        "  download_reddit_file(i, \"content\")\n",
        "  unzip_reddit_file(i, \"content\")\n",
        "  fileNme = \"/content/RC_\"+i\n",
        "  !mv $fileNme \"/content//drive/My Drive/Colab_Notebooks/Reddit_data/\"\n",
        " # extract_reddit_data_to_csv(i) \n",
        "  #remove_file(i, \"content\")"
      ],
      "execution_count": null,
      "outputs": []
    },
    {
      "cell_type": "code",
      "metadata": {
        "id": "l6b5jSwGKhSU",
        "colab_type": "code",
        "colab": {}
      },
      "source": [
        "drive.mount('/content/drive')\n",
        "for i in files_13:\n",
        "  download_reddit_file(i, \"content\")\n",
        "  unzip_reddit_file(i, \"content\")\n",
        "  !mv i \"/content//drive/My Drive/Colab_Notebooks/Reddit_data/\"\n",
        "  #extract_reddit_data_to_csv(i) \n",
        "  #remove_file(i, \"content\")"
      ],
      "execution_count": null,
      "outputs": []
    },
    {
      "cell_type": "code",
      "metadata": {
        "id": "qFLbGe0mKki7",
        "colab_type": "code",
        "colab": {}
      },
      "source": [
        "drive.mount('/content/drive')\n",
        "for i in files_14:\n",
        "  download_reddit_file(i, \"content\")\n",
        "  unzip_reddit_file(i, \"content\")\n",
        "  !mv i \"/content//drive/My Drive/Colab_Notebooks/Reddit_data/\"\n",
        "  #extract_reddit_data_to_csv(i) \n",
        "  #remove_file(i, \"content\")"
      ],
      "execution_count": null,
      "outputs": []
    },
    {
      "cell_type": "code",
      "metadata": {
        "id": "5RMuoz8tKnRg",
        "colab_type": "code",
        "colab": {}
      },
      "source": [
        "drive.mount('/content/drive')\n",
        "for i in files_15:\n",
        "  download_reddit_file(i, \"content\")\n",
        "  unzip_reddit_file(i, \"content\")\n",
        "  extract_reddit_data_to_csv(i) \n",
        "  remove_file(i, \"content\")"
      ],
      "execution_count": null,
      "outputs": []
    },
    {
      "cell_type": "code",
      "metadata": {
        "id": "9jgzG41CJIH3",
        "colab_type": "code",
        "colab": {}
      },
      "source": [
        ""
      ],
      "execution_count": null,
      "outputs": []
    },
    {
      "cell_type": "code",
      "metadata": {
        "id": "DIiCSmV7KpGO",
        "colab_type": "code",
        "colab": {}
      },
      "source": [
        "drive.mount('/content/drive')\n",
        "for i in files_16:\n",
        "  download_reddit_file(i, \"content\")\n",
        "  unzip_reddit_file(i, \"content\")\n",
        "  extract_reddit_data_to_csv(i) \n",
        "  remove_file(i, \"content\")"
      ],
      "execution_count": null,
      "outputs": []
    },
    {
      "cell_type": "code",
      "metadata": {
        "id": "nzMucNy4KrLz",
        "colab_type": "code",
        "colab": {}
      },
      "source": [
        "drive.mount('/content/drive')\n",
        "for i in files_17:\n",
        "  download_reddit_file(i, \"content\")\n",
        "  unzip_reddit_file(i, \"content\")\n",
        "  extract_reddit_data_to_csv(i) \n",
        "  remove_file(i, \"content\")"
      ],
      "execution_count": null,
      "outputs": []
    },
    {
      "cell_type": "code",
      "metadata": {
        "id": "oKE8xsv5Ktpf",
        "colab_type": "code",
        "colab": {}
      },
      "source": [
        "drive.mount('/content/drive')\n",
        "for i in files_18:\n",
        "  download_reddit_file(i, \"content\")\n",
        "  unzip_reddit_file(i, \"content\")\n",
        "  extract_reddit_data_to_csv(i) \n",
        "  #remove_file(i, \"content\")"
      ],
      "execution_count": null,
      "outputs": []
    },
    {
      "cell_type": "code",
      "metadata": {
        "id": "WzTeOuijKvMS",
        "colab_type": "code",
        "colab": {}
      },
      "source": [
        "drive.mount('/content/drive')\n",
        "for i in files_19:\n",
        "  download_reddit_file(i, \"content\")\n",
        "  unzip_reddit_file(i, \"content\")\n",
        "  extract_reddit_data_to_csv(i) \n",
        "  remove_file(i, \"content\")"
      ],
      "execution_count": null,
      "outputs": []
    },
    {
      "cell_type": "code",
      "metadata": {
        "id": "sqTmM6a9xG-Q",
        "colab_type": "code",
        "colab": {}
      },
      "source": [
        ""
      ],
      "execution_count": null,
      "outputs": []
    }
  ]
}